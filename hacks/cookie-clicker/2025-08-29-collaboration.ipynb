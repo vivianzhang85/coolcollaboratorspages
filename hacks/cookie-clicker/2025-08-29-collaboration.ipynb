{
 "cells": [
  {
   "cell_type": "markdown",
   "id": "e1dec388",
   "metadata": {},
   "source": [
    "---\n",
    "layout: lessonbase\n",
    "title: Collaberate to Learn OOP\n",
    "permalink: cookie-clicker-game-docs/collab/\n",
    "sidebar: true\n",
    "sidebar_title: Cookie Clicker\n",
    "lesson_links: [{url: /cookie-clicker-game-docs, text: 1. Introduction}, {url: /cookie-clicker-game-docs/oop, text: 2. OOP}, {url: /cookie-clicker-game-docs/class-architecture, text: 3. Classes}, {url: /cookie-clicker-game-docs/localstorage, text: 4. Localstorage},{url: /cookie-clicker-game-docs/quiz, text: 5. OOP Quiz}]\n",
    "enable_progress: true\n",
    "---\n"
   ]
  },
  {
   "cell_type": "markdown",
   "id": "892bc337",
   "metadata": {},
   "source": [
    "# Collaborative Exercise: Learn OOP through Examples!\n",
    "\n",
    "This notebook will assign roles at random and guide 3 students through creating their own object oriented cars!"
   ]
  },
  {
   "cell_type": "code",
   "execution_count": 7,
   "id": "29dce0f1",
   "metadata": {},
   "outputs": [
    {
     "name": "stdout",
     "output_type": "stream",
     "text": [
      "Random Assignment\n",
      "Name1 → The THINKER\n",
      "Name3 → The TYPER\n",
      "Name2 → The RESEARCHER\n"
     ]
    }
   ],
   "source": [
    "\n",
    "## Step 0 — Assign Roles\n",
    "\n",
    "## Run this cell to randomly assign students to roles:\n",
    "\n",
    "import random\n",
    "\n",
    "# Enter student names here:\n",
    "students = [\"Name1\", \"Name2\", \"Name3\"]  # <-- change names before running\n",
    "\n",
    "roles = {\n",
    "    \"The THINKER\": None,\n",
    "    \"The TYPER\": None,\n",
    "    \"The RESEARCHER\": None\n",
    "}\n",
    "\n",
    "random.shuffle(students)\n",
    "for i, role in enumerate(roles.keys()):\n",
    "    roles[role] = students[i]\n",
    "\n",
    "print(\"Random Assignment\")\n",
    "for role, student in roles.items():\n",
    "    print(f\"{student} → {role}\")\n"
   ]
  },
  {
   "cell_type": "markdown",
   "id": "a78e6b1c",
   "metadata": {},
   "source": [
    "# ROLE DESCRIPTIONS\n",
    "\n",
    "## 1. The THINKER\n",
    "- Thinks of what the car can do.  \n",
    "- Decides the car’s parts and actions (like speed, drive, brake).  \n",
    "- Makes a plan for the team.\n",
    "\n",
    "## 2. The TYPER\n",
    "- Writes the car class in JavaScript.  \n",
    "- Adds the parts and actions the Thinker planned.  \n",
    "- Tests the car to make sure it works.\n",
    "\n",
    "## 3. The RESEARCHER\n",
    "- Looks up examples and ideas for the car class.  \n",
    "- Finds help on how to write JavaScript code.  \n",
    "- Suggests better ways to make the car class."
   ]
  },
  {
   "cell_type": "markdown",
   "id": "69eb6dd8",
   "metadata": {},
   "source": [
    "# THE GOAL\n",
    "## Work together to plan, build, and test a car class in JavaScript."
   ]
  },
  {
   "cell_type": "markdown",
   "id": "c10682d2",
   "metadata": {},
   "source": [
    "## Getting Started\n",
    "\n",
    "- Test and Build your class on a Online Javascript Playground! (These are very useful if you need to quickly test a feature)\n",
    "    - [RunJS](https://runjs.app/play)\n",
    "\n",
    "- **If you have never made a class before in Javascript**:\n",
    "    - [Class Documentation](https://www.w3schools.com/js/js_classes.asp)\n",
    "    - After reading the docs it may look a little confusing, so here is a basic rundown:\n",
    "    \n",
    "- Class Rundown: \n",
    "    - A Class is like a blueprint. It can be used to create individual instances. This could be difficult to understand, so here is some examples.\n",
    "        - A car could be a class (it can have different actions (methods) like \"drive\", \"park\", \"honk\").\n",
    "        - But, what if we want to make 2 different colered cars (1 RED car & 1 BLUE car).\n",
    "        - They would both use the same \"drive\", \"park\", and \"honk\" methods, so how can we be efficent in creating a different color?\n",
    "        - In this case, we would use **inheritance** to use the same \"drive\", \"park\", and \"honk\" methods!\n",
    "        - This is especially useful if we needed to make something like 5 million different colored cars.\n",
    "        - Now we have this car \"blueprint\", so what are the \"instances\"?\n",
    "        - Instances in this example are the colored cars!\n",
    "        - So... Red car is an instance of the car class, blue car is also an instance of the car class."
   ]
  },
  {
   "cell_type": "markdown",
   "id": "8b5cd185",
   "metadata": {},
   "source": [
    "## Type in your finalized code below"
   ]
  },
  {
   "cell_type": "code",
   "execution_count": null,
   "id": "87f79b94",
   "metadata": {
    "vscode": {
     "languageId": "javascript"
    }
   },
   "outputs": [],
   "source": [
    "// FINAL CAR CLASS"
   ]
  }
 ],
 "metadata": {
  "kernelspec": {
   "display_name": "venv",
   "language": "python",
   "name": "python3"
  },
  "language_info": {
   "codemirror_mode": {
    "name": "ipython",
    "version": 3
   },
   "file_extension": ".py",
   "mimetype": "text/x-python",
   "name": "python",
   "nbconvert_exporter": "python",
   "pygments_lexer": "ipython3",
   "version": "3.11.1"
  }
 },
 "nbformat": 4,
 "nbformat_minor": 5
}
