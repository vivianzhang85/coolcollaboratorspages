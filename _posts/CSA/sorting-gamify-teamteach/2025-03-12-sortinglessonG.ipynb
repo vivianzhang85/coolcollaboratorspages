{
 "cells": [
  {
   "cell_type": "raw",
   "metadata": {
    "vscode": {
     "languageId": "raw"
    }
   },
   "source": [
    "---\n",
    "title: Sorting/Searching Algorithms - Sorting Homework\n",
    "description: A homework on sorting algorithms for AP Computer Science students.\n",
    "categories: [Sorting/Searching Algorithms]\n",
    "permalink: /sortingTTG/sorting/hw/\n",
    "comments: true\n",
    "---"
   ]
  },
  {
   "cell_type": "markdown",
   "metadata": {},
   "source": [
    "# HOMEWORK\n",
    "- Choose one sorting algorithm (Bubble, Selection, Insertion, or Quick Sort)\n",
    "<br><br>\n",
    "- Create a small visualization or step-by-step explanation of how your chosen algorithm sorts the array: [42, 17, 29, 8, 35]\n",
    "<br><br>\n",
    "- Calculate how many comparisons and swaps your algorithm needs to sort this array\n",
    "<br><br>\n",
    "- **What is the best case and worst case time complexity of your chosen algorithm?**"
   ]
  }
 ],
 "metadata": {
  "kernelspec": {
   "display_name": "Java",
   "language": "java",
   "name": "java"
  },
  "language_info": {
   "codemirror_mode": "java",
   "file_extension": ".jshell",
   "mimetype": "text/x-java-source",
   "name": "Java",
   "pygments_lexer": "java",
   "version": "17.0.6+10-LTS"
  }
 },
 "nbformat": 4,
 "nbformat_minor": 2
}
