{
 "cells": [
  {
   "cell_type": "markdown",
   "id": "96263eff",
   "metadata": {},
   "source": [
    "---\n",
    "layout: post\n",
    "title: Graph Heuristics - Java and Graphs\n",
    "categories: [Java Spring]\n",
    "permalink: /graphs/java\n",
    "menu: /nav/graph.html\n",
    "---"
   ]
  },
  {
   "cell_type": "markdown",
   "id": "ce269fb7",
   "metadata": {},
   "source": [
    "### Using Graphs in Java\n",
    "There are many libraries to do this, but let's build a class from scratch. We'll be using an adjacency list to store the information of the graph. \n",
    "\n",
    "##### Class"
   ]
  },
  {
   "cell_type": "code",
   "execution_count": null,
   "id": "b7b62d87",
   "metadata": {
    "vscode": {
     "languageId": "java"
    }
   },
   "outputs": [],
   "source": [
    "import java.util.*;\n",
    "\n",
    "public class Graph {\n",
    "    // Number of nodes within graph\n",
    "    private int nodes;\n",
    "    // Linked List to represent edges on graph\n",
    "    /*\n",
    "     * Reminder: Each value in a linked list points to another value\n",
    "     * So, we can make an array of linked lists to represent all the connections to a node\n",
    "     * BONUS: Why is this more efficient than a 2D Array List?\n",
    "     */\n",
    "    private LinkedList<Integer>[] adjacencyList;\n",
    "\n",
    "    // Constructor\n",
    "    public Graph(int nodes) {\n",
    "        this.nodes = nodes;\n",
    "        // Create list LinkedLists of size nodes\n",
    "        adjacencyList = new LinkedList[nodes];\n",
    "\n",
    "        // Instantiate adjacency list with new LinkedLists\n",
    "        for (int i = 0; i < nodes; i++) {\n",
    "            adjacencyList[i] = new LinkedList<>();\n",
    "        }\n",
    "    }\n",
    "}"
   ]
  },
  {
   "cell_type": "markdown",
   "id": "855e886b",
   "metadata": {},
   "source": [
    "##### Population and Display\n",
    "Now, we have a representation. However, we need a way to populate the graph with data. So, we need an addEdge method. We also will need a way to display the graph. "
   ]
  },
  {
   "cell_type": "code",
   "execution_count": null,
   "id": "5695062c",
   "metadata": {
    "vscode": {
     "languageId": "java"
    }
   },
   "outputs": [
    {
     "name": "stdout",
     "output_type": "stream",
     "text": [
      "Graph adjacency list:\n",
      "0 -> 1 2 \n",
      "1 -> 0 3 4 \n",
      "2 -> 0 5 \n",
      "3 -> 1 6 \n",
      "4 -> 1 \n",
      "5 -> 2 \n",
      "6 -> 3 \n"
     ]
    }
   ],
   "source": [
    "import java.util.*;\n",
    "\n",
    "public class Graph {\n",
    "\n",
    "    private int nodes;\n",
    "    private LinkedList<Integer>[] adjacencyList;\n",
    "\n",
    "    public Graph(int nodes) {\n",
    "        this.nodes = nodes;\n",
    "        adjacencyList = new LinkedList[nodes];\n",
    "\n",
    "        for (int i = 0; i < nodes; i++) {\n",
    "            adjacencyList[i] = new LinkedList<>();\n",
    "        }\n",
    "    }\n",
    "\n",
    "    // addEdge\n",
    "    /*\n",
    "     * Popcorn Hack #2\n",
    "     * Is this addEdge method for a directed or directionless graph?\n",
    "     * How can we make it the other type of graph?\n",
    "     */\n",
    "    public void addEdge(int source, int destination) {\n",
    "        adjacencyList[source].add(destination);\n",
    "        adjacencyList[destination].add(source);\n",
    "    }\n",
    "\n",
    "    // Display Graph\n",
    "    public void displayGraph() {\n",
    "        System.out.println(\"Graph adjacency list:\");\n",
    "        // Iterate through every node\n",
    "        for (int i = 0; i < nodes; i++) {\n",
    "            // header\n",
    "            System.out.print(i + \" -> \");\n",
    "            for (int neighbor : adjacencyList[i]) {\n",
    "                // print out every adjacent node\n",
    "                System.out.print(neighbor + \" \");\n",
    "            }\n",
    "            System.out.println();\n",
    "        }\n",
    "    }\n",
    "\n",
    "}\n",
    "\n",
    "// Sample Usage\n",
    "Graph graph = new Graph(7);\n",
    "\n",
    "graph.addEdge(0, 1);\n",
    "graph.addEdge(0, 2);\n",
    "graph.addEdge(1, 3);\n",
    "graph.addEdge(1, 4);\n",
    "graph.addEdge(2, 5);\n",
    "graph.addEdge(3, 6);\n",
    "\n",
    "graph.displayGraph();\n"
   ]
  },
  {
   "cell_type": "markdown",
   "id": "cf61d158",
   "metadata": {},
   "source": [
    "## Homework - Part 2\n",
    "The above class for graphs works for the purpose of what we're going to explain. However, in real usage, the following methods are likely needed. Please implement them.\n",
    "\n",
    "1. addNode\n",
    "    - Adds a node to the graph\n",
    "    - No connections be default\n",
    "2. removeEdge\n",
    "    - Removes a specified edge from the graph\n",
    "    - Does NOT remove the nodes"
   ]
  }
 ],
 "metadata": {
  "kernelspec": {
   "display_name": "Java",
   "language": "java",
   "name": "java"
  },
  "language_info": {
   "codemirror_mode": "java",
   "file_extension": ".jshell",
   "mimetype": "text/x-java-source",
   "name": "Java",
   "pygments_lexer": "java",
   "version": "17.0.14+7-Ubuntu-122.04.1"
  }
 },
 "nbformat": 4,
 "nbformat_minor": 5
}
