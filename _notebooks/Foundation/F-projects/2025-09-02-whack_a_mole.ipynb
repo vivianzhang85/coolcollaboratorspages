{
 "cells": [
  {
   "cell_type": "markdown",
   "id": "535150ce",
   "metadata": {},
   "source": [
    "---\n",
    "title: Object-Oriented Game Development – Whack-a-Mole\n",
    "description: Learn more about Object Oriented Game Devlopment using Whack-a-Mole!\n",
    "categories: ['HTML', 'JavaScript']\n",
    "permalink: /oriented/lessons\n",
    "comments: true\n",
    "---"
   ]
  },
  {
   "cell_type": "markdown",
   "id": "483e634b",
   "metadata": {
    "vscode": {
     "languageId": "html"
    }
   },
   "source": [
    "<a href=\"https://www.youtube.com/watch?v=pBo1RenLLbE\">Lesson Walkthrough</a>"
   ]
  },
  {
   "cell_type": "markdown",
   "id": "dd94a20e",
   "metadata": {},
   "source": [
    "#  Lesson: Object-Oriented Game Development – Whack-a-Mole\n",
    "\n",
    "In this lesson we will study how **Object-Oriented Programming (OOP)** principles can be applied to build a fun game: **Whack-a-Mole**.  \n",
    "We will not just play the game, but also *learn the design concepts behind it*, how the code is organized, and why OOP is powerful for games and larger software projects.\n",
    "\n",
    "This lesson combines:\n",
    "- **Teaching text** to explain programming ideas step by step.\n",
    "- **Code examples** in JavaScript.\n",
    "- **FRQ-style practice** scattered throughout to simulate AP CSP exam thinking.\n",
    "- **Connections to Big Ideas** (abstraction, data, algorithms, impact).\n",
    "\n",
    "\n",
    "You should have made a copy of the game to follow along and complete the hacks at the end of the lesson."
   ]
  },
  {
   "cell_type": "markdown",
   "id": "fa9a98b7",
   "metadata": {},
   "source": [
    "## Learning Objectives\n",
    "By the end of this lesson, you should and will be able to:\n",
    "- Define and identify **OOP principles** (encapsulation, inheritance, polymorphism, composition).\n",
    "- Explain how OOP helps organize complex programs like games.\n",
    "- Understand how **local storage** can persist data beyond runtime.\n",
    "- Analyze and modify code to meet new requirements (FRQs)."
   ]
  },
  {
   "cell_type": "markdown",
   "id": "ac44f769",
   "metadata": {},
   "source": [
    "##  The Whack-a-Mole Concept\n",
    "In Whack-a-Mole, the computer manages a grid of *holes*. Randomly, a mole (or sometimes a power-up) appears in a hole. The player must click or tap the mole before it disappears.\n",
    "\n",
    "### Key Rules:\n",
    "- **Moles** give points when clicked.\n",
    "- **Power-ups** may give bonus points or extra time.\n",
    "- The game tracks **score** and saves the **high score** using local storage.\n",
    "\n",
    "This simple idea is perfect for studying OOP: each part of the game (holes, moles, power-ups, score) can be represented as an **object**."
   ]
  },
  {
   "cell_type": "markdown",
   "id": "3abb9adc",
   "metadata": {},
   "source": [
    "##  OOP Structure\n",
    "We will design the game using **classes**:\n",
    "\n",
    "- **`Game`** → manages the entire program (composition).\n",
    "- **`Hole`** → represents a place where something can appear.\n",
    "- **`Entity`** (abstract base class) → shared logic for anything that appears in a hole.\n",
    "- **`Mole`** → a specific type of `Entity`.\n",
    "- **`PowerUp`** → another type of `Entity`.\n",
    "\n",
    "👉 This is an example of **inheritance**: both `Mole` and `PowerUp` inherit from `Entity`.\n",
    "\n",
    "👉 This is also **composition**: the `Game` is composed of multiple `Hole` objects."
   ]
  },
  {
   "cell_type": "markdown",
   "id": "be2da5df",
   "metadata": {},
   "source": [
    "## Spawning Entities\n",
    "The game must randomly choose where to put new moles or power-ups. This is handled inside the `Game` class.\n",
    "\n",
    "Here is the method that chooses an empty hole and places something in it:"
   ]
  },
  {
   "cell_type": "code",
   "execution_count": 5,
   "id": "26cec3d1",
   "metadata": {
    "vscode": {
     "languageId": "javascript"
    }
   },
   "outputs": [
    {
     "ename": "SyntaxError",
     "evalue": "invalid syntax. Perhaps you forgot a comma? (4105513947.py, line 2)",
     "output_type": "error",
     "traceback": [
      "  \u001b[36mCell\u001b[39m\u001b[36m \u001b[39m\u001b[32mIn[5]\u001b[39m\u001b[32m, line 2\u001b[39m\n\u001b[31m    \u001b[39m\u001b[31mlet emptyHoles = this.holes.filter(h => !h.entity);\u001b[39m\n    ^\n\u001b[31mSyntaxError\u001b[39m\u001b[31m:\u001b[39m invalid syntax. Perhaps you forgot a comma?\n"
     ]
    }
   ],
   "source": [
    "spawnEntity() {\n",
    "    let emptyHoles = this.holes.filter(h => !h.entity);\n",
    "    if (emptyHoles.length > 0) {\n",
    "        let hole = emptyHoles[Math.floor(Math.random() * emptyHoles.length)];\n",
    "        if (Math.random() < 0.8) {\n",
    "            hole.entity = new Mole(hole, \"normal\");\n",
    "        } else {\n",
    "            hole.entity = new PowerUp(hole, \"bonus\");\n",
    "        }\n",
    "    }\n",
    "}"
   ]
  },
  {
   "cell_type": "markdown",
   "id": "f470c152",
   "metadata": {},
   "source": [
    "### Teaching Explanation\n",
    "- `filter()` → removes all holes that already have something inside.\n",
    "- `Math.random()` → makes the game unpredictable.\n",
    "- If chance < 0.8, spawn a mole (80% chance). Otherwise, spawn a power-up (20% chance).\n",
    "\n",
    "👉 Notice how the **Game class does not directly create pixels on screen**. Instead, it uses the object system: `Hole` manages its own location, `Entity` manages its own lifespan, etc."
   ]
  },
  {
   "cell_type": "markdown",
   "id": "88d83525",
   "metadata": {},
   "source": [
    "### 📝 FRQ Checkpoint 1\n",
    "**Prompt:**\n",
    "1. Explain why it is better for the `Game` class to delegate work to the `Hole` and `Entity` classes instead of doing everything itself.\n",
    "2. Modify the logic so that `GoldenMole` appears 5% of the time, worth double points.\n",
    "3. Justify how this change demonstrates **polymorphism**."
   ]
  },
  {
   "cell_type": "markdown",
   "id": "04bd20da",
   "metadata": {
    "vscode": {
     "languageId": "javascript"
    }
   },
   "source": [
    "<!-- FRQ Answer Box -->\n",
    "<div>\n",
    "  <label for=\"frq1\">📝 Your Answer:</label><br>\n",
    "  <textarea id=\"frq1\" rows=\"5\" cols=\"80\"></textarea><br>\n",
    "  <button onclick=\"saveFRQ('frq1')\">💾 Save Answer</button>\n",
    "</div>\n",
    "\n",
    "<script>\n",
    "function saveFRQ(id) {\n",
    "  let val = document.getElementById(id).value;\n",
    "  localStorage.setItem(id, val);\n",
    "  alert(\"Answer saved!\");\n",
    "}\n",
    "window.addEventListener(\"load\", () => {\n",
    "  document.querySelectorAll(\"textarea\").forEach(t => {\n",
    "    let saved = localStorage.getItem(t.id);\n",
    "    if (saved) t.value = saved;\n",
    "  });\n",
    "});\n",
    "</script>\n"
   ]
  },
  {
   "cell_type": "markdown",
   "id": "66abde38",
   "metadata": {},
   "source": [
    "## Handling Player Input\n",
    "When a player clicks, the game checks whether the click intersects with a mole or power-up. If so, it calls the object’s `onHit()` method."
   ]
  },
  {
   "cell_type": "code",
   "execution_count": null,
   "id": "63061cfb",
   "metadata": {
    "vscode": {
     "languageId": "javascript"
    }
   },
   "outputs": [],
   "source": [
    "handleClick(mx, my) {\n",
    "    this.holes.forEach(hole => {\n",
    "        if (hole.entity &&\n",
    "            mx >= hole.x - hole.size/2 && \n",
    "            mx <= hole.x + hole.size/2 &&\n",
    "            my >= hole.y - hole.size/2 &&\n",
    "            my <= hole.y + hole.size/2) {\n",
    "            hole.entity.onHit(this);\n",
    "        }\n",
    "    });\n",
    "}"
   ]
  },
  {
   "cell_type": "markdown",
   "id": "bcca6db9",
   "metadata": {},
   "source": [
    "### Teaching Explanation\n",
    "- Each `Entity` object controls what happens when hit (encapsulation).\n",
    "- The `Game` just forwards the event.\n",
    "- **Polymorphism:** `onHit()` means something different for a `Mole` (gain points) versus a `PowerUp` (bonus effects)."
   ]
  },
  {
   "cell_type": "markdown",
   "id": "80efea32",
   "metadata": {},
   "source": [
    "### Debugging \n",
    "\n",
    "Debugging is a critical part of learning to code games. Below are **step-by-step debugging tips** for different parts of the Whack-a-Mole lesson. Use these to find and fix problems as you build. There will be debugging steps all through the lesson.\n",
    "\n",
    "---\n",
    "\n",
    "#### 🟢 Game Setup Issues\n",
    "- **Problem:** Nothing appears on the canvas.  \n",
    "  ✅ **Check:** Did you correctly reference the `<canvas id=\"gameCanvas\">` in your HTML?  \n",
    "  ✅ **Check:** Did you create the `Game` object at the bottom with `new Game(\"gameCanvas\")`?  \n",
    "  ✅ **Tool:** Use `console.log(this.canvas)` inside the `Game` constructor to confirm the canvas is found.  \n",
    "\n",
    "---\n",
    "\n",
    "#### 🟡 Entity (Mole/PowerUp) Bugs\n",
    "- **Problem:** Moles don’t disappear.  \n",
    "  ✅ **Check:** Is `Entity.update()` being called each frame?  \n",
    "  ✅ **Check:** Does the code set `this.hole.entity = null` when the mole times out or gets hit?  \n",
    "  ✅ **Tool:** Add `console.log(\"Mole expired\")` inside the update to verify.  \n"
   ]
  },
  {
   "cell_type": "markdown",
   "id": "ce1000ae",
   "metadata": {},
   "source": [
    "### 📝 FRQ Checkpoint 2\n",
    "**Prompt:**\n",
    "1. Suppose the player clicks slightly outside the hole’s boundary. How does the code prevent counting that as a hit?\n",
    "2. Write pseudocode for a new entity `Bomb` that subtracts points when hit.\n",
    "3. Explain how this uses **inheritance** and **overriding methods**."
   ]
  },
  {
   "cell_type": "markdown",
   "id": "e5c667bb",
   "metadata": {},
   "source": [
    "<!-- FRQ Answer Box -->\n",
    "<div>\n",
    "  <label for=\"frq2\">📝 Your Answer:</label><br>\n",
    "  <textarea id=\"frq2\" rows=\"5\" cols=\"80\"></textarea><br>\n",
    "  <button onclick=\"saveFRQ('frq2')\">💾 Save Answer</button>\n",
    "</div>\n",
    "\n",
    "<script>\n",
    "function saveFRQ(id) {\n",
    "  let val = document.getElementById(id).value;\n",
    "  localStorage.setItem(id, val);\n",
    "  alert(\"Answer saved!\");\n",
    "}\n",
    "window.addEventListener(\"load\", () => {\n",
    "  document.querySelectorAll(\"textarea\").forEach(t => {\n",
    "    let saved = localStorage.getItem(t.id);\n",
    "    if (saved) t.value = saved;\n",
    "  });\n",
    "});\n",
    "</script>\n"
   ]
  },
  {
   "cell_type": "markdown",
   "id": "f3fe598b",
   "metadata": {},
   "source": [
    "## Persisting High Scores with Local Storage\n",
    "Without local storage, scores vanish when you refresh the page. Local storage lets us keep the **high score**.\n",
    "\n",
    "Example implementation:"
   ]
  },
  {
   "cell_type": "code",
   "execution_count": null,
   "id": "0c23644a",
   "metadata": {
    "vscode": {
     "languageId": "javascript"
    }
   },
   "outputs": [],
   "source": [
    "this.highScore = localStorage.getItem(\"highScore\") || 0;\n",
    "\n",
    "addScore(points) {\n",
    "    this.score += points;\n",
    "    if (this.score > this.highScore) {\n",
    "        this.highScore = this.score;\n",
    "        localStorage.setItem(\"highScore\", this.highScore);\n",
    "    }\n",
    "}"
   ]
  },
  {
   "cell_type": "markdown",
   "id": "bc8b4fc9",
   "metadata": {},
   "source": [
    "### Debugging \n",
    "\n",
    "#### 🔵 Score & Storage\n",
    "- **Problem:** High score never saves.  \n",
    "  ✅ **Check:** Is `localStorage.setItem(\"whackAMoleHighScore\", this.highScore);` called at game over?  \n",
    "  ✅ **Check:** Is `this.highScore = localStorage.getItem(\"whackAMoleHighScore\") || 0;` in the constructor?  \n",
    "  ✅ **Tool:** Open **DevTools → Application → Local Storage** to see if the key is set.  \n",
    "\n",
    "- **Problem:** Multiplier doesn’t reset.  \n",
    "  ✅ **Check:** In `updateGame()`, does the code correctly check `if (Date.now() > this.multiplierEnd)`?  "
   ]
  },
  {
   "cell_type": "markdown",
   "id": "c0e416e1",
   "metadata": {},
   "source": [
    "### Teaching Explanation\n",
    "- `localStorage.setItem(key, value)` → saves data to browser storage.\n",
    "- `localStorage.getItem(key)` → retrieves saved data.\n",
    "- This persists across sessions (until the user clears it).\n",
    "\n",
    "👉 This is an example of **data abstraction**: we don’t worry about how the browser stores data, we just use a simple API."
   ]
  },
  {
   "cell_type": "markdown",
   "id": "09d07156",
   "metadata": {},
   "source": [
    "### 📝 FRQ Checkpoint 3\n",
    "**Prompt:**\n",
    "1. Explain why local storage is useful in a game but not always appropriate in secure applications.\n",
    "2. Modify the game so it also saves the **last score** in addition to high score.\n",
    "3. How does this relate to **Big Idea 5: Impact of Computing**?"
   ]
  },
  {
   "cell_type": "markdown",
   "id": "aa66622d",
   "metadata": {},
   "source": [
    "<!-- FRQ Answer Box -->\n",
    "<div>\n",
    "  <label for=\"frq3\">📝 Your Answer:</label><br>\n",
    "  <textarea id=\"frq3\" rows=\"5\" cols=\"80\"></textarea><br>\n",
    "  <button onclick=\"saveFRQ('frq3')\">💾 Save Answer</button>\n",
    "</div>\n",
    "\n",
    "<script>\n",
    "function saveFRQ(id) {\n",
    "  let val = document.getElementById(id).value;\n",
    "  localStorage.setItem(id, val);\n",
    "  alert(\"Answer saved!\");\n",
    "}\n",
    "window.addEventListener(\"load\", () => {\n",
    "  document.querySelectorAll(\"textarea\").forEach(t => {\n",
    "    let saved = localStorage.getItem(t.id);\n",
    "    if (saved) t.value = saved;\n",
    "  });\n",
    "});\n",
    "</script>\n"
   ]
  },
  {
   "cell_type": "markdown",
   "id": "cd2bd1cf",
   "metadata": {},
   "source": [
    "## Big Ideas Connections\n",
    "- **Big Idea 1: Creative Development** → Using OOP to design reusable code.\n",
    "- **Big Idea 2: Data** → High score stored in local storage.\n",
    "- **Big Idea 4: Algorithms** → Random entity spawning and event handling.\n",
    "- **Big Idea 5: Impact** → Ethical considerations of storing persistent data.\n",
    "\n",
    "This project demonstrates how classroom theory applies to real-world interactive applications."
   ]
  },
  {
   "cell_type": "markdown",
   "id": "f5ba8732",
   "metadata": {},
   "source": [
    "##  Reflection Questions\n",
    "- How does encapsulation make debugging easier?\n",
    "- How could inheritance reduce duplicated code in larger games?\n",
    "- Why is polymorphism important when designing new entity types?\n",
    "- What are some limitations of local storage for more advanced games?\n",
    "\n"
   ]
  },
  {
   "cell_type": "markdown",
   "id": "9d48d26b",
   "metadata": {},
   "source": [
    "<!-- FRQ Answer Box -->\n",
    "<div>\n",
    "  <label for=\"frq4\">📝 Your Answer:</label><br>\n",
    "  <textarea id=\"frq4\" rows=\"5\" cols=\"80\"></textarea><br>\n",
    "  <button onclick=\"saveFRQ('frq4')\">💾 Save Answer</button>\n",
    "</div>\n",
    "\n",
    "<script>\n",
    "function saveFRQ(id) {\n",
    "  let val = document.getElementById(id).value;\n",
    "  localStorage.setItem(id, val);\n",
    "  alert(\"Answer saved!\");\n",
    "}\n",
    "window.addEventListener(\"load\", () => {\n",
    "  document.querySelectorAll(\"textarea\").forEach(t => {\n",
    "    let saved = localStorage.getItem(t.id);\n",
    "    if (saved) t.value = saved;\n",
    "  });\n",
    "});\n",
    "</script>\n"
   ]
  },
  {
   "cell_type": "markdown",
   "id": "369c69c6",
   "metadata": {},
   "source": [
    "## Hack Homework\n",
    "\n",
    "Try these hacks to extend your Whack-a-Mole game and deepen your understanding of OOP:\n",
    "\n",
    "1. **Add a New Mole Type**  \n",
    "   - Create a **blue mole** worth +50 points but also speeds up the game.  \n",
    "\n",
    "2. **Change the Grid Size**  \n",
    "   - Modify the game to support a **4×4 grid** instead of 3×3.  \n",
    "\n",
    "3. **Add Sound Effects**  \n",
    "   - Play a **hit sound** when a mole is clicked and a **game over sound** when lives reach 0.  \n",
    "\n",
    "4. **Track Combos**  \n",
    "   - Add a **combo counter** that rewards extra points if you hit 3 or more moles in a row without missing.  \n",
    "\n",
    "5. **FRQ-style Reflection**  \n",
    "   - Explain in **2–3 sentences** how the game uses *inheritance* and *polymorphism*.  \n",
    "\n",
    "6. **Local Storage Challenge**  \n",
    "   - Store the player’s **last 5 game scores** in `localStorage` and display them on the game over screen.  \n"
   ]
  },
  {
   "cell_type": "markdown",
   "id": "c847222e",
   "metadata": {},
   "source": [
    "<!-- FRQ Answer Box -->\n",
    "<div>\n",
    "  <label for=\"frq5\">📝 Paste the Link to Your Game Here!:</label><br>\n",
    "  <textarea id=\"frq5\" rows=\"5\" cols=\"80\"></textarea><br>\n",
    "  <button onclick=\"saveFRQ('frq5')\">💾 Save Answer</button>\n",
    "</div>\n",
    "\n",
    "<script>\n",
    "function saveFRQ(id) {\n",
    "  let val = document.getElementById(id).value;\n",
    "  localStorage.setItem(id, val);\n",
    "  alert(\"Answer saved!\");\n",
    "}\n",
    "window.addEventListener(\"load\", () => {\n",
    "  document.querySelectorAll(\"textarea\").forEach(t => {\n",
    "    let saved = localStorage.getItem(t.id);\n",
    "    if (saved) t.value = saved;\n",
    "  });\n",
    "});\n",
    "</script>"
   ]
  }
 ],
 "metadata": {
  "kernelspec": {
   "display_name": "venv",
   "language": "python",
   "name": "python3"
  },
  "language_info": {
   "codemirror_mode": {
    "name": "ipython",
    "version": 3
   },
   "file_extension": ".py",
   "mimetype": "text/x-python",
   "name": "python",
   "nbconvert_exporter": "python",
   "pygments_lexer": "ipython3",
   "version": "3.12.3"
  }
 },
 "nbformat": 4,
 "nbformat_minor": 5
}
