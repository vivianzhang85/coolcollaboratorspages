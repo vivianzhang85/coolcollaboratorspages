{
 "cells": [
  {
   "cell_type": "raw",
   "id": "43b8b987",
   "metadata": {
    "vscode": {
     "languageId": "raw"
    }
   },
   "source": [
    "---\n",
    "layout: lessonbase\n",
    "title: Meta-Teaching - Learning Experience Design by Doing\n",
    "description: Learn LxD in the context of Solitaire game development\n",
    "type: issues\n",
    "author: Vibha, Anvay, Risha, Ruta,Neil, Aadi\n",
    "comments: True\n",
    "sidebar_title: \"🎮 Solitaire Lessons\"\n",
    "lesson_links:\n",
    "  - { text: \"Lesson 1: Frontend\", url: \"/solitaire/lesson/frontend\" }\n",
    "  - { text: \"Lesson 2: OOP\", url: \"/solitaire/lesson/oop\" }\n",
    "  - { text: \"Lesson 3: Problem Solving\", url: \"/solitaire/lesson/problem-solving\" }\n",
    "  - { text: \"Lesson 4: LXD\", url: \"/solitaire/lesson/lxd\" }\n",
    "  - { text: \"End of Lesson Quiz\", url: \"/solitaire/lesson/quiz\" }\n",
    "  - { text: \"Future References\", url: \"/solitaire/lesson/future-references\" }\n",
    "\n",
    "\n",
    "enable_timer: true\n",
    "enable_progress: true\n",
    "progress_total: 6\n",
    "enable_badges: True\n",
    "lesson_key: \"lxd\"\n",
    "lesson_badges:\n",
    " - \"lxd\"\n",
    "prev_url: \"/solitaire/lesson/problem-solving\"\n",
    "next_url: \"/solitaire/lesson/quiz\"\n",
    "permalink: /solitaire/lesson/lxd\n",
    "---"
   ]
  },
  {
   "cell_type": "markdown",
   "id": "f585cf76",
   "metadata": {},
   "source": [
    "## 1️⃣ Learning Objectives\n",
    "By the end of this lesson, students will:\n",
    "- Understand the core principles of LxD (empathy, context, narrative, interaction).\n",
    "- Analyze an AP CSA topic and identify learner needs.\n",
    "- Design an LxD lesson outline that makes the topic engaging and accessible.\n",
    "- Prototype at least one interactive element for their lesson.\n",
    "\n",
    "## 2️⃣ AP CSA Context\n",
    "We’ll center this activity around an AP CSA topic — e.g., Array Algorithms or Inheritance & Polymorphism — but the meta-goal is teaching how to teach.\n",
    "\n",
    "\n",
    "## 4️⃣ Teaching Aids\n",
    "**Visual**: Diagrams showing LxD pillars & design cycle (Empathize → Design → Prototype → Test → Refine).\n",
    "**Templates**: Lesson design canvas for AP CSA topics.\n",
    "**Examples**: Show a “flat” lesson vs. a designed LxD lesson for the same AP CSA concept.\n",
    "\n",
    "## 5️⃣ Assessment\n",
    "**Formative**: Checkpoints during outline creation.\n",
    "**Summative**: Completed LxD lesson plan for an AP CSA topic.\n",
    "**Reflection**: Written statement on design choices and alignment to LxD pillars.\n",
    "\n",
    "## 6️⃣ Extension / Homework\n",
    "- Take another AP CSA topic (e.g., recursion) and create an LxD lesson from scratch.\n",
    "- **Optional**: Build interactive component as a runnable Java snippet or web-based code example."
   ]
  }
 ],
 "metadata": {
  "language_info": {
   "name": "python"
  }
 },
 "nbformat": 4,
 "nbformat_minor": 5
}
