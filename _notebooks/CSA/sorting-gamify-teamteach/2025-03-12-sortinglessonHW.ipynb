{
 "cells": [
  {
   "cell_type": "raw",
   "metadata": {
    "vscode": {
     "languageId": "raw"
    }
   },
   "source": [
    "---\n",
    "title: Sorting/Searching Algorithms - Sorting Lesson\n",
    "description: A lesson on sorting algorithms for AP Computer Science students.\n",
    "categories: [Sorting/Searching Algorithms]\n",
    "permalink: /sortingTTG/sorting/\n",
    "comments: true\n",
    "---"
   ]
  },
  {
   "cell_type": "markdown",
   "metadata": {},
   "source": [
    "# **Sorting Algorithms**\n",
    "\n",
    "## Big O Notation:\n",
    "\n",
    "- Measures how fast algorithms run as input size grows\n",
    "- Shows worst-case performance scenario\n",
    "- Ignores constants and focuses on growth rate\n",
    "- Common notations:\n",
    "  - O(1): Constant time (same speed regardless of input size)\n",
    "  - O(log n): Logarithmic (gets slightly slower with larger inputs)\n",
    "  - O(n): Linear time (speed directly proportional to input size)\n",
    "  - O(n log n): Common in efficient sorting algorithms\n",
    "  - O(n²): Quadratic time (common in nested loops)\n",
    "  - O(2ⁿ): Exponential time (very slow for large inputs)\n",
    "- Helps compare efficiency of different algorithms\n",
    "- Used to make decisions about which algorithm to implement\n",
    "\n",
    "<br><br>\n",
    "\n",
    "\n",
    "# **1. Selection Sorting**\n",
    "Selection sort methodically builds the sorted list by repeatedly finding and placing the smallest remaining element.\n",
    "\n",
    "- Finds the smallest element in the unsorted portion\n",
    "- Swaps it with the first unsorted element\n",
    "- Repeats until the entire list is sorted\n",
    "- Makes fewer swaps than bubble sort\n",
    "\n",
    "<br><br>\n",
    "![Selection Sorting](https://he-s3.s3.amazonaws.com/media/uploads/2888f5b.png)"
   ]
  },
  {
   "cell_type": "code",
   "execution_count": 7,
   "metadata": {
    "vscode": {
     "languageId": "java"
    }
   },
   "outputs": [
    {
     "name": "stdout",
     "output_type": "stream",
     "text": [
      "Sorting process:\n",
      "3 12 18 8 30 28 17 14 \n",
      "3 8 18 12 30 28 17 14 \n",
      "3 8 12 18 30 28 17 14 \n",
      "3 8 12 14 30 28 17 18 \n",
      "3 8 12 14 17 28 30 18 \n",
      "3 8 12 14 17 18 30 28 \n",
      "3 8 12 14 17 18 28 30 \n",
      "\n",
      "Final sorted list:\n",
      "3 8 12 14 17 18 28 30 \n"
     ]
    }
   ],
   "source": [
    "public class SelectionSort {\n",
    "    public static void main(String[] args) {\n",
    "        int[] list = {28, 12, 18, 8, 30, 3, 17, 14};\n",
    "        \n",
    "        System.out.println(\"Sorting process:\");\n",
    "        for (int currentIndex = 0; currentIndex < list.length - 1; currentIndex++) {\n",
    "            int minIndex = currentIndex;\n",
    "            \n",
    "            // Find the minimum element in the unsorted part\n",
    "            for (int i = currentIndex + 1; i < list.length; i++) {\n",
    "                if (list[i] < list[minIndex]) {\n",
    "                    minIndex = i;\n",
    "                }\n",
    "            }\n",
    "            \n",
    "            // Swap the current element with the minimum element\n",
    "            int temp = list[currentIndex];\n",
    "            list[currentIndex] = list[minIndex];\n",
    "            list[minIndex] = temp;\n",
    "\n",
    "            // Print the array after each swap\n",
    "            printArray(list);\n",
    "        }\n",
    "        \n",
    "        System.out.println(\"\\nFinal sorted list:\");\n",
    "        printArray(list);\n",
    "    }\n",
    "\n",
    "    // Helper method to print the array\n",
    "    private static void printArray(int[] array) {\n",
    "        for (int num : array) {\n",
    "            System.out.print(num + \" \");\n",
    "        }\n",
    "        System.out.println();\n",
    "    }\n",
    "}\n",
    "\n",
    "SelectionSort.main(new String[]{});"
   ]
  },
  {
   "cell_type": "markdown",
   "metadata": {},
   "source": [
    "# **2. Insertion Sorting**\n",
    "\n",
    "Insertion sort mimics how we naturally sort items like playing cards by building the sorted list one element at a time.\n",
    "\n",
    "- Builds the sorted list one item at a time\n",
    "- Takes each element and inserts it into its correct position among already sorted elements\n",
    "- Works well for small data sets or nearly sorted data\n",
    "- Similar to how people typically sort playing cards\n",
    "\n",
    "<br><br>\n",
    "![Insertion Sorting](https://media.geeksforgeeks.org/wp-content/uploads/20240802210251/Insertion-sorting.png)"
   ]
  },
  {
   "cell_type": "markdown",
   "metadata": {},
   "source": [
    "## Code Example:"
   ]
  },
  {
   "cell_type": "code",
   "execution_count": 1,
   "metadata": {
    "vscode": {
     "languageId": "java"
    }
   },
   "outputs": [
    {
     "name": "stdout",
     "output_type": "stream",
     "text": [
      "Sorting process:\n",
      "12 28 18 8 30 3 17 14 \n",
      "12 18 28 8 30 3 17 14 \n",
      "8 12 18 28 30 3 17 14 \n",
      "8 12 18 28 30 3 17 14 \n",
      "3 8 12 18 28 30 17 14 \n",
      "3 8 12 17 18 28 30 14 \n",
      "3 8 12 14 17 18 28 30 \n",
      "Sorted array:\n",
      "3 8 12 14 17 18 28 30 "
     ]
    }
   ],
   "source": [
    "public class InsertionSort {\n",
    "    public static void main(String[] args) {\n",
    "        int[] list = {28, 12, 18, 8, 30, 3, 17, 14};\n",
    "        \n",
    "        System.out.println(\"Sorting process:\");\n",
    "        \n",
    "        // Insertion sort algorithm\n",
    "        for (int i = 1; i < list.length; i++) {\n",
    "            int currentValue = list[i];\n",
    "            int j = i - 1;\n",
    "            \n",
    "            // Shift larger elements to the right\n",
    "            while (j >= 0 && list[j] > currentValue) {\n",
    "                list[j + 1] = list[j];\n",
    "                j--;\n",
    "            }\n",
    "            \n",
    "            // Place the current value in the correct position\n",
    "            list[j + 1] = currentValue;\n",
    "            \n",
    "            // Print the list after each insertion\n",
    "            for (int k = 0; k < list.length; k++) {\n",
    "                System.out.print(list[k] + \" \");\n",
    "            }\n",
    "            System.out.println();  // New line after each pass\n",
    "        }\n",
    "\n",
    "        // Final sorted list\n",
    "        System.out.println(\"Sorted array:\");\n",
    "        for (int num : list) {\n",
    "            System.out.print(num + \" \");\n",
    "        }\n",
    "    }\n",
    "}\n",
    "\n",
    "InsertionSort.main(new String[]{});"
   ]
  }
 ],
 "metadata": {
  "kernelspec": {
   "display_name": "Java",
   "language": "java",
   "name": "java"
  },
  "language_info": {
   "codemirror_mode": "java",
   "file_extension": ".jshell",
   "mimetype": "text/x-java-source",
   "name": "Java",
   "pygments_lexer": "java",
   "version": "17.0.6+10-LTS"
  }
 },
 "nbformat": 4,
 "nbformat_minor": 2
}
