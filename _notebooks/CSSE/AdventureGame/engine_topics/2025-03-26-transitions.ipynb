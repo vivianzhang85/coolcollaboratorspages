{
 "cells": [
  {
   "cell_type": "raw",
   "metadata": {
    "vscode": {
     "languageId": "raw"
    }
   },
   "source": [
    "---\n",
    "layout: post\n",
    "title: Parallaxes/background \n",
    "description: Lesson to teach others\n",
    "comments: true\n",
    "permalink: /csse/lessons/topics/transitions\n",
    "---"
   ]
  },
  {
   "cell_type": "markdown",
   "metadata": {},
   "source": [
    "### What is a Transition Screen?\n",
    "\n",
    "A transition screen is a visual element used in applications, games, or websites to provide a smooth transition between different states, pages, or scenes. It enhances the user experience by making the navigation feel seamless and engaging.\n",
    "\n",
    "#### Key Features of a Transition Screen:\n",
    "- **Visual Appeal**: Often includes animations, fades, or other effects to make transitions visually pleasing.\n",
    "- **Contextual Information**: Can display loading indicators, progress bars, or messages to inform users about the ongoing process.\n",
    "- **Branding Opportunity**: Allows for the inclusion of logos, taglines, or other branding elements.\n",
    "- **User Engagement**: Keeps users engaged during potentially long loading times or state changes.\n",
    "- **Smooth Navigation**: Reduces the abruptness of switching between different sections or states.\n",
    "- **Customizable**: Can be tailored to fit the theme or style of the application or website.\n",
    "\n",
    "#### Common Use Cases:\n",
    "- **Loading Screens**: Displayed while content is being loaded in the background.\n",
    "- **Scene Transitions in Games**: Used to switch between levels or scenes.\n",
    "- **Page Transitions in Websites**: Smoothly navigate between different pages or sections.\n",
    "- **Modal Dialogs**: Transition screens can be used to introduce modal dialogs or pop-ups.\n",
    "\n",
    "#### Benefits of Using Transition Screens:\n",
    "- Improves the overall user experience.\n",
    "- Provides feedback to users, reducing frustration during loading times.\n",
    "- Enhances the aesthetic appeal of the application or website.\n",
    "- Offers an opportunity to reinforce branding.\n",
    "\n",
    "Transition screens are a powerful tool to make applications and websites feel polished and professional while keeping users engaged."
   ]
  },
  {
   "cell_type": "markdown",
   "metadata": {},
   "source": [
    "## Hack \n",
    "### Change the existing transition screen, so that it has a screen saying \"Loading...\" while fading in and out, instead of a black screen."
   ]
  },
  {
   "cell_type": "code",
   "execution_count": 6,
   "metadata": {
    "vscode": {
     "languageId": "javascript"
    }
   },
   "outputs": [
    {
     "data": {
      "application/javascript": "transitionToLevel() {\n        const fadeOverlay = document.createElement('div');\n        fadeOverlay.style.position = 'fixed';\n        fadeOverlay.style.top = '0';\n        fadeOverlay.style.left = '0';\n        fadeOverlay.style.width = '100%';\n        fadeOverlay.style.height = '100%';\n        fadeOverlay.style.backgroundColor = 'black';\n        fadeOverlay.style.opacity = '0';\n        fadeOverlay.style.transition = 'opacity 1s ease-in-out';\n        document.body.appendChild(fadeOverlay);\n\n        // Fade to black\n        requestAnimationFrame(() => {\n            fadeOverlay.style.opacity = '1';\n        });\n\n        setTimeout(() => {\n            // Switch levels when screen is black\n            const GameLevelClass = this.levelClasses[this.currentLevelIndex];\n            this.currentLevel = new GameLevel(this);\n            this.currentLevel.create(GameLevelClass);\n\n            // Fade back in\n            fadeOverlay.style.opacity = '0';\n            setTimeout(() => document.body.removeChild(fadeOverlay), 1000);\n\n            // Start game loop after transition\n            this.gameLoop();\n        }, 1000); // Wait for fade-out duration\n    }\n",
      "text/plain": [
       "<IPython.core.display.Javascript object>"
      ]
     },
     "metadata": {},
     "output_type": "display_data"
    }
   ],
   "source": [
    "%%js\n",
    "transitionToLevel() {\n",
    "        const fadeOverlay = document.createElement('div');\n",
    "        fadeOverlay.style.position = 'fixed';\n",
    "        fadeOverlay.style.top = '0';\n",
    "        fadeOverlay.style.left = '0';\n",
    "        fadeOverlay.style.width = '100%';\n",
    "        fadeOverlay.style.height = '100%';\n",
    "        fadeOverlay.style.backgroundColor = 'black';\n",
    "        fadeOverlay.style.opacity = '0';\n",
    "        fadeOverlay.style.transition = 'opacity 1s ease-in-out';\n",
    "        document.body.appendChild(fadeOverlay);\n",
    "    \n",
    "        // Fade to black\n",
    "        requestAnimationFrame(() => {\n",
    "            fadeOverlay.style.opacity = '1';\n",
    "        });\n",
    "    \n",
    "        setTimeout(() => {\n",
    "            // Switch levels when screen is black\n",
    "            const GameLevelClass = this.levelClasses[this.currentLevelIndex];\n",
    "            this.currentLevel = new GameLevel(this);\n",
    "            this.currentLevel.create(GameLevelClass);\n",
    "    \n",
    "            // Fade back in\n",
    "            fadeOverlay.style.opacity = '0';\n",
    "            setTimeout(() => document.body.removeChild(fadeOverlay), 1000);\n",
    "            \n",
    "            // Start game loop after transition\n",
    "            this.gameLoop();\n",
    "        }, 1000); // Wait for fade-out duration\n",
    "    }"
   ]
  }
 ],
 "metadata": {
  "kernelspec": {
   "display_name": "venv",
   "language": "python",
   "name": "python3"
  },
  "language_info": {
   "codemirror_mode": {
    "name": "ipython",
    "version": 3
   },
   "file_extension": ".py",
   "mimetype": "text/x-python",
   "name": "python",
   "nbconvert_exporter": "python",
   "pygments_lexer": "ipython3",
   "version": "3.12.3"
  }
 },
 "nbformat": 4,
 "nbformat_minor": 2
}
