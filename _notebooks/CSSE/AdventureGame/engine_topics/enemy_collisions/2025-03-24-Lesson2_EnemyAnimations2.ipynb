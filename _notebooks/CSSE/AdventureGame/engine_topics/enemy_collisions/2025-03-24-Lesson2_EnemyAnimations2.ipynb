{
 "cells": [
  {
   "cell_type": "raw",
   "metadata": {
    "vscode": {
     "languageId": "raw"
    }
   },
   "source": [
    "---\n",
    "layout: post\n",
    "categories: [Adventure Game]\n",
    "title: Overworld Level Profiles \n",
    "description:  Programmer Profiles \n",
    "type: issues \n",
    "comments: true\n",
    "permalink: /overworld/EnemyAnimations2\n",
    "---"
   ]
  },
  {
   "cell_type": "markdown",
   "metadata": {},
   "source": [
    "## What Are Death / Enemy Animations?\n",
    "\n",
    "Death animations are features in a game where when the player dies, there is an animation that plays instead of a simple alert letting the player know that they died. For example, in Minecraft, the player turns red and falls to the side when they are killed. In Mario, he jumps back before falling into the ground when he is killed, etc.\n",
    "\n",
    "Enemy animations are similar to death animations, but it happens to the enemy instead. For example, the animation in Minecraft where the creeper starts charging up before it explodes and such."
   ]
  },
  {
   "cell_type": "markdown",
   "metadata": {},
   "source": [
    "## Why Death / Enemy Animations are important \n",
    "\n",
    "Death animations are important in the game especially with the addition of enemies that the player has to avoid. It will siginify when the player had not completed the goal of avoiding the enemy. In our example, we have a creeper moving that the player has to avoid inorder to get to places in the game. Adding death animations creates and imersive experience for the player and gives a challenge to make the game more engaging. \n",
    "\n",
    "We do this by first telling the game by checking if the player collides with the sprite. In the previous lesson, we talked about how we created our own `Enemy.js` file for the enemies in the game. Using this file, we can create specific enemies extending from the main file. In our example, we created a `Creeper.js` file that's special to the creeper."
   ]
  },
  {
   "cell_type": "markdown",
   "metadata": {},
   "source": [
    "### Examples of Death / Enemy Animations\n",
    "\n",
    "The player exploding\n",
    "- This is the example that will be explained in the following lesson. But if you want to create other animations, there are many more options!\n",
    "\n",
    "The enemy exploding \n",
    "- Instead of making the player explode, it may be a better idea for the enemy to explode instead. But then, there would need to be a way to know that the player took damage and died. \n",
    "\n",
    "Player jump back \n",
    "- In games like Mario, there is a small animation where Mario bounces back from the collided enemy before dying. Something like that could be added into the game.\n",
    "\n",
    "Player turn red \n",
    "- Like in the actual Minecraft game, when players are damaged, they turn a shade of red for a moment before returning to moment. This could be another animation that happens when collided with the enemy \n",
    "\n",
    "Enemy sprite changes \n",
    "- While it could be fun to animate the explosion affect on the enemy, there could also be a way for the enemy png to change when collided with the player. For example, the Creeper sprite could change into a png of an explosion when collided with the player."
   ]
  },
  {
   "cell_type": "markdown",
   "metadata": {},
   "source": [
    "## Player Death Animation \n",
    "#### Creation of the actual animation inside of the enemy file\n",
    "\n",
    "The death animation is made in the `Enemy.js` file, it runs when collision with an enemy is detected. It is the `explode` function. \n",
    "\n",
    "```js\n",
    "explode(x,y) {\n",
    "        const shards = 20; // Number of 'shards' particles\n",
    "        for (let i = 0; i < shards; i++) { // for loop that runs 20 times in order to generate the shards\n",
    "            const shard = document.createElement('div'); // draws the shards \n",
    "            shard.style.position = 'absolute'; // ensures the position of the particles on the screen \n",
    "            shard.style.width = '5px'; \n",
    "            shard.style.height = '5px'; // size of the particles, 5x5\n",
    "            shard.style.backgroundColor = 'red'; // color of the shards\n",
    "            shard.style.left =  `${x}px`; // shards are placed at the center of the explosion \n",
    "            shard.style.top = `${this.gameEnv.top+y}px`;\n",
    "            this.canvas.parentElement.appendChild(shard); // adds shard to the canvas so its actually visible \n",
    "\n",
    "            const angle = Math.random() * 2 * Math.PI; // determines direction of the shard movement\n",
    "            const speed = Math.random() * 5 + 2; // determines how fast the shards are shot out \n",
    "\n",
    "            const shardX = Math.cos(angle) * speed; // horizontal movement \n",
    "            const shardY = Math.sin(angle) * speed; //vertical movement \n",
    "\n",
    "            shard.animate(\n",
    "                [\n",
    "                    { transform: 'translate(0, 0)', opacity: 1 },\n",
    "                    { transform: `translate(${shardX * 20}px, ${shardY * 20}px)`, opacity: 0 }, // the shards begin in the middle of the explosion at full opacity, then shoot out 20 times and fade away ending with opacity 0 \n",
    "                ],\n",
    "                {\n",
    "                    duration: 1000, // the animation lasts a second \n",
    "                    easing: 'ease-out', // makes it so the shards move fast when coming out but then slow down \n",
    "                    fill: 'forwards', // keeps the position of the animation, even after it ends \n",
    "                }\n",
    "            );\n",
    "\n",
    "            setTimeout(() => {\n",
    "                shard.remove(); // removes shards after animation\n",
    "            }, 1000); // 1000 means that the animation should last one second, the delete the remaining shards and cleans up\n",
    "        }\n",
    "    }\n",
    "```\n",
    "This creates the actual animation, but code in the `Creeper.js` file will make it so it actually runs."
   ]
  },
  {
   "cell_type": "markdown",
   "metadata": {},
   "source": [
    "### Where and how the animation is played \n",
    "\n",
    "Similarly to how there is a **handleCollisionEvent()** in `Enemy.js` so that the game knows when to restart after the Creeper and the player have collided, there is another **handleCollisionEvent()** called in `Creeper.js` in order for the death animation to happen.\n",
    "\n",
    "```js \n",
    "handleCollisionEvent() {\n",
    "        // this.gameEnv.gameObjects is an array that holds all the game objects, and this is looking for the object player and retrieves it when it is found\n",
    "        var player = this.gameEnv.gameObjects.find(obj => obj instanceof Player);\n",
    "        // checks if the player.id matches the id of what the creeper collided with .. it should be the same \n",
    "        if (player.id = this.collisionData.touchPoints.other.id) {\n",
    "            \n",
    "            console.log(\"Creeper collided with player!\");\n",
    "            \n",
    "        // stops the enemy, Creeper, to stop moving after the collision \n",
    "        this.velocity.x = 0;\n",
    "        this.velocity.y = 0;\n",
    "\n",
    "        // this calls the explode function. as seen before, the explode function is created inside of the enemy.js file \n",
    "        this.explode(player.position.x, player.position.y);\n",
    "        // kills the player after this animation is plated \n",
    "        player.destroy();\n",
    "        this.playerDestroyed = true;\n",
    "\n",
    "        // restarts  level after explosion animation\n",
    "        setTimeout(() => {\n",
    "            this.gameEnv.gameControl.restartLevel();\n",
    "        }, 3000); // the amount of time after the end of the animation until the game restarts, this can be adjusted \n",
    "        }\n",
    "    }\n",
    "```"
   ]
  }
 ],
 "metadata": {
  "language_info": {
   "name": "python"
  }
 },
 "nbformat": 4,
 "nbformat_minor": 2
}
