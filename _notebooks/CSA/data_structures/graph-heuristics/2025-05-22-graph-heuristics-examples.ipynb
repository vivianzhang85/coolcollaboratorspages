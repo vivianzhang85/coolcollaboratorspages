{
 "cells": [
  {
   "cell_type": "markdown",
   "id": "ea796469",
   "metadata": {},
   "source": [
    "---\n",
    "title: Graph Heuristics - Data Structures\n",
    "comments: true\n",
    "layout: post\n",
    "description: Examples of searches\n",
    "author: Srijan, Matthew, Trevor\n",
    "type: ccc\n",
    "nav: nav/graph-heuristics.html\n",
    "permalink: /heuristics/examples\n",
    "courses: { csa: {week: 32} }\n",
    "---"
   ]
  }
 ],
 "metadata": {
  "language_info": {
   "name": "python"
  }
 },
 "nbformat": 4,
 "nbformat_minor": 5
}
