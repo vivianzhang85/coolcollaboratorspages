{
 "cells": [
  {
   "cell_type": "raw",
   "id": "4f457ad4",
   "metadata": {
    "vscode": {
     "languageId": "raw"
    }
   },
   "source": [
    "---\n",
    "layout: post\n",
    "title: API Basics Lesoon Intro\n",
    "description:  Asynchronous Programming For APIs\n",
    "Author: Arnav Pallapotu\n",
    "permalink: /api-basics/lesson/async\n",
    "---"
   ]
  },
  {
   "cell_type": "markdown",
   "id": "7e8caba6",
   "metadata": {},
   "source": [
    "# A quick intro to JavaScript Asynchronous Programming"
   ]
  },
  {
   "cell_type": "markdown",
   "id": "97116c15",
   "metadata": {},
   "source": [
    "## One of the most important concepts to understand in Javascript is how it handles synchronous and asynchronous code.\n",
    "\n",
    "**Default Behavior in Javascript is Synchronous**\n",
    "\n",
    "JavaScript runs code line by line, in order. This is known as synchronous execution.\n",
    "\n",
    "Example of synchronous behavior:\n",
    "\n",
    "console.log(\"One\");\\\n",
    "console.log(\"Two\");\\\n",
    "console.log(\"Three\");\n",
    "\n",
    "*Output:*\n",
    "\n",
    "One\\\n",
    "Two\\\n",
    "Three\n",
    "\n",
    "**This works great — until you hit time-consuming tasks like:**\n",
    "1. Fetching data from a server\n",
    "2. Reading files\n",
    "3. Waiting for timers\n",
    "\n",
    "\n",
    "In these cases, if we use synchronous code it will block everything else until the task is done — and user experience will suffer.\n",
    "\n",
    "**Enter Asynchronous JavaScript**\n",
    "\n",
    "Asynchronous operations allow JavaScript to move on to other tasks while waiting for something (like a network request) to finish.\n",
    "JavaScript achieves this using tools like:\n",
    "* setTimeout()\n",
    "* async/await\n",
    "* Promises\n",
    "\n",
    "\n",
    "These let code keep running without getting \"stuck\" waiting."
   ]
  },
  {
   "cell_type": "markdown",
   "id": "51e3d7e0",
   "metadata": {},
   "source": [
    "## Example that illustrates asynchronous behavior using setTimeout\n",
    "\n",
    "**Notice that output shows 'after timeout' first followed by 'Timeout done'**\n",
    "\n",
    "This is because setTimeout is asynchronous and not blocking"
   ]
  },
  {
   "cell_type": "code",
   "execution_count": 5,
   "id": "ed318f59",
   "metadata": {
    "vscode": {
     "languageId": "javascript"
    }
   },
   "outputs": [
    {
     "data": {
      "application/javascript": "setTimeout(() => {\n  console.log(\"Timeout done\");\n}, 2000);\n\nconsole.log(\"After timeout\");\n",
      "text/plain": [
       "<IPython.core.display.Javascript object>"
      ]
     },
     "metadata": {},
     "output_type": "display_data"
    }
   ],
   "source": [
    "%%js\n",
    "setTimeout(() => {\n",
    "  console.log(\"Timeout done\");\n",
    "}, 2000);\n",
    "\n",
    "console.log(\"After timeout\");\n"
   ]
  },
  {
   "cell_type": "markdown",
   "id": "5d064bc9",
   "metadata": {},
   "source": [
    "## Example that uses async/await functions to fetch data from a Web API without blocking\n",
    "\n",
    "async and await: \n",
    "* The async keyword makes a function asynchronous, and \n",
    "* await pauses its execution until a Promise resolves, \n",
    "\n",
    "When the script runs, the following sequence of events occurs:\n",
    "\n",
    "* In main loop, fetchTodo() is called which invokes the function. \n",
    "* The first console.log statement, \"1. Calling fetch...\", is executed immediately from within the function\n",
    "* The script reaches await fetch(...). This line initiates a network request and pauses fetchTodo()'s execution. \n",
    "* **However, the rest of the main script continues to run.**\n",
    "* The second console.log statement in main loop, \"2. This line runs immediately...\", is executed. \n",
    "* This demonstrates that the main program flow isn't blocked while the network request is pending, which is the core concept of asynchronous programming.\n",
    "* The network request completes. The fetchTodo() function resumes its execution, and the next await keyword processes the response as JSON.\n",
    "* Finally, the last console.log statements inside the fetchTodo() function are executed, confirming that the data has been successfully fetched and processed. \n",
    "\n",
    "The try...catch block handles any potential errors that might occur during the network request or data processing."
   ]
  },
  {
   "cell_type": "code",
   "execution_count": 8,
   "id": "37202bf9",
   "metadata": {
    "vscode": {
     "languageId": "javascript"
    }
   },
   "outputs": [
    {
     "data": {
      "application/javascript": "async function fetchTodo() {\n  try {\n    console.log('1. Calling fetch...');\n    // The await keyword pauses this function's execution here...\n    const response = await fetch('https://jsonplaceholder.typicode.com/todos/1');\n\n    if (!response.ok) {\n      throw new Error(`Error: ${response.status}`);\n    }\n\n\n    // ...and resumes here once the Promise is fulfilled.\n    const todo = await response.json();\n    console.log('3. Data fetched and processed.');\n    console.log(todo);\n\n\n  } catch (error) {\n    console.error('Failed to fetch to-do item:', error);\n  }\n}\n\n\n// This is the main part of the script that runs immediately\nfetchTodo();\nconsole.log('2. This line runs immediately, before the fetch completes!');\n",
      "text/plain": [
       "<IPython.core.display.Javascript object>"
      ]
     },
     "metadata": {},
     "output_type": "display_data"
    }
   ],
   "source": [
    "%%js\n",
    "async function fetchTodo() {\n",
    "  try {\n",
    "    console.log('1. Calling fetch...');\n",
    "    // The await keyword pauses this function's execution here...\n",
    "    const response = await fetch('https://jsonplaceholder.typicode.com/todos/1');\n",
    "   \n",
    "    if (!response.ok) {\n",
    "      throw new Error(`Error: ${response.status}`);\n",
    "    }\n",
    "\n",
    "\n",
    "    // ...and resumes here once the Promise is fulfilled.\n",
    "    const todo = await response.json();\n",
    "    console.log('3. Data fetched and processed.');\n",
    "    console.log(todo);\n",
    "\n",
    "\n",
    "  } catch (error) {\n",
    "    console.error('Failed to fetch to-do item:', error);\n",
    "  }\n",
    "}\n",
    "\n",
    "\n",
    "// This is the main part of the script that runs immediately\n",
    "fetchTodo();\n",
    "console.log('2. This line runs immediately, before the fetch completes!');"
   ]
  },
  {
   "cell_type": "markdown",
   "id": "8763c0b3",
   "metadata": {},
   "source": [
    "# Promises\n",
    "\n",
    "* The async/await syntax is just syntactic sugar for Promises and .then() chains. \n",
    "* The JavaScript engine transforms async/await code into a series of Promise calls."
   ]
  },
  {
   "cell_type": "markdown",
   "id": "98a2ddf3",
   "metadata": {},
   "source": [
    "## What is a Promise\n",
    "\n",
    "* A Promise is a JavaScript object that represents a task that will be completed in the future. \n",
    "* It's a placeholder for the eventual result of an asynchronous operation, like fetching data or waiting for a timer to finish.\n",
    "* A Promise can be in one of three states:\\\n",
    "Pending: The initial state. The asynchronous task is still running.\\\n",
    "Fulfilled: The task completed successfully, and the Promise has a resulting value.\\\n",
    "Rejected: The task failed, and the Promise has an error."
   ]
  },
  {
   "cell_type": "code",
   "execution_count": null,
   "id": "77013331",
   "metadata": {
    "vscode": {
     "languageId": "javascript"
    }
   },
   "outputs": [
    {
     "data": {
      "application/javascript": "// Simple example to illustrate Javascript Promises\n\nconsole.log(\"A. Creating the promise...\");\n\nconst myPromise = new Promise((resolve, reject) => {\n  console.log(\"B. The executor function runs immediately!\");\n  setTimeout(() => {\n    resolve(\"C. The promise is resolved (after 2 seconds).\");\n  }, 2000);\n});\n\nconsole.log(\"D. This code runs after the promise is created but before it's resolved.\");\n\nmyPromise.then(message => {\n  console.log(message);\n});\n\nconsole.log(\"E. dfdfdfdfd.\");\n",
      "text/plain": [
       "<IPython.core.display.Javascript object>"
      ]
     },
     "metadata": {},
     "output_type": "display_data"
    }
   ],
   "source": [
    "%%js\n",
    "// Simple example to illustrate Javascript Promises\n",
    "\n",
    "console.log(\"A. Creating the promise...\");\n",
    "\n",
    "const myPromise = new Promise((resolve, reject) => {\n",
    "  console.log(\"B. The executor function runs immediately!\");\n",
    "  setTimeout(() => {\n",
    "    resolve(\"C. The promise is resolved (after 2 seconds).\");\n",
    "  }, 2000);\n",
    "});\n",
    "\n",
    "console.log(\"D. This code runs after the promise is created but before it's resolved.\");\n",
    "\n",
    "myPromise.then(message => {\n",
    "  console.log(message);\n",
    "});\n",
    "\n",
    "console.log(\"E. This code also runs after the promise is created but before it's resolved.\");\n"
   ]
  },
  {
   "cell_type": "markdown",
   "id": "0432a449",
   "metadata": {},
   "source": [
    "#### The Output\n",
    "The output in the console will be in this exact order, demonstrating the immediate execution of the promise's constructor code:\\\n",
    "A. Creating the promise...\\\n",
    "B. The executor function runs immediately!\\\n",
    "D. This code runs after the promise is created but before it's resolved.\\\n",
    "E. This code also runs after the promise is created but before it's resolved.\\\n",
    "(2-second delay)\\\n",
    "C. The promise is resolved (after 2 seconds).\n"
   ]
  },
  {
   "cell_type": "markdown",
   "id": "6cffd94f",
   "metadata": {},
   "source": [
    "* When a promise is created, the code inside the executor function (the function passed to new Promise()) runs immediately and synchronously. \n",
    "* It does not wait for the .then() consuming part.\n",
    "* The asynchronous part begins when the executor function starts a task that takes time, like a network request or a setTimeout.\n",
    "\n",
    "Here’s a breakdown:\n",
    "\n",
    "* Creation Phase (Synchronous): The new Promise() constructor is called, and the code inside its executor function starts executing right away. This is where you would initiate your long-running task.\n",
    "* Settling Phase (Asynchronous): The executor function, once it completes its asynchronous task, will eventually call either resolve() or reject(). This moves the promise from the pending state to fulfilled or rejected.\n",
    "* Consumption Phase (Asynchronous): Only after the promise is settled will the code inside the .then() or .catch() handlers be executed.\n"
   ]
  }
 ],
 "metadata": {
  "kernelspec": {
   "display_name": ".venv",
   "language": "python",
   "name": "python3"
  },
  "language_info": {
   "codemirror_mode": {
    "name": "ipython",
    "version": 3
   },
   "file_extension": ".py",
   "mimetype": "text/x-python",
   "name": "python",
   "nbconvert_exporter": "python",
   "pygments_lexer": "ipython3",
   "version": "3.12.3"
  }
 },
 "nbformat": 4,
 "nbformat_minor": 5
}
