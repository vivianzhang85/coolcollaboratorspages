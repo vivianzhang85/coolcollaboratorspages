{
 "cells": [
  {
   "cell_type": "markdown",
   "id": "b0eaceab",
   "metadata": {},
   "source": [
    "---\n",
    "title: Collections\n",
    "comments: true\n",
    "layout: post\n",
    "author: John Mortensen\n",
    "type: ccc\n",
    "permalink: /DTMcollectible\n",
    "courses: { csa: {week: 25} }\n",
    "---"
   ]
  },
  {
   "cell_type": "markdown",
   "id": "715a0505",
   "metadata": {},
   "source": [
    "# Collectibles"
   ]
  },
  {
   "cell_type": "markdown",
   "id": "af93caaa",
   "metadata": {},
   "source": [
    "## Learning Objectives"
   ]
  },
  {
   "cell_type": "markdown",
   "id": "dd58cde1",
   "metadata": {},
   "source": [
    "\n",
    "- Understand how to represent data using Java classes  \n",
    "- Apply ArrayLists, HashMaps, and loops to manage collections  \n",
    "- Practice object-oriented programming: constructors, encapsulation, and methods  \n",
    "- Build a basic text-based inventory system for collectibles  \n"
   ]
  },
  {
   "cell_type": "markdown",
   "id": "43a97f96",
   "metadata": {},
   "source": [
    "# 📦 Collectibles in Java\n",
    "\n",
    "## 📘 Introduction\n",
    "In Computer Science, **collections** refer to groups of related data items stored in a structure that allows efficient access, organization, and manipulation. Collections are foundational to software development and are used in everything from games and databases to search engines and machine learning.\n",
    "\n",
    "### 🎯 Learning Objectives\n",
    "- Represent data using Java classes\n",
    "- Apply `ArrayList`, `HashMap`, and loops to manage collections\n",
    "- Practice object-oriented programming: constructors, encapsulation, and methods\n",
    "- Build a basic text-based inventory system for collectibles\n",
    "\n",
    "---\n",
    "\n",
    "## 🗃️ What is a Collection?\n",
    "A **collection** is a data structure that holds multiple elements. Collections offer methods to **add**, **remove**, **search**, and **iterate** over elements.\n",
    "\n",
    "### Common Collection Types\n",
    "| Type         | Description |\n",
    "|--------------|-------------|\n",
    "| **List**     | Ordered, allows duplicates (e.g., `ArrayList`) |\n",
    "| **Set**      | Unordered, no duplicates (e.g., `HashSet`) |\n",
    "| **Map**      | Key-value pairs for fast lookups (e.g., `HashMap`) |\n",
    "| **Stack**    | LIFO access pattern (Last-In, First-Out) |\n",
    "| **Queue**    | FIFO access pattern (First-In, First-Out) |\n",
    "\n",
    "---\n",
    "\n",
    "## 💡 Why Use Collections?\n",
    "- Organize data logically (e.g., user profiles, game items)\n",
    "- Perform batch operations (e.g., filter, sort, search)\n",
    "- Reuse algorithms across data types\n",
    "\n",
    "---\n",
    "\n",
    "## 📚 Java Collection Examples\n",
    "\n",
    "### `ArrayList` (Ordered List)\n",
    "```java\n",
    "import java.util.ArrayList;\n",
    "List<String> fruits = new ArrayList<>();\n",
    "fruits.add(\"apple\");\n",
    "fruits.add(\"banana\");\n"
   ]
  },
  {
   "cell_type": "markdown",
   "id": "fa35bf8a",
   "metadata": {},
   "source": [
    "**HashSet (Unique Item)**"
   ]
  },
  {
   "cell_type": "markdown",
   "id": "41fde039",
   "metadata": {},
   "source": [
    "```java\n",
    "import java.util.HashSet;\n",
    "import java.util.Set;\n",
    "\n",
    "Set<String> uniqueTags = new HashSet<>();\n",
    "uniqueTags.add(\"AI\");\n",
    "uniqueTags.add(\"Python\");\n",
    "uniqueTags.add(\"Data\");\n",
    "uniqueTags.add(\"Python\");  // No effect, already present\n",
    "\n",
    "\n"
   ]
  },
  {
   "cell_type": "markdown",
   "id": "6643c458",
   "metadata": {},
   "source": [
    "## 3. Dictionary (HashMap)\n",
    "\n",
    "\t•\tMaps keys to values.\n",
    "\t•\tFast retrieval by key.\n",
    "\t•\tUseful for objects, configurations, or lookup tables.\n",
    "```java\n",
    "\n",
    "import java.util.HashMap;\n",
    "import java.util.Map;\n",
    "\n",
    "Map<String, Object> userProfile = new HashMap<>();\n",
    "userProfile.put(\"name\", \"Alice\");\n",
    "userProfile.put(\"score\", 1200);\n",
    "userProfile.put(\"level\", 5);"
   ]
  },
  {
   "cell_type": "markdown",
   "id": "639f8641",
   "metadata": {},
   "source": [
    "## 4. Stack\n",
    "\t•\tLIFO: Last In, First Out.\n",
    "\t•\tUsed in undo systems, expression parsing, function calls.\n",
    "```java\n",
    "import java.util.Stack;\n",
    "Stack<String> stack = new Stack<>();\n",
    "stack.push(\"action1\");\n",
    "String lastAction = stack.pop();\n"
   ]
  },
  {
   "cell_type": "markdown",
   "id": "90075da4",
   "metadata": {
    "vscode": {
     "languageId": "art"
    }
   },
   "source": [
    "## 5. Queue\n",
    "\t•\tFIFO: First In, First Out.\n",
    "\t•\tUsed in task scheduling, print queues, or event handling.\n",
    "```java\n",
    "\n",
    "import java.util.LinkedList;\n",
    "Queue<String> queue = new LinkedList<>();\n",
    "queue.add(\"task1\");\n",
    "queue.add(\"task2\");\n",
    "queue.add(\"task3\");\n",
    "queue.poll();  // Removes \"task1\"\n",
    "\n",
    "\n"
   ]
  },
  {
   "cell_type": "markdown",
   "id": "8f0c5a12",
   "metadata": {},
   "source": [
    "<img src=\"localhost:4100/pages/images/LIFO.png\">"
   ]
  },
  {
   "cell_type": "markdown",
   "id": "dd36f23e",
   "metadata": {},
   "source": [
    "<img src=\"localhost:4100/pages/images/ttpic.png\">\n"
   ]
  },
  {
   "cell_type": "markdown",
   "id": "1b80d67f",
   "metadata": {},
   "source": [
    "## Part 1: Define a Collectible Class"
   ]
  },
  {
   "cell_type": "markdown",
   "id": "2ab2571b",
   "metadata": {},
   "source": [
    "```Java\n",
    "// This class represents a collectible item, like a card, toy, or in-game item\n",
    "public class Collectible {\n",
    "\n",
    "    // Fields (also called instance variables) that store information about each collectible\n",
    "    private String name;   // The name of the collectible (e.g., \"Dragon Blade\")\n",
    "    private String type;   // The category or type (e.g., \"Weapon\", \"Fire\", \"Water\")\n",
    "    private int rarity;    // An integer representing rarity level (1 = Common, 5 = Legendary)\n",
    "\n",
    "    // Constructor: This method is called when a new Collectible object is created.\n",
    "    // It sets the initial values for name, type, and rarity.\n",
    "    public Collectible(String name, String type, int rarity) {\n",
    "        this.name = name;\n",
    "        this.type = type;\n",
    "        this.rarity = rarity;\n",
    "    }\n",
    "\n",
    "    // Getter method to return the name of the collectible\n",
    "    public String getName() { \n",
    "        return name; \n",
    "    }\n",
    "\n",
    "    // Getter method to return the type/category of the collectible\n",
    "    public String getType() { \n",
    "        return type; \n",
    "    }\n",
    "\n",
    "    // Getter method to return the rarity level\n",
    "    public int getRarity() { \n",
    "        return rarity; \n",
    "    }\n",
    "\n",
    "    // This method provides a readable string version of the object.\n",
    "    // It overrides the default toString() method so we can print something like:\n",
    "    // \"Phoenix Flame [Fire] (Rarity: 5)\"\n",
    "    public String toString() {\n",
    "        return name + \" [\" + type + \"] (Rarity: \" + rarity + \")\";\n",
    "    }\n",
    "}\n",
    "\n"
   ]
  },
  {
   "cell_type": "markdown",
   "id": "2a325ceb",
   "metadata": {},
   "source": [
    "Key components:\n",
    "- Encapsulation: Fields are marked private to prevent direct modification from outside the class. Access is controlled using getter methods.\n",
    "- Constructor: Makes it easy to create new Collectible objects with specific values.\n",
    "Custom toString(): Helps print the object in a human-readable way.\n",
    "- Use Case: This class could be used in a collection (like a List<Collectible> or Set<Collectible>) to build and manage a collection of unique or rare items."
   ]
  },
  {
   "cell_type": "markdown",
   "id": "238e181d",
   "metadata": {},
   "source": [
    "## Part 2: Create an Inventory Class"
   ]
  },
  {
   "cell_type": "markdown",
   "id": "11f52a4c",
   "metadata": {},
   "source": [
    "```Java\n",
    "import java.util.ArrayList; // Import the ArrayList class from the Java Collections Framework\n",
    "\n",
    "// This class represents an inventory that stores a collection of Collectible items\n",
    "public class Inventory {\n",
    "    // Field: a dynamic list to store Collectible objects\n",
    "    private ArrayList<Collectible> items;\n",
    "\n",
    "    // Constructor: initializes the ArrayList when an Inventory object is created\n",
    "    public Inventory() {\n",
    "        items = new ArrayList<>();\n",
    "    }\n",
    "\n",
    "    // Adds a new Collectible item to the inventory\n",
    "    public void addItem(Collectible c) {\n",
    "        items.add(c); // Uses ArrayList's add() method\n",
    "    }\n",
    "\n",
    "    // Displays all Collectibles in the inventory\n",
    "    public void showInventory() {\n",
    "        for (Collectible c : items) {\n",
    "            System.out.println(c); // Each Collectible's toString() method is called here\n",
    "        }\n",
    "    }\n",
    "\n",
    "    // Counts how many items in the inventory match a given type (case-insensitive)\n",
    "    public int countByType(String type) {\n",
    "        int count = 0;\n",
    "        for (Collectible c : items) {\n",
    "            if (c.getType().equalsIgnoreCase(type)) {\n",
    "                count++;\n",
    "            }\n",
    "        }\n",
    "        return count; // Returns the total number of matching items\n",
    "    }\n",
    "}\n",
    "\n"
   ]
  },
  {
   "cell_type": "markdown",
   "id": "e2ef5ed1",
   "metadata": {},
   "source": [
    "Key components:\n",
    "- ArrayList: A resizable list that holds all the Collectible objects (items field).\n",
    "- Encapsulation: Inventory hides the items list and provides methods to work with it.\n",
    "- Loops and Accessors: for-each loop is used to iterate through the list using getter methods.\n",
    "- Case-insensitive comparison: .equalsIgnoreCase() allows counting items regardless of text case.\n",
    "- Object-Oriented Design: The class interacts with another class (Collectible), modeling real-world systems.\n"
   ]
  },
  {
   "cell_type": "markdown",
   "id": "2cc6e58a",
   "metadata": {},
   "source": [
    "## Part 3: Main Program Logic"
   ]
  },
  {
   "cell_type": "markdown",
   "id": "a29dd348",
   "metadata": {},
   "source": [
    "```Java\n",
    "public class Main {\n",
    "    public static void main(String[] args) {\n",
    "        // Create a new Inventory instance\n",
    "        Inventory myInventory = new Inventory();\n",
    "\n",
    "        // Create some Collectible objects with different types and rarities\n",
    "        Collectible card1 = new Collectible(\"Phoenix Flame\", \"Fire\", 5);\n",
    "        Collectible card2 = new Collectible(\"Aqua Sprite\", \"Water\", 3);\n",
    "        Collectible card3 = new Collectible(\"Blazing Ember\", \"Fire\", 2);\n",
    "\n",
    "        // Add each Collectible to the inventory\n",
    "        myInventory.addItem(card1);\n",
    "        myInventory.addItem(card2);\n",
    "        myInventory.addItem(card3);\n",
    "\n",
    "        // Display all items currently in the inventory\n",
    "        myInventory.showInventory();\n",
    "\n",
    "        // Count and display how many items are of the \"Fire\" type\n",
    "        System.out.println(\"Number of Fire-type items: \" + myInventory.countByType(\"Fire\"));\n",
    "    }\n",
    "}\n",
    "\n",
    "// Runs the main method to execute the program in a notebook or REPL-style environment\n",
    "Main.main(null);"
   ]
  },
  {
   "cell_type": "markdown",
   "id": "b547fd16",
   "metadata": {},
   "source": [
    "<br>Phoenix Flame [Fire] (Rarity: 5)</br>\n",
    "<br>Aqua Sprite [Water] (Rarity: 3)</br>\n",
    "<br>Blazing Ember [Fire] (Rarity: 2)</br>\n",
    "<br>Number of Fire-type items: 2</br>"
   ]
  },
  {
   "cell_type": "markdown",
   "id": "9b8e204c",
   "metadata": {},
   "source": [
    "**LIFO INVENTORY CLASS**\n",
    "```Java\n",
    "import java.util.Stack;\n",
    "\n",
    "public class LifoInventory {\n",
    "    private Stack<Collectible> stack;\n",
    "\n",
    "    public LifoInventory() {\n",
    "        stack = new Stack<>();\n",
    "    }\n",
    "\n",
    "    public void addItem(Collectible c) {\n",
    "        stack.push(c);\n",
    "    }\n",
    "\n",
    "    public Collectible removeItem() {\n",
    "        if (!stack.isEmpty()) {\n",
    "            return stack.pop();\n",
    "        }\n",
    "        return null;\n",
    "    }\n",
    "\n",
    "    public void showInventory() {\n",
    "        for (Collectible c : stack) {\n",
    "            System.out.println(c);\n",
    "        }\n",
    "    }\n",
    "}\n"
   ]
  },
  {
   "cell_type": "markdown",
   "id": "e7bf4308",
   "metadata": {},
   "source": [
    "**FIFO INVENTORY CLASS**\n",
    "```Java\n",
    "import java.util.LinkedList;\n",
    "import java.util.Queue;\n",
    "\n",
    "public class FifoInventory {\n",
    "    private Queue<Collectible> queue;\n",
    "\n",
    "    public FifoInventory() {\n",
    "        queue = new LinkedList<>();\n",
    "    }\n",
    "\n",
    "    public void addItem(Collectible c) {\n",
    "        queue.offer(c);\n",
    "    }\n",
    "\n",
    "    public Collectible removeItem() {\n",
    "        return queue.poll(); // removes and returns first item\n",
    "    }\n",
    "\n",
    "    public void showInventory() {\n",
    "        for (Collectible c : queue) {\n",
    "            System.out.println(c);\n",
    "        }\n",
    "    }\n",
    "}\n"
   ]
  },
  {
   "cell_type": "markdown",
   "id": "9533a85c",
   "metadata": {},
   "source": [
    "**HASHMAP INVENTORY CLASS**\n",
    "```Java import java.util.HashMap;\n",
    "\n",
    "public class MapInventory {\n",
    "    private HashMap<String, Collectible> map;\n",
    "\n",
    "    public MapInventory() {\n",
    "        map = new HashMap<>();\n",
    "    }\n",
    "\n",
    "    public void addItem(String id, Collectible c) {\n",
    "        map.put(id, c); // uses a unique ID or name as the key\n",
    "    }\n",
    "\n",
    "    public Collectible getItem(String id) {\n",
    "        return map.get(id);\n",
    "    }\n",
    "\n",
    "    public void showInventory() {\n",
    "        for (String key : map.keySet()) {\n",
    "            System.out.println(key + \" → \" + map.get(key));\n",
    "        }\n",
    "    }\n",
    "}\n"
   ]
  },
  {
   "cell_type": "markdown",
   "id": "21876cb2",
   "metadata": {},
   "source": [
    "Key components:\n",
    "- Object Creation: New instances of Collectible are created with constructor values.\n",
    "- Method Calls: addItem(), showInventory(), and countByType() are called to interact with data.\n",
    "- Dynamic Storage: The ArrayList inside Inventory allows easy scaling as more items are added.\n",
    "- Encapsulation: The user of the class (in Main) doesn’t need to know how the ArrayList works internally."
   ]
  },
  {
   "cell_type": "markdown",
   "id": "737a886e",
   "metadata": {},
   "source": [
    "## Homework:\n",
    "\n",
    "⸻\n",
    "\n",
    "**List Task:**\n",
    "Modify your my_collection list to support bulk adding and removal of items using another list.\n",
    "\t•\tCreate a method that takes a list of new items and adds them all to my_collection.\n",
    "\t•\tCreate another method that removes all items in a given list from my_collection.\n",
    "\n",
    "\n",
    "**Dictionary Task:**\n",
    "Modify your item_details dictionary to support value updates and rarity-based filters.\n",
    "\t•\tAdd a method to update an item’s value by a percentage (e.g., increase all epic items by 10%).\n",
    "\t•\tCreate a method that filters and returns all items of a given rarity.\n",
    "\n",
    "\n",
    "**Set Task:**\n",
    "Add set-based tracking of items.\n",
    "\t•\tUse a traded_items set and a duplicate_items set.\n",
    "\t•\tAdd a method that checks if any new item being added is already in the collection, and if so, log it in duplicate_items.\n",
    "\t•\tEnsure no duplicates are added to the main list.\n",
    "\n",
    "\n",
    "**Print Method:**\n",
    "Create a method to display the full collection, showing:\n",
    "\t•\tItem name\n",
    "\t•\tRarity\n",
    "\t•\tValue\n",
    "Format the output cleanly (like a table or aligned print).\n",
    "\n",
    "⸻\n",
    "\n",
    "**Bonus Challenge:**\n",
    "Create a method that uses a stack to simulate nested inventory folders (e.g., Weapon > Magic > Fire > Scroll).\n",
    "\t•\tTrack your current folder path with a stack.\n",
    "\t•\tAllow going “deeper” and “back up” in the folder structure with push/pop.\n",
    "\t•\tPrint the full current path using the stack.\n",
    "\n",
    "⸻\n",
    "\n",
    "Sample Code Snippet:"
   ]
  },
  {
   "cell_type": "markdown",
   "id": "498469e8",
   "metadata": {},
   "source": [
    "```Java\n",
    "Stack<String> folderStack = new Stack<>();\n",
    "folderStack.push(\"Weapons\");\n",
    "folderStack.push(\"Magic\");\n",
    "folderStack.push(\"Fire\");\n",
    "\n",
    "System.out.println(String.join(\" > \", folderStack));  // Output: Weapons > Magic > Fire\n",
    "\n",
    "folderStack.pop(); // back out of Fire\n",
    "System.out.println(String.join(\" > \", folderStack));  // Output: Weapons > Magic"
   ]
  },
  {
   "cell_type": "markdown",
   "id": "1b576954",
   "metadata": {},
   "source": [
    "<br>Weapons > Magic > Fire</br>\n",
    "<br>Weapons > Magic</br>"
   ]
  }
 ],
 "metadata": {
  "kernelspec": {
   "display_name": "venv",
   "language": "python",
   "name": "python3"
  },
  "language_info": {
   "codemirror_mode": "java",
   "file_extension": ".jshell",
   "mimetype": "text/x-java-source",
   "name": "python",
   "pygments_lexer": "java",
   "version": "3.13.2"
  }
 },
 "nbformat": 4,
 "nbformat_minor": 5
}
