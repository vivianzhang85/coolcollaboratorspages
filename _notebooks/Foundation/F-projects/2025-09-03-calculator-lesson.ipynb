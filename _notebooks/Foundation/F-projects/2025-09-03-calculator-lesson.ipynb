{
 "cells": [
  {
   "cell_type": "raw",
   "id": "656dd848",
   "metadata": {},
   "source": [
    "---\n",
    "title: JS Calculator lesson\n",
    "description: Learn javascript and style while constructing a calculator.\n",
    "comments: false\n",
    "layout: post\n",
    "permalink: /calculator/lesson\n",
    "---"
   ]
  },
  {
   "cell_type": "markdown",
   "id": "07361a98",
   "metadata": {},
   "source": [
    "## Calculators\n",
    "\n",
    "A calculator is a great way to learn the basics of a programming language.\n",
    "\n",
    "Students can start calculator using HTML, CSS, and JavaScript. The calculator project will introduce coder to basic user interface design and key event handling in JavaScript.\n",
    "- Learn about STYLE and SCRIPT\n",
    "- Learn how STYLE is integrated into THEME\n",
    "\n",
    "* Many calculators are available on Internet and ChatGPT, search for \"calculator in javascript\".  Additionally, the Teachers has many generations of calculators...\n",
    "    * [Conventional Calculator](https://nighthawkcoders.github.io/APCSA/frontend/calculator)\n",
    "    * [Calculator with Background](https://nighthawkcoders.github.io/teacher/techtalk/home_style), including [Source](https://raw.githubusercontent.com/nighthawkcoders/teacher/main/_posts/2023-08-23-javascript-calculator.md)\n",
    "    * [Binary Calculator](https://nighthawkcoders.github.io/APCSA/frontend/binary)\n",
    "\n"
   ]
  },
  {
   "cell_type": "markdown",
   "id": "a176f6d8",
   "metadata": {},
   "source": [
    "## Code Overview\n",
    "\n",
    "Introduction to code TBD"
   ]
  },
  {
   "cell_type": "markdown",
   "id": "918e0d4f",
   "metadata": {},
   "source": [
    "## Hacks\n",
    "\n",
    "Hacks TBD\n",
    "\n"
   ]
  }
 ],
 "metadata": {
  "language_info": {
   "name": "python"
  }
 },
 "nbformat": 4,
 "nbformat_minor": 5
}
