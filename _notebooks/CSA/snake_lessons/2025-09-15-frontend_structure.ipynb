{
 "cells": [
  {
   "cell_type": "raw",
   "id": "9b9b8655",
   "metadata": {
    "vscode": {
     "languageId": "raw"
    }
   },
   "source": [
    "---\n",
    "layout: lessonbase\n",
    "title: \"Frontend Structure in Snake\"\n",
    "description: \"Learn about the frontend structure of the Snake game, including HTML, CSS, and JavaScript components.\"\n",
    "type: issues\n",
    "comments: true\n",
    "author: \"Anvay, Ruta, Vibha, Risha, Neil, Aadi\"\n",
    "permalink: /snake/lesson/frontend\n",
    "sidebar_title: \"🐍 Snake Lessons\"\n",
    "lesson_links:\n",
    "  - { text: \"Lesson 1: Game Debugging\", url: \"/agile/pair_trio\" }\n",
    "  - { text: \"Lesson 2: Frontend\", url: \"/snake/lesson/frontend\" }\n",
    "  - { text: \"Lesson 3: Programming Fundamentals\", url: \"/snake/lesson/fundamentals\" }\n",
    "  - { text: \"Lesson 4: Hacks\", url: \"/snake/lesson/hacks\" }\n",
    "  - { text: \"End of Lesson Quiz\", url: \"/snake/lesson/quiz\" }\n",
    "  - { text: \"Future References\", url: \"/snake/lesson/future-references\" }\n",
    "\n",
    "enable_timer: true\n",
    "enable_progress: true\n",
    "progress_total: 6\n",
    "enable_badges: true\n",
    "lesson_key: \"frontend\"\n",
    "lesson_badges:\n",
    "  - \"frontend\"\n",
    "enable_quiz: true\n",
    "\n",
    "resources:\n",
    "  - { text: \"MDN: Classes\", url: \"https://developer.mozilla.org/en-US/docs/Web/JavaScript/Reference/Classes\" }\n",
    "  - { text: \"JavaScript Info\", url: \"https://javascript.info\" }\n",
    "\n",
    "prev_url: \"/agile/pair_trio\"\n",
    "next_url: \"/snake/lesson/fundamentals\"\n",
    "---\n"
   ]
  },
  {
   "cell_type": "markdown",
   "id": "a90c7028",
   "metadata": {},
   "source": [
    "# Frontend Interaction Skills Through Snake\n",
    "\n",
    "## What is Frontend Development?\n",
    "\n",
    "Frontend development is about creating the **user interface**—the part of an application that users see and interact with. In Snake, this means:\n",
    "\n",
    "- How the game canvas responds to keyboard input\n",
    "- Visual feedback for game states (menu, playing, game over)\n",
    "- Smooth movement and animations\n",
    "- Responsive design for different screen sizes\n",
    "\n",
    "**The Big Picture:** Frontend is the bridge between users and your application's functionality."
   ]
  },
  {
   "cell_type": "markdown",
   "id": "fe334076",
   "metadata": {},
   "source": [
    "## The Frontend Stack: HTML, CSS, JavaScript\n",
    "\n",
    "```mermaid\n",
    "graph TB\n",
    "    subgraph \"Frontend Architecture\"\n",
    "        A[HTML<br/>Structure & Semantics] \n",
    "        B[CSS<br/>Styling & Layout]\n",
    "        C[JavaScript<br/>Behavior & Interactivity]\n",
    "    end\n",
    "    \n",
    "    A --> D[Canvas Element]\n",
    "    B --> E[Game Visuals]\n",
    "    C --> F[Event Handling]\n",
    "    \n",
    "    D --> G[Game Interface]\n",
    "    E --> G\n",
    "    F --> G\n",
    "```"
   ]
  },
  {
   "cell_type": "markdown",
   "id": "62f3946e",
   "metadata": {},
   "source": [
    "### HTML: Semantic Structure"
   ]
  },
  {
   "cell_type": "code",
   "execution_count": null,
   "id": "67af447f",
   "metadata": {
    "vscode": {
     "languageId": "html"
    }
   },
   "outputs": [],
   "source": [
    "<!-- Semantic structure tells browsers AND users what each area does -->\n",
    "<div class=\"game-container\">\n",
    "    <canvas id=\"snake\" width=\"320\" height=\"320\" tabindex=\"1\"></canvas>\n",
    "    <div id=\"menu\">Main Menu</div>\n",
    "    <div id=\"gameover\">Game Over</div>\n",
    "    <div id=\"setting\">Settings</div>\n",
    "</div>"
   ]
  },
  {
   "cell_type": "markdown",
   "id": "087b4fb6",
   "metadata": {},
   "source": [
    "**Key Principle:** HTML creates the skeleton. IDs and attributes connect structure to functionality."
   ]
  },
  {
   "cell_type": "markdown",
   "id": "a64f2f8e",
   "metadata": {},
   "source": [
    "### CSS: Visual Design & User Experience\n",
    "\n",
    "```css\n",
    ".wrap {\n",
    "    margin-left: auto;\n",
    "    margin-right: auto;\n",
    "}\n",
    "canvas {\n",
    "    border-style: solid;\n",
    "    border-width: 10px;\n",
    "    border-color: #FFFFFF;\n",
    "    transition: box-shadow 0.3s ease;\n",
    "}\n",
    ".canvas.focused {\n",
    "    box-shadow: 0 0 15px rgba(0, 255, 0, 0.5);\n",
    "}\n",
    "#menu, #gameover, #setting {\n",
    "    font-size: 20px;\n",
    "    color: #fff;\n",
    "}\n",
    "```\n",
    "\n",
    "**Key Principle:** CSS provides visual feedback that guides user behavior. Every interaction should have a visual response."
   ]
  },
  {
   "cell_type": "markdown",
   "id": "0778b22a",
   "metadata": {},
   "source": [
    "### JavaScript: Event Handling & Canvas Manipulation\n",
    "\n",
    "```javascript\n",
    "// Event handling connects user actions to application responses\n",
    "canvas.addEventListener('keydown', (e) => {\n",
    "    // Change direction based on arrow keys\n",
    "    changeDir(e.keyCode);\n",
    "});\n",
    "\n",
    "window.addEventListener('keydown', (evt) => {\n",
    "    if (evt.code === \"Space\" && SCREEN !== SCREEN_SNAKE)\n",
    "        newGame();\n",
    "});\n",
    "```\n",
    "\n",
    "**Key Concepts:** Event listeners, game state management, canvas rendering"
   ]
  },
  {
   "cell_type": "markdown",
   "id": "c7efc6c1",
   "metadata": {},
   "source": [
    "## Core Frontend Skills You'll Learn\n",
    "### Skill 1: Making Things Interactive\n",
    "\n",
    "**Learning Goal:** Understand how user actions trigger code responses\n",
    "\n",
    "```mermaid\n",
    "sequenceDiagram\n",
    "    participant User\n",
    "    participant Frontend\n",
    "    participant Game Logic\n",
    "    \n",
    "    User->>Frontend: Presses arrow key\n",
    "    Frontend->>Frontend: Update direction\n",
    "    Frontend->>Game Logic: Move snake\n",
    "    Game Logic-->>Frontend: Update game state\n",
    "    Frontend->>User: Re-render canvas\n",
    "```\n",
    "\n",
    "**Why This Matters:** Every keypress needs a response. Users expect immediate feedback."
   ]
  },
  {
   "cell_type": "markdown",
   "id": "73112554",
   "metadata": {},
   "source": [
    "### Skill 2: Visual State Management\n",
    "**Learning Goal:** Keep what users see synchronized with what's actually happening\n",
    "\n",
    "```mermaid\n",
    "graph TD\n",
    "    A[Game State Changes] --> B[Update Canvas]\n",
    "    B --> C[User Sees Current State]\n",
    "    C --> D[User Makes Action]\n",
    "    D --> A\n",
    "```\n",
    "\n",
    "**Why This Matters:** If visuals don't match reality, users get confused."
   ]
  },
  {
   "cell_type": "markdown",
   "id": "a6902df2",
   "metadata": {},
   "source": [
    "### Skill 3: Multi-Device Support\n",
    "**Learning Goal:** Make one interface work on phones, tablets, and computers\n",
    "\n",
    "```mermaid\n",
    "graph TB\n",
    "    A[Single Codebase] --> B[📱 Mobile: Touch Events]\n",
    "    A --> C[💻 Desktop: Keyboard Events] \n",
    "    A --> D[⌨️ Accessibility: Focus/Tab]\n",
    "    \n",
    "    B --> B1[Touch controls]\n",
    "    C --> C1[Arrow keys]\n",
    "    D --> D1[Screen readers]\n",
    "```\n",
    "\n",
    "**Why This Matters:** Your game should work for everyone, everywhere."
   ]
  },
  {
   "cell_type": "markdown",
   "id": "bbd081c2",
   "metadata": {},
   "source": [
    "## What You Just Learned\n",
    "\n",
    "🎯 **Skill 1:** Making interfaces interactive through event handling\n",
    "🎯 **Skill 2:** Keeping visuals synchronized with data\n",
    "🎯 **Skill 3:** Building responsive, accessible experiences\n",
    "\n",
    "## Why This Leads to JavaScript OOP\n",
    "\n",
    "As your frontend gets more complex, you need better ways to organize all this code.\n",
    "\n",
    "**The Solution:** JavaScript Object-Oriented Programming—building reusable, organized code modules.\n",
    "\n",
    "```mermaid\n",
    "graph TB\n",
    "    A[SnakeGame class] --> B[GameUI class]\n",
    "    B --> C[Controller class]\n",
    "    \n",
    "    A --> A1[Game logic]\n",
    "    B --> B1[Manage display updates]\n",
    "    C --> C1[Coordinate everything]\n",
    "```"
   ]
  },
  {
   "cell_type": "markdown",
   "id": "b5cbc377",
   "metadata": {},
   "source": [
    "## Quick Experiments to Try\n",
    "\n",
    "1. **Visual Feedback**: Add a subtle glow effect to the snake head when moving\n",
    "2. **Animation**: Create a smooth transition when the snake eats food\n",
    "3. **Theme Toggle**: Implement a dark/light theme switcher using CSS custom properties\n",
    "4. **Mobile Gestures**: Add basic touch support for direction changes\n",
    "\n",
    "---"
   ]
  },
  {
   "cell_type": "markdown",
   "id": "193a7d1f",
   "metadata": {},
   "source": [
    "## Key Takeaways\n",
    "\n",
    "✅ **Frontend = User Experience**: Every keypress and animation shapes how users feel about your application\n",
    "\n",
    "✅ **HTML + CSS + JavaScript**: Three technologies working together, each with a specific role\n",
    "\n",
    "✅ **Visual Feedback is Essential**: Users need immediate confirmation of their actions\n",
    "\n",
    "✅ **Responsive Design**: Modern applications work on all devices\n",
    "\n",
    "✅ **Performance Matters**: Smooth interactions require efficient code\n",
    "\n",
    "✅ **Accessibility Included**: Good frontend works for everyone\n",
    "\n",
    "**Next Up:** JavaScript OOP will show us how to organize this frontend code into maintainable, scalable applications.\n",
    "\n",
    "---"
   ]
  }
 ],
 "metadata": {
  "language_info": {
   "name": "python"
  }
 },
 "nbformat": 4,
 "nbformat_minor": 5
}
