{
 "cells": [
  {
   "cell_type": "markdown",
   "metadata": {},
   "source": [
    "---\n",
    "layout: post\n",
    "title: Merge Sort Homework\n",
    "type: issues \n",
    "courses: { csa: {week: 8} }\n",
    "comments: true\n",
    "permalink: /csa/team_teach/merge_sort_hw\n",
    "---"
   ]
  },
  {
   "cell_type": "markdown",
   "metadata": {},
   "source": [
    "What is the time complexity of merge sort in the best, worst, and average cases? Explain why.\n",
    "\n",
    "Compare merge sort with bubble sort and quicksort. When might merge sort be preferred?\n",
    "\n",
    "Why is merge sort considered a “divide and conquer” algorithm?\n",
    "\n",
    "Is merge sort stable? Why does this matter?"
   ]
  },
  {
   "cell_type": "markdown",
   "metadata": {},
   "source": [
    "# Instructions\n",
    "Task:\n",
    "Write a function in Java that implements merge sort.\n",
    "\n",
    "Bonus task:\n",
    "Modify your merge sort function to count how many comparisons are made during sorting.\n",
    "\n"
   ]
  }
 ],
 "metadata": {
  "language_info": {
   "name": "python"
  }
 },
 "nbformat": 4,
 "nbformat_minor": 2
}
