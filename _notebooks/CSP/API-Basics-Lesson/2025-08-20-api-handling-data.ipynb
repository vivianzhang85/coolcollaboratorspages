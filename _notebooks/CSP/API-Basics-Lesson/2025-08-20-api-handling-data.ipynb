{
 "cells": [
  {
   "cell_type": "raw",
   "id": "cc4fc813",
   "metadata": {},
   "source": [
    "---\n",
    "layout: post\n",
    "title: API Basics Lesoon Intro\n",
    "description:  How To Handle API data\n",
    "Author: William Windle\n",
    "permalink: /api-basics/lesson/handling-data\n",
    "---"
   ]
  },
  {
   "cell_type": "markdown",
   "id": "e37d78ab",
   "metadata": {},
   "source": [
    "# Handling API Data\n",
    "\n",
    "\n",
    "In this lesson you will learn how to get API data from public APIs that DONT need an API key.\n",
    "\n",
    "\n",
    "\n",
    "- What Is Fetch?\n",
    "- What Is Response?\n",
    "- How To Use Response\n",
    "- Using Simple User Input"
   ]
  },
  {
   "cell_type": "markdown",
   "id": "ffe049cc",
   "metadata": {},
   "source": [
    "#### Throught this lesson the code below will be referred to as a simple example to work with\n",
    "https://api.dictionaryapi.dev/api/v2/entries/en/INSERT_WORD_HERE"
   ]
  },
  {
   "cell_type": "code",
   "execution_count": null,
   "id": "66278816",
   "metadata": {
    "vscode": {
     "languageId": "html"
    }
   },
   "outputs": [
    {
     "data": {
      "text/html": [
       "\n",
       "<html>\n",
       "<body>\n",
       "<input type=\"text\" id=\"search\" placeholder=\"Search for a word\">\n",
       "<button onclick=\"FetchData()\">Search</button><br>\n",
       "<div id=\"result\"></div>\n",
       "\n",
       "    <script>\n",
       "        //Example of json Output\n",
       "        //{word: 'hello', phonetics: Array(3), meanings: Array(3), license: {…}, sourceUrls: Array(1)}length\n",
       "\n",
       "        async function  FetchData() {\n",
       "             document.getElementById(\"result\").innerHTML = \"\";\n",
       "            try {\n",
       "                 const word = document.getElementById(\"search\").value.toLowerCase();\n",
       "                if (!word) {\n",
       "                    alert(\"Please enter a word to search.\");\n",
       "                    return;\n",
       "                }\n",
       "\n",
       "                if (word.includes(\" \")) {\n",
       "                    document.getElementById(\"result\").innerHTML = \"<p>Please enter a single word without spaces.</p>\";\n",
       "                    return;\n",
       "                }\n",
       "\n",
       "                const response = await fetch(`https://api.dictionaryapi.dev/api/v2/entries/en/${word}`);\n",
       "\n",
       "                if (response.status === 404) {\n",
       "                    document.getElementById(\"result\").innerHTML = \"<p>Word not found.</p>\";\n",
       "                    throw new Error(\"word not found\");\n",
       "                    return;\n",
       "                }\n",
       "\n",
       "                if (response.status === 429) {\n",
       "                    document.getElementById(\"result\").innerHTML = \"<p>Too many requests. Please try again later.</p>\";\n",
       "                    throw new Error(\"Too many requests. Please try again later.\");\n",
       "                    return;\n",
       "                }\n",
       "\n",
       "                if (response.status === 500) {\n",
       "                    document.getElementById(\"result\").innerHTML = \"<p>Server error. Please try again later.</p>\";\n",
       "                    throw new Error(\"Server error. Please try again later.\");\n",
       "                    return;\n",
       "                }\n",
       "\n",
       "                    if (!response.ok) {\n",
       "                    console.log(response)\n",
       "                    throw new Error(\"Network response was not ok\");\n",
       "                }\n",
       "\n",
       "\n",
       "                const data = await response.json();\n",
       "                const meaning = data[0].meanings[0];\n",
       "\n",
       "                const input = document.getElementById(\"search\");\n",
       "                const resultDiv = document.getElementById(\"result\");\n",
       "\n",
       "                console.log(data)\n",
       "                console.log(\"Definition:\", meaning.definitions[0].definition);\n",
       "\n",
       "                resultDiv.innerHTML = `\n",
       "                    <h2>Word: ${data[0].word}</h2>\n",
       "                    <p><strong>Definition:</strong> ${meaning.definitions[0].definition}</p>\n",
       "                    <p><strong>Part of Speech:</strong> ${meaning.partOfSpeech}</p>\n",
       "                `;\n",
       "            }\n",
       "            catch (error) {\n",
       "                console.error(\"Fetch error:\", error);\n",
       "            }\n",
       "        }\n",
       "    </script>\n",
       "</body>\n",
       "</html>\n"
      ],
      "text/plain": [
       "<IPython.core.display.HTML object>"
      ]
     },
     "metadata": {},
     "output_type": "display_data"
    }
   ],
   "source": [
    "%%html\n",
    "\n",
    "<html>\n",
    "<body>\n",
    "<input type=\"text\" id=\"search\" placeholder=\"Search for a word\">\n",
    "<button onclick=\"FetchData()\">Search</button><br>\n",
    "<div id=\"result\"></div>\n",
    "\n",
    "    <script>\n",
    "        async function  FetchData() {\n",
    "             document.getElementById(\"result\").innerHTML = \"\";\n",
    "            try {\n",
    "                 const word = document.getElementById(\"search\").value.toLowerCase();\n",
    "                if (!word) {\n",
    "                    alert(\"Please enter a word to search.\");\n",
    "                    return;\n",
    "                }\n",
    "\n",
    "                if (word.includes(\" \")) {\n",
    "                    document.getElementById(\"result\").innerHTML = \"<p>Please enter a single word without spaces.</p>\";\n",
    "                    return;\n",
    "                }\n",
    "\n",
    "                const response = await fetch(`https://api.dictionaryapi.dev/api/v2/entries/en/${word}`);\n",
    "\n",
    "                if (response.status === 404) {\n",
    "                    document.getElementById(\"result\").innerHTML = \"<p>Word not found.</p>\";\n",
    "                    throw new Error(\"word not found\");\n",
    "                    return;\n",
    "                }\n",
    "\n",
    "                if (response.status === 429) {\n",
    "                    document.getElementById(\"result\").innerHTML = \"<p>Too many requests. Please try again later.</p>\";\n",
    "                    throw new Error(\"Too many requests. Please try again later.\");\n",
    "                    return;\n",
    "                }\n",
    "\n",
    "                if (response.status === 500) {\n",
    "                    document.getElementById(\"result\").innerHTML = \"<p>Server error. Please try again later.</p>\";\n",
    "                    throw new Error(\"Server error. Please try again later.\");\n",
    "                    return;\n",
    "                }\n",
    "\n",
    "                    if (!response.ok) {\n",
    "                    console.log(response)\n",
    "                    throw new Error(\"Network response was not ok\");\n",
    "                }\n",
    "\n",
    "\n",
    "                const data = await response.json();\n",
    "                const meaning = data[0].meanings[0];\n",
    "\n",
    "                const input = document.getElementById(\"search\");\n",
    "                const resultDiv = document.getElementById(\"result\");\n",
    "\n",
    "                console.log(data)\n",
    "                console.log(\"Definition:\", meaning.definitions[0].definition);\n",
    "\n",
    "                resultDiv.innerHTML = `\n",
    "                    <h2>Word: ${data[0].word}</h2>\n",
    "                    <p><strong>Definition:</strong> ${meaning.definitions[0].definition}</p>\n",
    "                    <p><strong>Part of Speech:</strong> ${meaning.partOfSpeech}</p>\n",
    "                `;\n",
    "            }\n",
    "            catch (error) {\n",
    "                console.error(\"Fetch error:\", error);\n",
    "            }\n",
    "        }\n",
    "    </script>\n",
    "</body>\n",
    "</html>"
   ]
  },
  {
   "cell_type": "markdown",
   "id": "9b788fd7",
   "metadata": {},
   "source": [
    "# What Is **Fetch**?\n",
    "\n",
    "Fetch is a function that is used to **get information** across the web using **HTTPS** requests. By default Fetch is set to **\"GET\"**. Using fetch we can **collect data** from public (or private) APIs allowing us to expand our tools/code with servers either public or your very own private api\n",
    "\n",
    "See the functions below\n",
    "\n",
    "- GET – to get data\n",
    "- POST – to create data\n",
    "- PUT – to replace/update data\n",
    "- PATCH – to partially update data\n",
    "- DELETE – to delete data\n"
   ]
  },
  {
   "cell_type": "code",
   "execution_count": 24,
   "id": "022c8250",
   "metadata": {
    "vscode": {
     "languageId": "html"
    }
   },
   "outputs": [
    {
     "data": {
      "text/html": [
       "<html>\n",
       "    <!-- Creates The Output Area -->\n",
       "    <div id=\"demo1Result\"></div>\n",
       "\n",
       "<script>\n",
       "    // Calls The Function\n",
       "FetchDef();\n",
       "\n",
       "async function FetchDef() {\n",
       "    // will fetch the word \"code\" for simplicity\n",
       "    try{\n",
       "    const response = await fetch(\"https://api.dictionaryapi.dev/api/v2/entries/en/code\");\n",
       "\n",
       "    // Checks if the fetch was successful\n",
       "    if (!response.ok) {\n",
       "        throw new Error(\"Network response was not ok\");\n",
       "    } \n",
       "    // Grabes The JSON data from the response\n",
       "    const data = await response.json();\n",
       "    console.log(data);\n",
       "    // Puts data into the html\n",
       "\n",
       "    document.getElementById(\"demo1Result\").innerHTML =\n",
       "     `<h3>The word is: ${data[0].word} </h3><br>\n",
       "   <p><strong> Definition: </strong> ${data[0].meanings[0].definitions[0].definition} </p>`\n",
       "}\n",
       "    catch (error) {\n",
       "        console.error(\"Fetch error:\", error);\n",
       "        document.getElementById(\"demo1Result\").innerHTML = \"<p>Error fetching data. Please try again later.</p>\";\n",
       "    }\n",
       "}\n",
       "</script>\n",
       "</html>\n"
      ],
      "text/plain": [
       "<IPython.core.display.HTML object>"
      ]
     },
     "metadata": {},
     "output_type": "display_data"
    }
   ],
   "source": [
    "%%html\n",
    "<html>\n",
    "    <!-- Creates The Output Area -->\n",
    "    <div id=\"demo1Result\"></div>\n",
    "\n",
    "<script>\n",
    "    // Calls The Function\n",
    "FetchDef();\n",
    "\n",
    "async function FetchDef() {\n",
    "    // will fetch the word \"code\" for simplicity\n",
    "    try{\n",
    "    const response = await fetch(\"https://api.dictionaryapi.dev/api/v2/entries/en/code\");\n",
    "\n",
    "    // Checks if the fetch was successful\n",
    "    if (!response.ok) {\n",
    "        throw new Error(\"Network response was not ok\");\n",
    "    } \n",
    "    // Grabes The JSON data from the response\n",
    "    const data = await response.json();\n",
    "    console.log(data);\n",
    "    // Puts data into the html\n",
    "\n",
    "    document.getElementById(\"demo1Result\").innerHTML =\n",
    "     `<h3>The word is: ${data[0].word} </h3><br>\n",
    "   <p><strong> Definition: </strong> ${data[0].meanings[0].definitions[0].definition} </p>`\n",
    "}\n",
    "    catch (error) {\n",
    "        console.error(\"Fetch error:\", error);\n",
    "        document.getElementById(\"demo1Result\").innerHTML = \"<p>Error fetching data. Please try again later.</p>\";\n",
    "    }\n",
    "}\n",
    "</script>\n",
    "</html>"
   ]
  },
  {
   "cell_type": "markdown",
   "id": "d153248d",
   "metadata": {},
   "source": [
    "## Breakdown\n",
    "\n",
    "First we create an **async** function and use **try and catch** to safley call out API\n",
    "\n",
    "In the code above we are finding the definition of the word \"Code\" as the url is ending with /code \n",
    "URL: \"https://api.dictionaryapi.dev/api/v2/entries/en/code\"\n",
    "\n",
    "using the Fetch function we are able to fetch the data from the API\n",
    "\n",
    "\n",
    "\n",
    "\n",
    "###### **NOTE not all APIs are the same read API documentation before calling th api**<br> This is the case for this API not every API you see <br> example: an api might not use /INSERT_WORD at the end of the URL\n",
    "\n"
   ]
  },
  {
   "cell_type": "code",
   "execution_count": 23,
   "id": "19f5a5bd",
   "metadata": {
    "vscode": {
     "languageId": "javascript"
    }
   },
   "outputs": [
    {
     "data": {
      "application/javascript": "// This code snippet is a simple example of how to fetch data from an API\n// await does not work in this context\nconst Response = await fetch('https://api.dictionaryapi.dev/api/v2/entries/en/hello')\n",
      "text/plain": [
       "<IPython.core.display.Javascript object>"
      ]
     },
     "metadata": {},
     "output_type": "display_data"
    }
   ],
   "source": [
    "%%js\n",
    "// This code snippet is a simple example of how to fetch data from an API\n",
    "// await does not work in this context\n",
    "const Response = await fetch('https://api.dictionaryapi.dev/api/v2/entries/en/hello')"
   ]
  },
  {
   "cell_type": "markdown",
   "id": "ec0bcb40",
   "metadata": {},
   "source": [
    "When we call the Fetch function the API will do some stuff on its end then it will send over data from their server to our fetch function.<br>\n",
    "\n",
    "This is were we use response to store the data given to us from the API"
   ]
  },
  {
   "cell_type": "markdown",
   "id": "380e1174",
   "metadata": {},
   "source": [
    "Then we check to see if the request went through to the server using the \"ok\" data provided with the response from the API"
   ]
  },
  {
   "cell_type": "code",
   "execution_count": null,
   "id": "809ac149",
   "metadata": {
    "vscode": {
     "languageId": "javascript"
    }
   },
   "outputs": [],
   "source": [
    "    if (!response.ok) {\n",
    "        throw new Error(\"Network response was not ok\");\n",
    "    } "
   ]
  },
  {
   "cell_type": "markdown",
   "id": "fb3d38b0",
   "metadata": {},
   "source": [
    "And finally we get the JSON data from out response and update the text inside the div to show the Word, <br> and the first word definition provided in **data.meanings**"
   ]
  },
  {
   "cell_type": "code",
   "execution_count": null,
   "id": "d133bb90",
   "metadata": {
    "vscode": {
     "languageId": "javascript"
    }
   },
   "outputs": [],
   "source": [
    "    const data = await response.json();\n",
    "    console.log(data);\n",
    "\n",
    "    document.getElementById(\"\").innerHTML =\n",
    "     `<h3>The word is: ${data[0].word} </h3><br>\n",
    "   <p><strong> Definition: </strong> ${data[0].meanings[0].definitions[0].definition} </p>`"
   ]
  },
  {
   "cell_type": "markdown",
   "id": "255ee3ce",
   "metadata": {},
   "source": [
    "# What Is Response?\n",
    "\n",
    "Response is how we store the data given to us from the server and if our request was processed or failed<br>\n",
    "\n",
    "When we send a response the data given back will store 2 important values for errors. These values are \"Ok\" and \"Status\"<br>\n",
    "\n",
    "These will let us know if our reqest went through\n",
    "\n",
    "### Status Code Ranges\n",
    "\n",
    "-100–199 — Informational\n",
    "The request was received processing continues.\n",
    "\n",
    "-200–299 — Success\n",
    "The request was successful.\n",
    "\n",
    "-300–399 — Redirection\n",
    "Further action is needed (e.g. redirected to a new URL).\n",
    "\n",
    "-400–499 — Client Error\n",
    "There was an issue with the request.\n",
    "\n",
    "-500–599 — Server Error\n",
    "The server failed to fulfill a valid request.\n",
    "\n",
    "\n",
    "**The important ones to look out here are the 200s 400s and 500s**\n",
    "\n"
   ]
  },
  {
   "cell_type": "markdown",
   "id": "0a2e1e8e",
   "metadata": {},
   "source": [
    "Some Ways you can cause an error in your code is if the URL is incorrect such as the main domain or the extention you are changing such as the word\n"
   ]
  },
  {
   "cell_type": "code",
   "execution_count": null,
   "id": "d51a07f3",
   "metadata": {
    "vscode": {
     "languageId": "javascript"
    }
   },
   "outputs": [
    {
     "data": {
      "application/javascript": "responseDemo()\n\nasync function responseDemo() {\n    // Try function not used for this example\n    const Response = await fetch('https://api.dictionaryapi.dev/api/v2/entries/en/hello')\n\n    console.log(Response)\n}\n",
      "text/plain": [
       "<IPython.core.display.Javascript object>"
      ]
     },
     "metadata": {},
     "output_type": "display_data"
    }
   ],
   "source": [
    "%%js\n",
    "responseDemo()\n",
    "\n",
    "async function responseDemo() {\n",
    "try {\n",
    "    const Response = await fetch('https://api.dictionaryapi.dev/api/v2/entries/en/hello')\n",
    "\n",
    "    if (!Response.ok) {\n",
    "        throw new Error(\"Network response was not ok\");\n",
    "    }\n",
    "}\n",
    "catch (error) {\n",
    "    console.error(\"There was a problem with the fetch operation:\", error);\n",
    "}\n",
    "}\n"
   ]
  },
  {
   "cell_type": "markdown",
   "id": "186ad07b",
   "metadata": {},
   "source": [
    "### **Example of a response output**"
   ]
  },
  {
   "attachments": {
    "image.png": {
     "image/png": "[encoded data removed]"
    }
   },
   "cell_type": "markdown",
   "id": "c13258bc",
   "metadata": {},
   "source": [
    "![image.png](attachment:image.png)"
   ]
  },
  {
   "cell_type": "markdown",
   "id": "fcd36b65",
   "metadata": {},
   "source": [
    "## **How To Use Response**\n",
    "\n",
    "Response is used in many different ways depending on what data is being given\n",
    "\n",
    "\n",
    "\n",
    "| Method       | Returns           | Use case                      |\n",
    "|--------------|-------------------|------------------------------|\n",
    "| json()       | Promise of JSON   | API responses with JSON data  |\n",
    "| text()       | Promise of text   | Plain text or HTML pages      |\n",
    "| blob()       | Promise of Blob   | Images, files, binary data    |\n",
    "| arrayBuffer()| Promise of buffer | Raw binary data manipulation  |\n",
    "| formData()   | Promise of FormData | HTML form submissions       |\n",
    "\n",
    "<small> **This lesson focuses on json** </small>"
   ]
  },
  {
   "cell_type": "markdown",
   "id": "9794a6fa",
   "metadata": {},
   "source": [
    "For this lesson we will just use the json format of the data recived from the response"
   ]
  },
  {
   "cell_type": "code",
   "execution_count": null,
   "id": "6e40b60c",
   "metadata": {
    "vscode": {
     "languageId": "javascript"
    }
   },
   "outputs": [
    {
     "data": {
      "application/javascript": "\ndataDemo()\n\nasync function dataDemo() {\n    // Try function not used for this example\n    const Response = await fetch('https://api.dictionaryapi.dev/api/v2/entries/en/hello')\n    const data = await Response.json() // Convert the response to JSON format\n    console.log(data)\n}\n",
      "text/plain": [
       "<IPython.core.display.Javascript object>"
      ]
     },
     "metadata": {},
     "output_type": "display_data"
    }
   ],
   "source": [
    "%%js\n",
    "\n",
    "dataDemo()\n",
    "\n",
    "async function dataDemo() {\n",
    "    // Try function not used for this example\n",
    "    const Response = await fetch('https://api.dictionaryapi.dev/api/v2/entries/en/hello')\n",
    "    const data = await Response.json() // Convert the response to JSON format\n",
    "    console.log(data)\n",
    "}"
   ]
  },
  {
   "attachments": {
    "image.png": {
     "image/png": "[encoded data removed]"
    }
   },
   "cell_type": "markdown",
   "id": "e0ed27d4",
   "metadata": {},
   "source": [
    "![image.png](attachment:image.png)\n",
    "\n",
    "<small> example of json data </small>"
   ]
  },
  {
   "cell_type": "markdown",
   "id": "3ccc73de",
   "metadata": {},
   "source": [
    "With this json data we can find all the meaining of a word, the word itself, and more information Some APIs will also include json and images. We can use this data to find the meaning of a word and show it to the user at any point needed. You can call this data by using the 'Data' variable that you create. In this example you can get the def using Data.meanings"
   ]
  },
  {
   "cell_type": "code",
   "execution_count": null,
   "id": "8715050c",
   "metadata": {
    "vscode": {
     "languageId": "javascript"
    }
   },
   "outputs": [],
   "source": [
    "const Data = await Response.json();\n",
    "const Meanings = Data[0].meanings;\n",
    "// Important to use [0] as the API returns an array of objects"
   ]
  },
  {
   "cell_type": "markdown",
   "id": "5e0b38ff",
   "metadata": {},
   "source": [
    "### **Using Simple User Input**\n",
    "\n",
    "because this is a dictionary we want the user to be able to search up whatever they want and not one set word. We can do this by changing the **end** of the **API URL** to the word we want. <br>\n",
    "\n",
    "**https://api.dictionaryapi.dev/api/v2/entries/en/USERS_WORD**\n",
    "\n",
    "We can get the user input by using an HTML input text box\n"
   ]
  },
  {
   "cell_type": "code",
   "execution_count": 32,
   "id": "e6e7f11d",
   "metadata": {
    "vscode": {
     "languageId": "html"
    }
   },
   "outputs": [
    {
     "data": {
      "text/html": [
       "\n",
       "<html>\n",
       "<input type=\"Text\" id=\"Demo1ID\" placeholder=\"Search for a word\">\n",
       "</html>\n"
      ],
      "text/plain": [
       "<IPython.core.display.HTML object>"
      ]
     },
     "metadata": {},
     "output_type": "display_data"
    }
   ],
   "source": [
    "%%html\n",
    "\n",
    "<html>\n",
    "<input type=\"Text\" id=\"Demo1ID\" placeholder=\"Search for a word\">\n",
    "</html>\n"
   ]
  },
  {
   "cell_type": "markdown",
   "id": "ec75d1ac",
   "metadata": {},
   "source": [
    "Using the ID of this text box we can find it in out js code using document.getElementById(\"\"). With this we can see the text inside the box and when a button is pressed we can send the fetch to the API to search for the word"
   ]
  },
  {
   "cell_type": "code",
   "execution_count": 45,
   "id": "485d4380",
   "metadata": {
    "vscode": {
     "languageId": "html"
    }
   },
   "outputs": [
    {
     "data": {
      "text/html": [
       "\n",
       "<html>\n",
       "  <body>\n",
       "    <input type=\"text\" id=\"DemoTextID1\" placeholder=\"Search for a word\">\n",
       "    <button onclick=\"Demo2()\">Search</button><br>\n",
       "\n",
       "    <script>\n",
       "      async function Demo2() {\n",
       "        const val = document.getElementById(\"DemoTextID1\").value;\n",
       "        console.log(\"You typed: \" + val);\n",
       "      }\n",
       "    </script>\n",
       "  </body>\n",
       "</html>\n"
      ],
      "text/plain": [
       "<IPython.core.display.HTML object>"
      ]
     },
     "metadata": {},
     "output_type": "display_data"
    }
   ],
   "source": [
    "%%html\n",
    "\n",
    "<html>\n",
    "  <body>\n",
    "    <input type=\"text\" id=\"DemoTextID1\" placeholder=\"Search for a word\">\n",
    "    <button onclick=\"Demo2()\">Search</button><br>\n",
    "\n",
    "    <script>\n",
    "      async function Demo2() {\n",
    "        const val = document.getElementById(\"DemoTextID1\").value;\n",
    "        console.log(\"You typed: \" + val);\n",
    "      }\n",
    "    </script>\n",
    "  </body>\n",
    "</html>"
   ]
  },
  {
   "cell_type": "markdown",
   "id": "e1709db9",
   "metadata": {},
   "source": [
    "With the input of the user we can now insert it into the end of the API url to find the data for the word inputed. This now allows us to take in user input and \"place\" it inside of the api. There are more advanced methods of sending user input instead of just the URL but this lesson is just the basics os API data,"
   ]
  },
  {
   "cell_type": "code",
   "execution_count": null,
   "id": "52425614",
   "metadata": {
    "vscode": {
     "languageId": "javascript"
    }
   },
   "outputs": [],
   "source": [
    "%%js\n",
    "//example snippet\n",
    "const word = \"code\"\n",
    "const response = await fetch(`https://api.dictionaryapi.dev/api/v2/entries/en/${word}`);"
   ]
  },
  {
   "cell_type": "markdown",
   "id": "56f27541",
   "metadata": {},
   "source": [
    "### Hack"
   ]
  },
  {
   "cell_type": "markdown",
   "id": "0bf0e737",
   "metadata": {},
   "source": [
    "Use the below template and try to get a JSON output for the word \"lesson\" or any word of your choice\n"
   ]
  },
  {
   "cell_type": "code",
   "execution_count": null,
   "id": "7c96edb3",
   "metadata": {
    "vscode": {
     "languageId": "javascript"
    }
   },
   "outputs": [],
   "source": [
    "%%js // indicates in jupeter notebook that this is js (make sure it says js in bottom right corner)\n",
    "\n",
    "async function fetchWordData() {\n",
    "\n",
    "    try {\n",
    "\n",
    "\n",
    "        const data =\n",
    "\n",
    "        console.log(data);\n",
    "    }\n",
    "    catch (error) {\n",
    "        console.error(\"Error fetching data:\", error);\n",
    "\n",
    "    }\n",
    "}\n"
   ]
  }
 ],
 "metadata": {
  "kernelspec": {
   "display_name": "Python 3",
   "language": "python",
   "name": "python3"
  },
  "language_info": {
   "codemirror_mode": {
    "name": "ipython",
    "version": 3
   },
   "file_extension": ".py",
   "mimetype": "text/x-python",
   "name": "python",
   "nbconvert_exporter": "python",
   "pygments_lexer": "ipython3",
   "version": "3.12.3"
  }
 },
 "nbformat": 4,
 "nbformat_minor": 5
}
