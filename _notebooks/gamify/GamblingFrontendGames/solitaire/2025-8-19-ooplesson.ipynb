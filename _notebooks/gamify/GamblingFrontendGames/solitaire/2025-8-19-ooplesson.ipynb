{
 "cells": [
  {
   "cell_type": "raw",
   "id": "43b8b987",
   "metadata": {
    "vscode": {
     "languageId": "raw"
    }
   },
   "source": [
    "---\n",
    "layout: lessonbase\n",
    "title: Object-Oriented Programming (OOP) Concepts Through Solitaire\n",
    "description: Learn fundamental OOP principles by examining a complete Klondike Solitaire implementation - from simple Card objects to complex game mechanics.\n",
    "type: issues\n",
    "author: Risha, Anvay, Ruta, Vibha, Neil, Aadi\n",
    "comments: True\n",
    "sidebar_title: \"🎮 Solitaire Lessons\"\n",
    "lesson_links:\n",
    "  - { text: \"Lesson 1: Frontend\", url: \"/solitaire/lesson/frontend\" }\n",
    "  - { text: \"Lesson 2: OOP\", url: \"/solitaire/lesson/oop\" }\n",
    "  - { text: \"Lesson 3: Problem Solving\", url: \"/solitaire/lesson/problem-solving\" }\n",
    "  - { text: \"Lesson 4: LXD\", url: \"/solitaire/lesson/lxd\" }\n",
    "  - { text: \"End of Lesson Quiz\", url: \"/solitaire/lesson/quiz\" }\n",
    "  - { text: \"Future References\", url: \"/solitaire/lesson/future-references\" }\n",
    "\n",
    "\n",
    "\n",
    "enable_timer: true\n",
    "enable_progress: true\n",
    "progress_total: 6\n",
    "\n",
    "enable_badges: true\n",
    "lesson_key: \"oop\"\n",
    "lesson_badges:\n",
    " - \"oop\"\n",
    "enable_sandbox: true\n",
    "enable_quiz: true\n",
    "enable_ai_grading: true\n",
    "\n",
    "resources:\n",
    "  - { text: \"MDN: Classes\", url: \"https://developer.mozilla.org/en-US/docs/Web/JavaScript/Reference/Classes\" }\n",
    "  - { text: \"JavaScript Info\", url: \"https://javascript.info\" }\n",
    "\n",
    "prev_url: \"/solitaire/lesson/frontend\"\n",
    "next_url: \"/solitaire/lesson/problem-solving\"\n",
    "permalink: /solitaire/lesson/oop\n",
    "---"
   ]
  },
  {
   "cell_type": "markdown",
   "id": "f4fe7908",
   "metadata": {},
   "source": [
    "# Object-Oriented Programming Through Solitaire\n",
    "\n",
    "Object-Oriented Programming (OOP) is one of the most common approaches to writing software. Instead of just writing functions and variables, we model our code around objects—entities that combine both data (properties) and behaviors (methods).\n",
    "\n",
    "This lesson will walk you through OOP using a Solitaire game as our example. By the end, you’ll see how the concepts of **encapsulation, abstraction, inheritance, and polymorphism** are not just theoretical ideas, but directly useful when building real software."
   ]
  },
  {
   "cell_type": "markdown",
   "id": "031a2dbb",
   "metadata": {},
   "source": [
    "## 1. Core OOP Concepts\n",
    "\n",
    "Before we dive into Solitaire, let’s review the key ideas behind OOP:\n",
    "\n",
    "| Pillar of OOP | Use Case |\n",
    "| --------------|-----------------|\n",
    "| Encapsulation | Grouping related data and methods together, while controlling how they can be accessed |\n",
    "| Abstraction |Hiding complex implementation details behind simple, clear interfaces |\n",
    "|Inheritance | Defining new classes that reuse and extend behavior from existing classes |\n",
    "| Polymorphism | Allowing different classes to respond to the same method call in their own way |\n",
    "\n",
    "\n",
    "**Benefits:**\n",
    "\n",
    "- Clearer structure\n",
    "- Easier to maintain and extend\n",
    "- Matches how we think about real-world problems\n",
    "\n",
    "**Drawbacks:**\n",
    "\n",
    "- Can be overcomplicated if misused\n",
    "- Sometimes slower to implement for very simple programs"
   ]
  },
  {
   "cell_type": "markdown",
   "id": "514e6564",
   "metadata": {},
   "source": [
    "## 2. Why OOP for Solitaire?\n",
    "\n",
    "Solitaire maps almost perfectly onto object-oriented programming. The way we think about **physical cards and piles** mirrors how we design **classes and objects** in code. The table below connects real-world Solitaire to the four pillars of OOP.\n",
    "\n",
    "| Solitaire Concept | How it Works in the Game | OOP Concept |\n",
    "| ----------------- | --------------------- | -------------------| \n",
    "| **Card** | Each card has a suit, rank, color, and a face-up/face-down state | **Encapsulation** – Each ```Card``` object holds its own data, instead of scattering those details across the program |\n",
    "| **Pile** (stock, waste, tableau, foundation) | Different piles follow different rules: tableau builds downward in alternating colors, foundations build upward in the same suit | **Inheritance & Polymorphism** – All piles share a base ```Pile``` class but override ```canAccept()``` with their own rules |\n",
    "| **Player’s Strategy** | The player thinks ahead, deciding which cards to move where | **Abstraction** – The ```Game``` class hides the complex rules of moving cards behind simple commands like ```tryMoveCardById()``` |\n",
    "| **Player’s Hands** (making moves) | The hands execute the chosen move: draw from stock, drag cards, place them | **Controller Object** – The ```Controller``` connects user input (mouse/keyboard) to the game logic |\n",
    "| **Overall Game** | Keeps track of score, timer, win conditions, and manages all piles | **Composition** – The ```Game``` class is built from smaller objects (Deck, Piles, Timer) |\n",
    "\n",
    "\n",
    "**tl;dr:** When we say Solitaire is a “natural fit for OOP,” we mean this:\n",
    "\n",
    "- Cards are objects\n",
    "- Piles inherit from a common base but specialize their rules\n",
    "- The Game provides abstraction, hiding complex steps behind simple actions\n",
    "- The Controller acts like the player’s hands, connecting ideas to actions\n",
    "\n",
    "OOP models the real world of Solitaire directly, which makes the code easier to understand and extend.\n",
    "\n",
    "Now, let's learn about how we implemented that into the functional game linked at /solitaire/. "
   ]
  },
  {
   "cell_type": "markdown",
   "id": "63b565db",
   "metadata": {},
   "source": [
    "## 3. Our Game's Modular Structure\n",
    "\n",
    "We split the game into separate classes and files.\n",
    "\n",
    "### Logical Flow\n",
    "\n",
    "Before looking at files and folders, it helps to see how the main parts of the game depend on each other conceptually. The diagram below shows the **logical flow** of the Solitaire program: how cards and piles build up into the Game, and how the Controller and UI interact with it."
   ]
  },
  {
   "cell_type": "markdown",
   "id": "debf857e",
   "metadata": {},
   "source": [
    "```mermaid\n",
    "graph TD\n",
    "    Card --> Deck\n",
    "    Deck --> Game\n",
    "    Pile --> FoundationPile\n",
    "    Pile --> TableauPile\n",
    "    Pile --> StockPile\n",
    "    Pile --> WastePile\n",
    "    FoundationPile --> Game\n",
    "    TableauPile --> Game\n",
    "    StockPile --> Game\n",
    "    WastePile --> Game\n",
    "    Game --> Controller\n",
    "    UI --> Controller\n",
    "    Controller --> Game\n",
    "    Controller --> UI\n",
    "```"
   ]
  },
  {
   "cell_type": "markdown",
   "id": "92da4d1c",
   "metadata": {},
   "source": [
    "This view answers the question: “Which class uses which other class?”. It’s about roles and relationships rather than files.\n",
    "\n",
    "### File Structure\n",
    "\n",
    "Once you understand the logical relationships, it’s helpful to see how the code is organized in the repository. Each box here is a file or folder, showing the physical structure of the project on disk. "
   ]
  },
  {
   "cell_type": "markdown",
   "id": "6d859af7",
   "metadata": {},
   "source": [
    "```mermaid\n",
    "flowchart TB\n",
    "  ROOT[\"(repo root)\"]\n",
    "  ROOT --> A[\"/assets\"]\n",
    "  A --> B[\"/assets/js\"]\n",
    "  B --> C[\"/assets/js/solitaire\"]\n",
    "  C --> C1[\"models.js\"]\n",
    "  C --> C2[\"game.js\"]\n",
    "  C --> C3[\"ui.js\"]\n",
    "  C --> C4[\"controller.js\"]\n",
    "  C --> C5[\"main.js\"]\n",
    "  ROOT --> P[\"Solitaire Page: /solitaire\"]\n",
    "```"
   ]
  },
  {
   "cell_type": "markdown",
   "id": "d4b7784a",
   "metadata": {
    "vscode": {
     "languageId": "raw"
    }
   },
   "source": [
    "This view answers the question: “Where do I find the code for each part of the game?”. It’s about files and folders rather than abstract design.\n",
    "\n",
    "Together, these two diagrams give both a conceptual map and a practical map: one shows how the classes connect, the other shows where the code lives. This modular approach makes the game easy to understand: each file and class has a clear role. \n",
    "\n",
    "\n",
    "## 4. Examples of Each OOP Pillar\n",
    "\n",
    "### 4.1. Encapsulation\n",
    "\n",
    "Encapsulation means keeping an object’s data safe and only allowing controlled access."
   ]
  },
  {
   "cell_type": "code",
   "execution_count": null,
   "id": "fc468730",
   "metadata": {
    "vscode": {
     "languageId": "javascript"
    }
   },
   "outputs": [],
   "source": [
    "// models.js\n",
    "export class Pile {\n",
    "  constructor(type) {\n",
    "    this.type = type;\n",
    "    this.cards = [];  // Internal data\n",
    "  }\n",
    "\n",
    "  top() { return this.cards[this.cards.length - 1]; }\n",
    "  push(card) { this.cards.push(card); }\n",
    "  pop() { return this.cards.pop(); }\n",
    "  get isEmpty() { return this.cards.length === 0; }\n",
    "}"
   ]
  },
  {
   "cell_type": "markdown",
   "id": "b9ff8378",
   "metadata": {},
   "source": [
    "- The cards array is hidden inside each Pile \n",
    "- Other code can’t directly mess with it; instead, it must use ```push()``` or ```pop()``` \n",
    "- This keeps the game state consistent and prevents errors \n",
    "\n",
    "### 4.2. Abstraction\n",
    "\n",
    "Abstraction hides messy details and gives us simple ways to do complex things."
   ]
  },
  {
   "cell_type": "code",
   "execution_count": null,
   "id": "294ba294",
   "metadata": {
    "vscode": {
     "languageId": "javascript"
    }
   },
   "outputs": [],
   "source": [
    "// game.js\n",
    "tryMoveCardById(cardId, targetKind, targetIndex) {\n",
    "  const loc = this.findCard(cardId);\n",
    "  if (!loc || !loc.card.faceUp) return false;\n",
    "\n",
    "  const targetPile = this.getPile(targetKind, targetIndex);\n",
    "  if (!targetPile) return false;\n",
    "\n",
    "  if (targetPile.canAccept(loc.card)) {\n",
    "    this._moveCards(loc.pile, targetPile, 1);\n",
    "    this.addScore(10);\n",
    "    this._afterMove(loc.pile);\n",
    "    return true;\n",
    "  }\n",
    "  return false;\n",
    "}"
   ]
  },
  {
   "cell_type": "markdown",
   "id": "e964ca1a",
   "metadata": {},
   "source": [
    "From the outside, calling ```tryMoveCardById()``` looks simple. Internally, it:\n",
    "\n",
    "- Finds the card\n",
    "- Checks rules\n",
    "- Moves the card\n",
    "- Updates the score\n",
    "- Refreshes the UI\n",
    "\n",
    "The complexity is hidden, so the rest of the program can just say: “Try to move this card here.”\n",
    "\n",
    "### 4.3. Inheritance\n",
    "\n",
    "Inheritance lets us create specialized versions of a base class. All piles share common behavior, but each has unique rules."
   ]
  },
  {
   "cell_type": "code",
   "execution_count": null,
   "id": "31fd9f78",
   "metadata": {
    "vscode": {
     "languageId": "javascript"
    }
   },
   "outputs": [],
   "source": [
    "// models.js\n",
    "class FoundationPile extends Pile {\n",
    "  constructor() { super('foundation'); }\n",
    "  canAccept(card) {\n",
    "    if (this.isEmpty) return card.rank === 'A';\n",
    "    const top = this.top();\n",
    "    return (card.suit === top.suit && card.value === top.value + 1);\n",
    "  }\n",
    "}\n",
    "\n",
    "class TableauPile extends Pile {\n",
    "  constructor() { super('tableau'); }\n",
    "  canAccept(card) {\n",
    "    if (this.isEmpty) return card.rank === 'K';\n",
    "    const top = this.top();\n",
    "    return (card.color !== top.color && card.value === top.value - 1);\n",
    "  }\n",
    "}"
   ]
  },
  {
   "cell_type": "markdown",
   "id": "3d4d5093",
   "metadata": {},
   "source": [
    "- Both inherit ```push()```, ```pop()```, and ```top()``` from Pile.\n",
    "- But each defines its own ```canAccept()``` method, enforcing the rules of Solitaire.\n",
    "\n",
    "### 4.4. Polymorphism\n",
    "\n",
    "Polymorphism means different objects can respond to the same method in different ways."
   ]
  },
  {
   "cell_type": "code",
   "execution_count": null,
   "id": "e4520508",
   "metadata": {
    "vscode": {
     "languageId": "javascript"
    }
   },
   "outputs": [],
   "source": [
    "const allPiles = [\n",
    "  new FoundationPile(),\n",
    "  new TableauPile(),\n",
    "  new StockPile(),\n",
    "  new WastePile()\n",
    "];\n",
    "\n",
    "// All piles can be asked the same question:\n",
    "allPiles.forEach(pile => {\n",
    "  if (pile.canAccept && pile.canAccept(selectedCard)) {\n",
    "    pile.push(selectedCard);\n",
    "  }\n",
    "});"
   ]
  },
  {
   "cell_type": "markdown",
   "id": "66628eb0",
   "metadata": {},
   "source": [
    "- Each pile type implements its own version of ```canAccept()```\n",
    "- The Game doesn’t need to know which type it’s dealing with—it just calls the method and trusts the object to know what to do"
   ]
  },
  {
   "cell_type": "markdown",
   "id": "567676cd",
   "metadata": {},
   "source": [
    "## 5. Key Takeaways\n",
    "\n",
    "By modeling Solitaire with OOP, we created a **structured, modular, and maintainable game***:\n",
    "\n",
    "✅ Encapsulation keeps card data safe inside piles.\n",
    "✅ Abstraction makes game actions simple, even if the code behind them is complex.\n",
    "✅ Inheritance allows different pile types to share common behavior while adding their own rules.\n",
    "✅ Polymorphism lets the Game treat all piles the same, while each pile enforces its own rules.\n",
    "\n",
    "This is the power of OOP: turning a real-world system (like Solitaire) into clear, reusable code.\n",
    "\n",
    "As you continue learning, try building small games or simulations of your own. Notice how often these four OOP principles appear: it’s no accident that they’re considered the foundation of modern programming.\n",
    "\n",
    "**Next Up:** Complete hacks to solidify your understanding!"
   ]
  }
 ],
 "metadata": {
  "language_info": {
   "name": "python"
  }
 },
 "nbformat": 4,
 "nbformat_minor": 5
}
