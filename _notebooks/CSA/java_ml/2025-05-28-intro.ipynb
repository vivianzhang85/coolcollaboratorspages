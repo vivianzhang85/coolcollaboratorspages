{
 "cells": [
  {
   "cell_type": "code",
   "execution_count": null,
   "id": "06664511",
   "metadata": {
    "vscode": {
     "languageId": "yaml"
    }
   },
   "outputs": [],
   "source": [
    "---\n",
    "toc: False \n",
    "layout: tailwindPost\n",
    "infoGraph: javaML\n",
    "title: Introduction to Java ML\n",
    "description: Java Machine Learning, covering concepts and tools.\n",
    "courses: { csa: {week: 31} } \n",
    "type: ccc\n",
    "categories: [JavaML]\n",
    "permalink: /javaml/intro\n",
    "---"
   ]
  },
  {
   "cell_type": "markdown",
   "id": "aede9060",
   "metadata": {},
   "source": [
    "{%- include tailwind/infograph.html -%}"
   ]
  }
 ],
 "metadata": {
  "language_info": {
   "name": "python"
  }
 },
 "nbformat": 4,
 "nbformat_minor": 5
}
