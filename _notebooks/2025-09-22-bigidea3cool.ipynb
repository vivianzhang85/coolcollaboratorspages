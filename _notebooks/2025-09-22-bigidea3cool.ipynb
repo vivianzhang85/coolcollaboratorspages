{
 "cells": [
  {
   "cell_type": "code",
   "execution_count": null,
   "id": "22839350",
   "metadata": {
    "vscode": {
     "languageId": "plaintext"
    }
   },
   "outputs": [],
   "source": [
    "work on this\n"
   ]
  }
 ],
 "metadata": {
  "language_info": {
   "name": "python"
  }
 },
 "nbformat": 4,
 "nbformat_minor": 5
}
