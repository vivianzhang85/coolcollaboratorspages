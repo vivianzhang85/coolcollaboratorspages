{
 "cells": [
  {
   "cell_type": "markdown",
   "id": "96263eff",
   "metadata": {},
   "source": [
    "---\n",
    "layout: post\n",
    "title: Weka\n",
    "permalink: /javaml/intro/weka\n",
    "breadcrumb: True\n",
    "---"
   ]
  },
  {
   "cell_type": "markdown",
   "id": "f4a1dc2d",
   "metadata": {},
   "source": [
    "# WEKA\n",
    "\n",
    "## What Is WEKA?\n",
    "\n",
    "- WEKA stands for **Waikato Environment for Knowledge Analysis** (what does that even mean?)\n",
    "- WEKA is a simple and powerful tool that helps computers **learn from data**\n",
    "- Contains a collection of visualization tools and algorithms for data analysis and predictive modeling (essentially a toolkit for machine learning on visual stuff)\n",
    "\n",
    "Imagine you’re trying to decide if a picture is of a cat or a dog. You look at enough pictures and eventually, you start to notice patterns. WEKA does the same thing\n",
    "\n",
    "![Image](https://github.com/user-attachments/assets/77b50e7a-51cc-4c91-a217-e9a07e19db7a)\n",
    "\n",
    "![Image](https://github.com/user-attachments/assets/408ca976-4e39-4935-a175-36c69bf374c0)\n",
    "\n",
    "![Image](https://github.com/user-attachments/assets/85b3ba8c-c577-4a76-922a-0f8513c186a3)\n",
    "\n",
    "\n",
    "## Why Is WEKA Useful?\n",
    "\n",
    "-  coding all the math and logic for machine learning would take a lot of time and expertise. WEKA saves you all that work.\n",
    "- it has built-in tools for data processing and modeling, so you don't need to be experienced in coding or stats\n",
    "- it works directly with Java, so you can easily integrate machine learning into your Java programs\n",
    "\n",
    "\n",
    "\n",
    "## What Can WEKA Do?\n",
    "\n",
    "- **Classification** – This helps you sort data into categories, like whether an email is spam or not.\n",
    "- **Regression** – WEKA can predict continuous values, like predicting house prices or grades.\n",
    "- **Clustering** – It can group similar data together, even if you haven’t told it what those groups are.\n",
    "- **Association** – WEKA can find patterns in data, like which products tend to be bought together.\n",
    "\n",
    "All of this is data mining, it cleans and prepares data\n",
    "\n",
    "![Image](https://github.com/user-attachments/assets/4561cf86-9da5-44bb-9e75-067d3db2a2fb)\n",
    "\n",
    "## How Does WEKA Actually Work?\n",
    "\n",
    "1. **Load your data.** This could be a spreadsheet of grades, images of animals, or anything else.\n",
    "2. **Preprocess your data.** Remove any missing info, normalize it, and get it ready for learning.\n",
    "3. **Choose your learning type.** Do you want to sort things into categories, predict numbers, or find patterns?\n",
    "4. **Select an algorithm.** WEKA has lots of built-in algorithms, like decision trees or k-means clustering.\n",
    "5. **Evaluate the model.** Test how well it’s doing by checking accuracy and other measures.\n",
    "6. **Use your model.** once you’re happy, use it to make predictions or sort new data.\n",
    "\n"
   ]
  },
  {
   "cell_type": "markdown",
   "id": "499ebafa",
   "metadata": {},
   "source": [
    "# Titanic Data Project Overview\n",
    "\n",
    "Let's explore Tablesaw and Weka more by visiting the Titanic dataset. This project explores the Titanic dataset using Java, with three main components for data preprocessing, analysis, and machine learning modeling.\n",
    "\n",
    "> The titanic files can be located in this [directory](https://github.com/CSA-Coders-2025/CSA_Combined_Backend_Fork/blob/master/src/main/java/com/open/spring/hacks/tablesaw/TitanicAnalysis.java). \n",
    "\n",
    "---\n",
    "\n",
    "## 1. `TitanicPreprocess.java` — *Data Cleaning & Preparation*\n",
    "\n",
    "Prepares the raw Titanic dataset for analysis and modeling:\n",
    "\n",
    "- Loads the raw dataset from a CSV file.\n",
    "- Adds a new `\"Alone\"` column to indicate whether a passenger was traveling alone.\n",
    "- Removes irrelevant columns: `PassengerId`, `Name`, `Ticket`, and `Cabin`.\n",
    "- Encodes categorical variables:\n",
    "  - `Sex`: `male → 1`, `female → 0`\n",
    "  - `Embarked`: `C → 1`, `Q → 2`, `S → 3`\n",
    "- Fills missing values with the median of each column.\n",
    "- Saves the cleaned dataset to `titanic_cleaned.csv`.\n",
    "\n",
    "---\n",
    "\n",
    "## 2. `TitanicAnalysis.java` — *Exploratory Data Analysis (EDA)*\n",
    "\n",
    "Performs visual and statistical analysis on the Titanic dataset:\n",
    "\n",
    "- Loads the raw dataset from a CSV file.\n",
    "- Adds the `\"Alone\"` column.\n",
    "- Splits data into subsets of survivors and non-survivors.\n",
    "- Calculates and visualizes:\n",
    "  - **Survival rate by gender**\n",
    "  - **Survival rate based on fare price**\n",
    "  - **Comparison of survival for passengers traveling alone vs. with family**\n",
    "  - **Age distribution among survivors and non-survivors**\n",
    "\n",
    "---\n",
    "\n",
    "## 3. `TitanicML.java` — *Machine Learning Modeling*\n",
    "\n",
    "Builds and evaluates ML models using the cleaned dataset:\n",
    "\n",
    "- Loads and processes the data (similar to `TitanicPreprocess.java`).\n",
    "- Normalizes numerical features to a 0–1 range.\n",
    "- Converts Tablesaw tables to Weka instances.\n",
    "- Trains two models:\n",
    "  - **Decision Tree (J48)**\n",
    "  - **Logistic Regression**\n",
    "- Evaluates the models using cross-validation.\n",
    "\n",
    "---\n",
    "\n",
    "## Recommended Execution Order\n",
    "\n",
    "To ensure a smooth workflow, run the scripts in this order:\n",
    "\n",
    "1. **`TitanicPreprocess.java`**  \n",
    "   Cleans the dataset and generates `titanic_cleaned.csv`.\n",
    "\n",
    "2. **`TitanicAnalysis.java`**  \n",
    "   Performs EDA and generates insights and visualizations.\n",
    "\n",
    "3. **`TitanicML.java`**  \n",
    "   Runs machine learning models on the cleaned dataset."
   ]
  },
  {
   "cell_type": "markdown",
   "id": "59dcfa8e",
   "metadata": {},
   "source": [
    "### 1. Tablesaw: Data Analysis & Preprocessing\n",
    "Tablesaw is a Java library for data manipulation, cleaning, and visualization—similar to pandas in Python.\n",
    "\n",
    "Where is Tablesaw used?\n",
    "TitanicPreprocess.java: Cleans and transforms the raw Titanic data.\n",
    "TitanicAnalysis.java: Performs exploratory data analysis and visualization.\n",
    "TitanicML.java: Prepares data for machine learning."
   ]
  },
  {
   "cell_type": "markdown",
   "id": "a5c1ea5a",
   "metadata": {},
   "source": [
    "Example: Loading Data with Tablesaw"
   ]
  },
  {
   "cell_type": "code",
   "execution_count": null,
   "id": "d533caea",
   "metadata": {
    "vscode": {
     "languageId": "java"
    }
   },
   "outputs": [],
   "source": [
    "import tech.tablesaw.api.Table;\n",
    "import java.io.InputStream;\n",
    "\n",
    "InputStream inputStream = TitanicAnalysis.class.getResourceAsStream(\"/data/titanic.csv\");\n",
    "Table titanic = Table.read().csv(inputStream);"
   ]
  },
  {
   "cell_type": "markdown",
   "id": "770eaa05",
   "metadata": {},
   "source": [
    "Purpose:\n",
    "\n",
    "Loads the Titanic CSV file into a Tablesaw Table object for further processing.\n",
    "\n",
    "Example: Data Cleaning & Feature Engineering"
   ]
  },
  {
   "cell_type": "code",
   "execution_count": null,
   "id": "9ae30338",
   "metadata": {
    "vscode": {
     "languageId": "java"
    }
   },
   "outputs": [],
   "source": [
    "NumericColumn<?> sibSpColumn = titanic.numberColumn(\"SibSp\");\n",
    "NumericColumn<?> parchColumn = titanic.numberColumn(\"Parch\");\n",
    "BooleanColumn aloneColumn = BooleanColumn.create(\"Alone\", titanic.rowCount());\n",
    "for (int i = 0; i < titanic.rowCount(); i++) {\n",
    "    boolean isAlone = ((Number) sibSpColumn.get(i)).doubleValue() == 0 && ((Number) parchColumn.get(i)).doubleValue() == 0;\n",
    "    aloneColumn.set(i, isAlone);\n",
    "}\n",
    "titanic.addColumns(aloneColumn);"
   ]
  },
  {
   "cell_type": "markdown",
   "id": "554dd423",
   "metadata": {},
   "source": [
    "Purpose:\n",
    "Adds a new column \"Alone\" to indicate if a passenger was traveling alone.\n",
    "\n",
    "Example: Data Visualization"
   ]
  },
  {
   "cell_type": "code",
   "execution_count": null,
   "id": "160c8cb1",
   "metadata": {
    "vscode": {
     "languageId": "java"
    }
   },
   "outputs": [],
   "source": [
    "import tech.tablesaw.plotly.Plot;\n",
    "import tech.tablesaw.plotly.api.Histogram;\n",
    "\n",
    "Plot.show(Histogram.create(\"Fare Distribution\", titanic.numberColumn(\"Fare\")));"
   ]
  },
  {
   "cell_type": "markdown",
   "id": "a1beef5b",
   "metadata": {},
   "source": [
    "Purpose:\n",
    "\n",
    "Plots a histogram of the \"Fare\" column for visual analysis.\n",
    "\n",
    "### 2. Weka: Machine Learning\n",
    "Weka is a Java library for machine learning, providing algorithms and evaluation tools.\n",
    "\n",
    "Where is Weka used?\n",
    "TitanicML.java: Converts cleaned data into a format Weka understands, trains models, and evaluates them.\n",
    "Example: Converting Tablesaw Table to Weka Instances"
   ]
  },
  {
   "cell_type": "code",
   "execution_count": null,
   "id": "b388de46",
   "metadata": {
    "vscode": {
     "languageId": "java"
    }
   },
   "outputs": [],
   "source": [
    "import weka.core.*;\n",
    "\n",
    "private static Instances convertTableToWeka(Table table) {\n",
    "    List<Attribute> attributes = new ArrayList<>();\n",
    "    for (Column<?> col : table.columns()) {\n",
    "        if (col.type().equals(ColumnType.STRING)) {\n",
    "            List<String> classValues = new ArrayList<>();\n",
    "            table.stringColumn(col.name()).unique().forEach(classValues::add);\n",
    "            attributes.add(new Attribute(col.name(), classValues));\n",
    "        } else {\n",
    "            attributes.add(new Attribute(col.name()));\n",
    "        }\n",
    "    }\n",
    "    Instances data = new Instances(\"Titanic\", new ArrayList<>(attributes), table.rowCount());\n",
    "    for (Row row : table) {\n",
    "        double[] values = new double[table.columnCount()];\n",
    "        for (int i = 0; i < table.columnCount(); i++) {\n",
    "            Column<?> col = table.column(i);\n",
    "            if (col.type() == ColumnType.INTEGER) {\n",
    "                values[i] = row.getInt(i);\n",
    "            } else if (col.type() == ColumnType.DOUBLE) {\n",
    "                values[i] = row.getDouble(i);\n",
    "            } else if (col.type() == ColumnType.STRING) {\n",
    "                values[i] = attributes.get(i).indexOfValue(row.getString(i));\n",
    "            }\n",
    "        }\n",
    "        data.add(new DenseInstance(1.0, values));\n",
    "    }\n",
    "    return data;\n",
    "}"
   ]
  },
  {
   "cell_type": "markdown",
   "id": "d3b3e467",
   "metadata": {},
   "source": [
    "Purpose:\n",
    "Converts a Tablesaw Table into Weka Instances, which is the format Weka uses for machine learning.\n",
    "\n",
    "Example: Training and Evaluating Models with Weka"
   ]
  },
  {
   "cell_type": "code",
   "execution_count": null,
   "id": "a5b7b153",
   "metadata": {
    "vscode": {
     "languageId": "java"
    }
   },
   "outputs": [],
   "source": [
    "import weka.classifiers.trees.J48;\n",
    "import weka.classifiers.functions.Logistic;\n",
    "\n",
    "J48 tree = new J48();\n",
    "tree.buildClassifier(data);\n",
    "\n",
    "Logistic logistic = new Logistic();\n",
    "logistic.buildClassifier(data);\n",
    "\n",
    "// Evaluate with cross-validation\n",
    "evaluateModel(tree, data, \"Decision Tree\");\n",
    "evaluateModel(logistic, data, \"Logistic Regression\");"
   ]
  },
  {
   "cell_type": "markdown",
   "id": "a45b027d",
   "metadata": {},
   "source": [
    "Purpose:\n",
    "\n",
    "Trains a Decision Tree (J48) and Logistic Regression model on the Titanic data.\n",
    "Evaluates models using cross-validation."
   ]
  },
  {
   "cell_type": "markdown",
   "id": "4f09569a",
   "metadata": {},
   "source": [
    "## Popcorn Hack\n",
    "\n",
    "### - Run the Titanic code on your own computer\n",
    "### - Use Tablesaw to visualize the class distribution (first, second, third class) of the Titanic data\n"
   ]
  }
 ],
 "metadata": {
  "kernelspec": {
   "display_name": "Java",
   "language": "java",
   "name": "java"
  },
  "language_info": {
   "codemirror_mode": "java",
   "file_extension": ".jshell",
   "mimetype": "text/x-java-source",
   "name": "Java",
   "pygments_lexer": "java",
   "version": "17.0.14+7-Ubuntu-122.04.1"
  }
 },
 "nbformat": 4,
 "nbformat_minor": 5
}
