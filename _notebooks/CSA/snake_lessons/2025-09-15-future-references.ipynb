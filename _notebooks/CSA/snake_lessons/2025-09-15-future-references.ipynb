{
 "cells": [
  {
   "cell_type": "raw",
   "id": "1397ea59",
   "metadata": {
    "vscode": {
     "languageId": "raw"
    }
   },
   "source": [
    "---\n",
    "layout: lessonbase\n",
    "title: \"Future Reference Tags in HTML/CSS/JavaScript\"\n",
    "description: \"Tags for CSSE and CSP students to reference in future projects with a description of their purpose.\"\n",
    "type: issues\n",
    "comments: true\n",
    "author: \"Anvay, Ruta, Vibha, Risha, Neil, Aadi\"\n",
    "permalink: /snake/lesson/future-references\n",
    "sidebar_title: \"🐍 Snake Lessons\"\n",
    "lesson_links:\n",
    "  - { text: \"Lesson 1: Game Debugging\", url: \"/agile/pair_trio\" }\n",
    "  - { text: \"Lesson 2: Frontend\", url: \"/snake/lesson/frontend\" }\n",
    "  - { text: \"Lesson 3: Programming Fundamentals\", url: \"/snake/lesson/fundamentals\" }\n",
    "  - { text: \"Lesson 4: Hacks\", url: \"/snake/lesson/hacks\" }\n",
    "  - { text: \"End of Lesson Quiz\", url: \"/snake/lesson/quiz\" }\n",
    "  - { text: \"Future References\", url: \"/snake/lesson/future-references\" }\n",
    "enable_timer: true\n",
    "enable_progress: true\n",
    "progress_total: 6\n",
    "enable_badges: true\n",
    "lesson_key: \"future-references\"\n",
    "lesson_badges:\n",
    "  - \"future-references\"\n",
    "enable_quiz: true\n",
    "\n",
    "resources:\n",
    "  - { text: \"MDN: Classes\", url: \"https://developer.mozilla.org/en-US/docs/Web/JavaScript/Reference/Classes\" }\n",
    "  - { text: \"JavaScript Info\", url: \"https://javascript.info\" }\n",
    "\n",
    "prev_url: \"/snake/lesson/quiz\"\n",
    "---\n"
   ]
  },
  {
   "cell_type": "markdown",
   "id": "a0338942",
   "metadata": {},
   "source": [
    "# **Future Reference: Essential Tags/Properties**\n",
    "\n",
    "Minimal but essential HTML, JavaScript, and CSS features you’ll use all the time. \n",
    "\n",
    "---\n",
    "\n",
    "## **HTML and JavaScript Core Tags should be learned as they are used very often**\n",
    "\n",
    "### HTML Tags (Core Only)\n",
    "\n",
    "| Category          | Core Tags                                   | Explanation                                                                 |\n",
    "|-------------------|---------------------------------------------|-----------------------------------------------------------------------------|\n",
    "| Semantic Elements | `<header>`, `<nav>`, `<main>`, `<section>`, `<footer>` | Define the structure of a page (better for accessibility & SEO). |\n",
    "| Form Elements     | `<form>`, `<input>`, `<button>`             | Collect user input (typing, clicking, submitting).                          |\n",
    "| Media Tags        | `<img>`, `<video>`                          | Embed images and videos for visuals or tutorials.                           |\n",
    "| Text Structure    | `<h1>-<h6>`, `<p>`, `<div>`                 | Organize text (headings, paragraphs, or group content with `<div>`).        |\n",
    "| Tables            | `<table>`, `<tr>`, `<td>`, `<th>`           | Display data in rows and columns (not for layout).                          |\n",
    "\n",
    "\n",
    "### JavaScript Features (Core Only)\n",
    "\n",
    "| Category             | Core Methods/Keywords        | Explanation                                                                 |\n",
    "|----------------------|-------------------------------|-----------------------------------------------------------------------------|\n",
    "| DOM Manipulation     | `querySelector`, `innerHTML` | Select elements on the page and change their content dynamically.           |\n",
    "| Event Handling       | `addEventListener`           | Run code when a user interacts (clicks, submits, types).                    |\n",
    "| Async Operations     | `fetch`, `async/await`       | Load data from APIs or servers without reloading the page.                  |\n",
    "| Variables & Functions| `let`, `const`, `function`   | Store values and write reusable blocks of code.                             |\n",
    "| Control Structures   | `if/else`, `for`             | Decide what code runs (conditions) or repeat tasks (loops).                 |\n",
    "\n",
    "---\n",
    "\n",
    "## **CSS Core Properties that can be learned over time as you need them**\n",
    "\n",
    "### CSS Properties (Core Only)\n",
    "\n",
    "| Category     | Core Properties                        | Explanation                                                                 |\n",
    "|--------------|-----------------------------------------|-----------------------------------------------------------------------------|\n",
    "| Layout       | `display: flex`, `display: grid`       | Arrange elements side-by-side or in rows/columns.                          |\n",
    "| Box Model    | `margin`, `padding`, `width`, `height` | Control spacing and sizing of elements (foundation of layout).              |\n",
    "| Typography   | `font-family`, `font-size`, `text-align` | Style text to be readable and properly aligned.                            |\n",
    "| Colors       | `color`, `background-color`            | Set text and background colors for emphasis and design.                     |\n",
    "| Responsive   | `@media queries`                       | Change styles for different screen sizes (desktop vs mobile).               |\n"
   ]
  }
 ],
 "metadata": {
  "language_info": {
   "name": "python"
  }
 },
 "nbformat": 4,
 "nbformat_minor": 5
}
