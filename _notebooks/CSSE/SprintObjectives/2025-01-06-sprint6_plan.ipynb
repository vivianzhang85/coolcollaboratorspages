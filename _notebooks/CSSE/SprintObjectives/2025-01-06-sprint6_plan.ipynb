{
 "cells": [
  {
   "cell_type": "raw",
   "metadata": {
    "vscode": {
     "languageId": "raw"
    }
   },
   "source": [
    "---\n",
    "layout: post\n",
    "title: Sprint 6 - CSSE Objectives (Final) \n",
    "description: CSSE Platformer Game final project.  This includes help system, plans, code, testing, and N@tM.\n",
    "type: issues \n",
    "courses: { csse: {week: 19} }\n",
    "comments: true\n",
    "permalink: /csse/sprint6/objectives\n",
    "---"
   ]
  },
  {
   "cell_type": "markdown",
   "metadata": {},
   "source": [
    "## Final Project\n",
    "\n",
    "This Final Project demonstrates your introduction to Computer Science, JavaScript, and Object-Oriented Programming. By building a game, you will apply programming fundamentals and explore the impacts of computing through a topic of personal and social relevance (gaming).\n",
    "\n",
    "- **Software Engineering Practices**: Planning changes, checklists, burndowns, coding with comments, building help documentation\n",
    "- **Software Development Lifecycle Practices**: Source control, forking, branching, building, testing and verification, pull requests, merging/integrating, deployment\n",
    "- **Retrospective Engineering Practices**: Presentation, live reviews, demos, code reviews, revising plans\n",
    "- **Data Types**: Numbers, strings, booleans, arrays, JSON objects\n",
    "- **Operators**: String operations, mathematical operations, boolean expressions \n",
    "- **Control Structures**: Iteration, conditions, nested conditions\n",
    "- **Input/Output**: HTML5 input, validation, Key events, Document Object Model (DOM)\n",
    "- **Classes**: Writing classes, creating methods, instantiating objects, using objects, calling methods, parameters, return values\n",
    "- **Coding Practices**: SRP, Object Literal, Object Instance, FSMs in Game, Inheritance\n",
    "\n",
    "### Mira Costa College\n",
    "\n",
    "This project and course prepare you for college credit and future Computer Science pathways.\n",
    "\n",
    "- [CS111 Course Info](https://catalog.miracosta.edu/disciplines/computerscience/#courseinventory) (JavaScript is approved as a substitute for Java)\n",
    "- [Math and CS Pathway](https://surf.miracosta.edu/psc/ps/EMPLOYEE/SA/c/MCC_CUSTOM.MZ_ACAD_MAP_SS.GBL?MAP_ID=1167)\n",
    "\n",
    "For those that wish to pursue Computer Science this starts you on [Math and CS Pathway](https://surf.miracosta.edu/psc/ps/EMPLOYEE/SA/c/MCC_CUSTOM.MZ_ACAD_MAP_SS.GBL?MAP_ID=1167)\n"
   ]
  },
  {
   "cell_type": "markdown",
   "metadata": {},
   "source": [
    "## Schedule\n",
    "\n",
    "The Final Project will be completed in last sprint.   \n",
    "\n",
    "## Project Planning Schedule\n",
    "\n",
    "These weeks are preparatory for the project. During these weeks, you will describe your project expertise and plans, including expected goals and stretch goals.\n",
    "\n",
    "**Help** - Help system that provides guidance to current and future engineers working on the game.\n",
    "\n",
    "**Lessons** - Instuction how to enhance game.\n",
    "- Lessons to teach expertise topics.\n",
    "- Homework for students to add expertise topics to their game.\n",
    "- Grading of student homework.\n",
    "- PR for instuctional level(s).\n",
    "- PR for notebooks or posts.\n",
    "\n",
    "## Project Development Schedule\n",
    "\n",
    "These weeks are focused on development. During development, you should have one milestone to integrate, continuing the iterative cycle of development.\n",
    "\n",
    "**Finals Week -1** - Final/Feature Complete Code.\n",
    "- **Wednesday**: A demo to Teacher of teams custom level. \n",
    "- **Thursday**: N@tM 6pm\n",
    "\n",
    "**Finals Week** - Finals Week\n",
    "- Instructor completes Final Grade using College Articulation guidelines, student blog, student code, and analytics."
   ]
  },
  {
   "cell_type": "raw",
   "metadata": {},
   "source": [
    "## Schedule\n",
    "\n",
    "The Final Project will be completed in the last sprint.\n",
    "\n",
    "### Project Planning Schedule\n",
    "\n",
    "During the planning weeks, you will:\n",
    "- Describe your project expertise and plans, including expected and stretch goals.\n",
    "- Build a **Help** system to guide current and future engineers working on the game.\n",
    "- Develop **Lessons** to teach expertise topics, assign homework for students to add these topics to their game, grade homework, and submit PRs for instructional levels.\n",
    "\n",
    "### Project Development Schedule\n",
    "\n",
    "Development weeks focus on building your project. You should:\n",
    "- Set and achieve at least one milestone, continuing the iterative cycle of development.\n",
    "\n",
    "**Key Events:**\n",
    "- **Finals Week -1**\n",
    "  - **Wednesday:** Demo your team’s custom level to the teacher.\n",
    "  - **Thursday:** N@tM (Night at the Museum) showcase at 6pm.\n",
    "- **Finals Week**\n",
    "  - Instructor completes final grading using college articulation guidelines, your blog, code, and analytics."
   ]
  }
 ],
 "metadata": {
  "language_info": {
   "name": "python"
  }
 },
 "nbformat": 4,
 "nbformat_minor": 2
}
