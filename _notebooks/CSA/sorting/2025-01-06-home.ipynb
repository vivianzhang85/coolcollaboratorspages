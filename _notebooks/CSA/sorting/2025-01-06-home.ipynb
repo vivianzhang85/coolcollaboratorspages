{
 "cells": [
  {
   "cell_type": "raw",
   "metadata": {
    "vscode": {
     "languageId": "raw"
    }
   },
   "source": [
    "---\n",
    "title: Sorting Algorithms - Home\n",
    "description: Home page for Team Teaching lesson on Sorting\n",
    "categories: [Sorting Algorithms]\n",
    "menu: nav/teamteaching.html\n",
    "permalink: /sortingTT/\n",
    "comments: true\n",
    "---"
   ]
  },
  {
   "cell_type": "markdown",
   "metadata": {},
   "source": [
    "# **Sorting and Searching Algorithms**\n",
    "\n",
    "## Introduction\n",
    "- Searching and sorting are fundamental concepts in computer science that help us organize and access data efficiently. Searching algorithms allow us to locate specific elements within a dataset, while sorting algorithms rearrange data into a meaningful order, such as ascending or descending.\n",
    "\n",
    "- Throughout this section, we'll explore some widely-used algorithms like linear search, binary search, bubble sort, and quicksort. These algorithms form the backbone of many real-world applications, enabling faster data retrieval and better system performance.\n",
    "\n",
    "## Types of Searching Algorithms\n",
    "Searching algorithms help us find a specific element within a dataset. There are two primary types of searching algorithms: linear search and binary search.\n",
    "- Linear search is a simple algorithm that iterates through each element in a dataset until it finds the target value. This algorithm is easy to implement but can be slow for large datasets.\n",
    "- Binary search is a more efficient algorithm that works on sorted datasets. It repeatedly divides the dataset in half and compares the target value with the middle element. This process continues until the target value is found or the dataset is empty.\n",
    "\n",
    "## Types of Sorting Algorithms\n",
    "Sorting algorithms rearrange data into a specific order, such as ascending or descending. There are many sorting algorithms available, each with its unique characteristics and performance trade-offs.\n",
    "- Bubble sort is a simple sorting algorithm that repeatedly swaps adjacent elements if they are in the wrong order. While easy to implement, bubble sort is not efficient for large datasets.\n",
    "- Quicksort is a more efficient sorting algorithm that uses a divide-and-conquer strategy to sort elements in place. It recursively partitions the dataset into smaller subarrays and sorts them independently. Quicksort is widely used in practice due to its speed and simplicity.\n",
    "- Merge sort is another popular sorting algorithm that uses a divide-and-conquer approach to sort elements. It divides the dataset into two halves, sorts them separately, and then merges them back together. Merge sort is stable and has a guaranteed worst-case time complexity of O(n log n).\n",
    "- Selection sort is a simple sorting algorithm that repeatedly selects the smallest element from the unsorted portion of the dataset and places it at the beginning. While easy to implement, selection sort is not efficient for large datasets.\n",
    "- Insertion sort is a simple sorting algorithm that builds the final sorted array one element at a time. It iterates through the dataset, removing one element and inserting it into the correct position in the sorted array. Insertion sort is efficient for small datasets but can be slow for large datasets.\n",
    "\n",
    "Let's dive into how these algorithms work and when to use each one!"
   ]
  }
 ],
 "metadata": {
  "language_info": {
   "name": "python"
  }
 },
 "nbformat": 4,
 "nbformat_minor": 2
}
