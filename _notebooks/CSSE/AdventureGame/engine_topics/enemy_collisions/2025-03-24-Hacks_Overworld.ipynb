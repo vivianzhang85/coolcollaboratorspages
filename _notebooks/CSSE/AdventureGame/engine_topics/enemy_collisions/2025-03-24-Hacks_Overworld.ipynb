{
 "cells": [
  {
   "cell_type": "raw",
   "metadata": {
    "vscode": {
     "languageId": "raw"
    }
   },
   "source": [
    "---\n",
    "layout: post\n",
    "categories: [Adventure Game]\n",
    "title: Overworld Level Hacks\n",
    "description: Overworld Hacks\n",
    "type: issues \n",
    "comments: true\n",
    "permalink: /overworld/EnemyCollisionHacks\n",
    "---"
   ]
  },
  {
   "cell_type": "markdown",
   "metadata": {
    "vscode": {
     "languageId": "plaintext"
    }
   },
   "source": [
    "# Enemy Collision Hacks\n",
    "#### Replace the `Player` and `Enemy` code with your player which will refreance your player from your code. \n",
    "# Note: All these hacks should be placed into the `Enemy.js` file."
   ]
  },
  {
   "cell_type": "markdown",
   "metadata": {
    "vscode": {
     "languageId": "plaintext"
    }
   },
   "source": [
    "### Hack #1 - Make Enemy Bounce back on collision\n",
    "\n",
    "##### Instead of just reversing direction, make the enemy \"bounce\" back a little when it collides with something.\n",
    "\n",
    "##### This hack should be inside of the `updateMovement()` function."
   ]
  },
  {
   "cell_type": "code",
   "execution_count": 13,
   "metadata": {
    "vscode": {
     "languageId": "javascript"
    }
   },
   "outputs": [
    {
     "data": {
      "application/javascript": "\nif (this.collisionData.touchPoints.other.id === \"player\") {\n    if (this.collisionData.touchPoints.other.left && this.immune == 0) {  \n        this.speed = -this.speed;  // Reverse speed\n        this.x += 10;  // Move enemy back slightly\n    }\n}\n",
      "text/plain": [
       "<IPython.core.display.Javascript object>"
      ]
     },
     "metadata": {},
     "output_type": "display_data"
    }
   ],
   "source": [
    "%%js\n",
    "\n",
    "if (this.collisionData.touchPoints.other.id === \"player\") {\n",
    "    if (this.collisionData.touchPoints.other.left && this.immune == 0) {  \n",
    "        this.speed = -this.speed;  // Reverse speed\n",
    "        this.x += 10;  // Move enemy back slightly\n",
    "    }\n",
    "}"
   ]
  },
  {
   "cell_type": "markdown",
   "metadata": {},
   "source": [
    "### Hack #2 - Make Player Freeze for a Few Seconds on Collision with Enemy \n",
    "#### When the enemy hits the player, make it stop moving for 3 seconds before continuing.\n",
    "##### This hack should be implemented into the `collisionAction()` function, nothing needs to be deleted in `enemy.js`"
   ]
  },
  {
   "cell_type": "code",
   "execution_count": 11,
   "metadata": {
    "vscode": {
     "languageId": "javascript"
    }
   },
   "outputs": [
    {
     "data": {
      "application/javascript": "\nif (this.collisionData.touchPoints.other.id === \"player\") {\n    this.speed = 0;  // Stop movement\n\n    setTimeout(() => {\n        this.speed = 3;  // Restore original speed after delay\n    }, 3000);  // Time in milliseconds\n}\n",
      "text/plain": [
       "<IPython.core.display.Javascript object>"
      ]
     },
     "metadata": {},
     "output_type": "display_data"
    }
   ],
   "source": [
    "%%js\n",
    "\n",
    "if (this.collisionData.touchPoints.other.id === \"player\") {\n",
    "    this.speed = 0;  // Stop movement\n",
    "\n",
    "    setTimeout(() => {\n",
    "        this.speed = 3;  // Restore original speed after delay\n",
    "    }, 3000);  // Time in milliseconds\n",
    "}\n"
   ]
  },
  {
   "cell_type": "markdown",
   "metadata": {},
   "source": [
    "# Death Animation Hacks\n",
    "### Note: Insert these hacks into your enemiy's file"
   ]
  },
  {
   "cell_type": "markdown",
   "metadata": {},
   "source": [
    "### Hack 1: Simple Death Animation\n",
    "\n",
    "Add this hack to your game. For this hack, we will find an explosion png. Then, using this png, write code for a death animation that appears after the enemy dies. You can make it enlarge itself or spin, it doesn't matter."
   ]
  },
  {
   "cell_type": "code",
   "execution_count": null,
   "metadata": {
    "vscode": {
     "languageId": "javascript"
    }
   },
   "outputs": [],
   "source": [
    "//alter some of the code to fit your game\n",
    "if (this.collisionData.touchPoints.other.id === \"player\") {\n",
    "    GameEnv.invincible = true;\n",
    "    GameEnv.goombaBounce = true; \n",
    "    this.die();\n",
    "}\n",
    "\n",
    "die(); {\n",
    "    const sprite_src_kaboom = path + \"/images/gamify/laser_bolt.png\"; //you can just put some random image here\n",
    "    const sprite_data_kaboom = {\n",
    "        //make some sprite data and add code to make it more like an animation.\n",
    "    }\n",
    "\n",
    "}"
   ]
  },
  {
   "cell_type": "markdown",
   "metadata": {},
   "source": [
    "### Hack 2: Harder Death Animation\n",
    "\n",
    "For this hack, you will need to actually make an animation. Complete the code by making the shards. This code is taken from `EnemyGoomba.js`, so if you need to, take a look."
   ]
  },
  {
   "cell_type": "code",
   "execution_count": null,
   "metadata": {
    "vscode": {
     "languageId": "javascript"
    }
   },
   "outputs": [],
   "source": [
    "//alter the code to fit your game\n",
    "if (this.collisionData.touchPoints.other.id === \"player\") {\n",
    "    GameEnv.invincible = true;\n",
    "    GameEnv.goombaBounce = true; \n",
    "    this.kaboom();   \n",
    "}\n",
    "\n",
    "kaboom(); {\n",
    "const shards = 8; //number of shards\n",
    "for (let i=0; i < shards; i++) {\n",
    "    const shard = document.createElement('div');\n",
    "    shard.style.position = 'absolute';\n",
    "    shard.style.width = '5px';\n",
    "    shard.style.height = '5px'; \n",
    "//continue making the shards    \n",
    "    \n",
    "\n",
    "\n",
    "    shard.animate([\n",
    "        { transform: `translate(0,0)`}, //complete the rest of the animation code\n",
    "        { transform: `translate`} //complete the rest of the animation code\n",
    "    ], {\n",
    "        duration: 1000,\n",
    "        easing: 'ease-out',\n",
    "        fill: 'forwards'\n",
    "    });\n",
    "\n",
    "    setTimeout(() => {\n",
    "        shard.remove();\n",
    "    }, 1000);\n",
    "    }\n",
    "}"
   ]
  },
  {
   "cell_type": "markdown",
   "metadata": {},
   "source": [
    "## Enemy Collision and Death Animation HW:\n",
    "\n",
    "--------------------------\n",
    "\n",
    "### Part 1: Enemy Collision:\n",
    "Look through the lessons again, and build enemy collision of your idea on your own game\n",
    "Some ideas we can give you is: \n",
    "- Having a damage when it gets hit\n",
    "- Having a message pop up when it hits \n",
    "- Other Ideas of your own..\n",
    "\n",
    "\n",
    "-------------------------------------\n",
    "\n",
    "\n",
    "### Part 2: Death Animation:\n",
    "Same as part one, just create a death animation in your own game. \n",
    "Simple ideas you can use is: \n",
    "- enemy slowly disappearing into nothing.\n",
    "- having a quick white flash before disappearing (used in retro games).\n",
    "- Having an explosion, enemy bursting into particles or flames.\n",
    "- Creative ideas of your own..\n",
    "\n",
    "---------\n",
    "\n",
    "Grading:\n",
    "1. The game should work \n",
    "2. The coding should be at least similar to what we showed you through lessons"
   ]
  }
 ],
 "metadata": {
  "kernelspec": {
   "display_name": "venv",
   "language": "python",
   "name": "python3"
  },
  "language_info": {
   "codemirror_mode": {
    "name": "ipython",
    "version": 3
   },
   "file_extension": ".py",
   "mimetype": "text/x-python",
   "name": "python",
   "nbconvert_exporter": "python",
   "pygments_lexer": "ipython3",
   "version": "3.13.1"
  }
 },
 "nbformat": 4,
 "nbformat_minor": 2
}
