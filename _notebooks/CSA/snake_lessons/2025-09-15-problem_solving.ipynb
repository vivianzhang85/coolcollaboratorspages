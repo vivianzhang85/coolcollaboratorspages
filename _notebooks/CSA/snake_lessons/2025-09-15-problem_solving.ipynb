{
 "cells": [
  {
   "cell_type": "raw",
   "id": "035ba72c",
   "metadata": {
    "vscode": {
     "languageId": "raw"
    }
   },
   "source": [
    "---\n",
    "layout: lessonbase\n",
    "title: Problem Solving\n",
    "description: \"Learn problem-solving techniques by modifying the classic Snake game. Implement new features, debug issues, and enhance gameplay.\"\n",
    "permalink: /snake/lesson/hacks\n",
    "\n",
    "sidebar_title: \"🐍 Snake Lessons\"\n",
    "lesson_links:\n",
    "  - { text: \"Lesson 1: Game Debugging\", url: \"/agile/pair_trio\" }\n",
    "  - { text: \"Lesson 2: Frontend\", url: \"/snake/lesson/frontend\" }\n",
    "  - { text: \"Lesson 3: Programming Fundamentals\", url: \"/snake/lesson/fundamentals\" }\n",
    "  - { text: \"Lesson 4: Hacks\", url: \"/snake/lesson/hacks\" }\n",
    "  - { text: \"End of Lesson Quiz\", url: \"/snake/lesson/quiz\" }\n",
    "  - { text: \"Future References\", url: \"/snake/lesson/future-references\" }\n",
    "\n",
    "enable_timer: true\n",
    "enable_progress: true\n",
    "progress_total: 6\n",
    "enable_badges: true\n",
    "lesson_key: \"problem-solving\"\n",
    "lesson_badges:\n",
    "    - \"problem-solving\"\n",
    "\n",
    "resources:\n",
    "    - { text: \"MDN: Game Development\", url: \"https://developer.mozilla.org/en-US/docs/Games\" }\n",
    "    - { text: \"JavaScript Info\", url: \"https://javascript.info\" }\n",
    "    - { text: \"Canvas API Reference\", url: \"https://developer.mozilla.org/en-US/docs/Web/API/Canvas_API\" }\n",
    "\n",
    "prev_url: \"/snake/lesson/fundamentals\"\n",
    "next_url: \"/snake/lesson/quiz\"\n",
    "---"
   ]
  },
  {
   "cell_type": "markdown",
   "id": "b868b7be",
   "metadata": {
    "vscode": {
     "languageId": "plaintext"
    }
   },
   "source": [
    "# Snake Game Hacks\n",
    "\n",
    "A notebook on changes that you can attempt on your own snake game.\n",
    "\n",
    "- Now that you know the basics and the outlines of the game, try some changes of your own!\n",
    "- We will provide a list of easy, hard, and one challenge change that you guys can attempt.\n",
    "\n",
    "## Easy Hacks\n",
    "\n",
    "- Change the background color, snake color, and food color\n",
    "- Add or change settings to change the speed of the snake\n",
    "- Increase the amount of length the snake gets from the food\n",
    "- Add new keybinds to the snake (e.g give it WASD controls)\n",
    "- Add a glowing effect to any part of the game\n",
    "- Overhaul the UI (interface) of the setting screens/game over screen\n",
    "\n",
    "## Hard Hacks\n",
    "\n",
    "- Change the food to use a different color or image than the snake body\n",
    "- Add obstacles that the snake has to avoid\n",
    "- Give snake multiple lives\n",
    "- Make multiple foods available to the snake\n",
    "\n"
   ]
  }
 ],
 "metadata": {
  "language_info": {
   "name": "python"
  }
 },
 "nbformat": 4,
 "nbformat_minor": 5
}
