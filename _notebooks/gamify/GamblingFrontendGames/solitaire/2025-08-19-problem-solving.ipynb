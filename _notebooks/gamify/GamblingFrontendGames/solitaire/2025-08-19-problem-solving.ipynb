{
 "cells": [
  {
   "cell_type": "raw",
   "id": "a05e499d",
   "metadata": {
    "vscode": {
     "languageId": "raw"
    }
   },
   "source": [
    "---\n",
    "layout: lessonbase\n",
    "title: Problem-Solving Through Solitaire\n",
    "description: Learn systematic problem-solving strategies by examining how to build Solitaire step by step, breaking down complex challenges into manageable parts.\n",
    "type: issues\n",
    "comments: True\n",
    "author: Anvay, Ruta, Vibha, Risha, Neil, Aadi\n",
    "permalink: /solitaire/lesson/problem-solving\n",
    "sidebar_title: \"🎮 Solitaire Lessons\"\n",
    "lesson_links:\n",
    "  - { text: \"Lesson 1: Frontend\", url: \"/solitaire/lesson/frontend\" }\n",
    "  - { text: \"Lesson 2: OOP\", url: \"/solitaire/lesson/oop\" }\n",
    "  - { text: \"Lesson 3: Problem Solving\", url: \"/solitaire/lesson/problem-solving\" }\n",
    "  - { text: \"Lesson 4: LXD\", url: \"/solitaire/lesson/lxd\" }\n",
    "  - { text: \"End of Lesson Quiz\", url: \"/solitaire/lesson/quiz\" }\n",
    "  - { text: \"Future References\", url: \"/solitaire/lesson/future-references\" }\n",
    "\n",
    "enable_timer: true\n",
    "enable_progress: true\n",
    "progress_total: 6\n",
    "enable_badges: true\n",
    "lesson_key: \"problem-solving\"\n",
    "lesson_badges:\n",
    "- \"problem-solving\"\n",
    "enable_sandbox: true\n",
    "enable_quiz: true\n",
    "enable_ai_grading: true\n",
    "\n",
    "resources:\n",
    "  - { text: \"MDN: Classes\", url: \"https://developer.mozilla.org/en-US/docs/Web/JavaScript/Reference/Classes\" }\n",
    "  - { text: \"JavaScript Info\", url: \"https://javascript.info\" }\n",
    "\n",
    "prev_url: \"/solitaire/lesson/oop\"\n",
    "next_url: \"/solitaire/lesson/lxd\"\n",
    "---"
   ]
  },
  {
   "cell_type": "markdown",
   "id": "e8f78c44",
   "metadata": {},
   "source": [
    "# Problem-Solving Through Solitaire\n",
    "\n",
    "Programming is more than just writing instructions for a computer — it’s about approaching challenges in a structured way. Solitaire (Klondike) makes an excellent example because it forces you to take a seemingly complicated game and break it into smaller, approachable problems.\n",
    "\n",
    "In this lesson, we’ll walk through the **problem-solving techniques** that developers rely on when coding Solitaire — from identifying the smallest pieces of the game to testing and refining the finished product.\n",
    "\n",
    "---\n",
    "\n",
    "## Why Use Solitaire for Problem-Solving?\n",
    "\n",
    "- **Familiar yet challenging**: Most people know how to play, but coding the rules requires careful thought.  \n",
    "- **Many moving parts**: Cards, piles, valid moves, scoring, and win conditions all introduce their own difficulties.  \n",
    "- **Incremental thinking**: The game can’t be built all at once; progress comes from solving one piece at a time.  \n",
    "\n",
    "---\n",
    "\n",
    "## Core Problem-Solving Approaches\n",
    "\n",
    "### 1. **Decomposition** – Divide the Problem\n",
    "\n",
    "Big problems become simpler when broken into smaller steps.\n",
    "\n",
    "**Example: Breaking Down Solitaire**\n",
    "- **Cards** → define their suit, rank, color, and whether they’re face-up  \n",
    "- **Piles** → handle collections of cards with specific rules  \n",
    "- **Moves** → confirm a move is valid before applying it  \n",
    "- **Game flow** → manage dealing, turns, and win conditions  "
   ]
  },
  {
   "cell_type": "code",
   "execution_count": null,
   "id": "a32dc2ff",
   "metadata": {
    "vscode": {
     "languageId": "javascript"
    }
   },
   "outputs": [],
   "source": [
    "// Start with the smallest piece\n",
    "class Card {\n",
    "  constructor(suit, rank, color, value) {\n",
    "    this.suit = suit;\n",
    "    this.rank = rank;\n",
    "    this.color = color;\n",
    "    this.value = value;\n",
    "    this.faceUp = false;\n",
    "  }\n",
    "}"
   ]
  },
  {
   "cell_type": "markdown",
   "id": "1706b0c0",
   "metadata": {},
   "source": [
    "**Key Insight:** Instead of asking *“How do I program the whole game of Solitaire?”*, start with the smaller question: *“How can I model a single card?”* Once that piece is solved, you can build outward step by step until the full game emerges.\n",
    "\n",
    "---\n",
    "\n",
    "### 2. Pattern Recognition – Notice the Similarities\n",
    "\n",
    "Many problems in programming become easier once you spot repeating patterns. By recognizing what different parts of the game have in common, you can reduce duplicate code and create more reusable solutions.\n",
    "\n",
    "**Example: Pile Patterns**\n",
    "\n",
    "- Every pile stores a collection of cards  \n",
    "- Every pile needs methods like `push`, `pop`, and `top`  \n",
    "- What makes piles unique are their rules (for example, whether they can accept a certain card)  \n",
    "\n",
    "By observing these patterns, you can write a general pile structure and extend it for special cases, rather than solving the same problem multiple times."
   ]
  },
  {
   "cell_type": "code",
   "execution_count": null,
   "id": "915e50ec",
   "metadata": {
    "vscode": {
     "languageId": "javascript"
    }
   },
   "outputs": [],
   "source": [
    "class Pile {\n",
    "  constructor() {\n",
    "    this.cards = [];\n",
    "  }\n",
    "  top() { return this.cards[this.cards.length - 1]; }\n",
    "  push(card) { this.cards.push(card); }\n",
    "}"
   ]
  },
  {
   "cell_type": "markdown",
   "id": "855781f8",
   "metadata": {},
   "source": [
    "**Problem-Solving Benefit:** Recognizing patterns allows you to design a single, reusable solution instead of rewriting the same logic over and over. This not only saves time but also makes your code easier to maintain and extend.\n",
    "\n",
    "---\n",
    "\n",
    "### 3. Abstraction – Focus on the Big Picture\n",
    "\n",
    "As games (or any software) grow in complexity, the rules and logic can get messy. Abstraction helps by hiding those details behind clear, simple methods or interfaces. Instead of thinking about *every* condition each time, you rely on one function to handle the complexity for you.\n",
    "\n",
    "**Example: Validating a Move**"
   ]
  },
  {
   "cell_type": "code",
   "execution_count": null,
   "id": "5202c95d",
   "metadata": {
    "vscode": {
     "languageId": "javascript"
    }
   },
   "outputs": [],
   "source": [
    "game.tryMoveCard(cardId, targetPile) {\n",
    "  const card = this.findCard(cardId);\n",
    "  if (!card || !card.faceUp) return false;\n",
    "  if (targetPile.canAccept(card)) {\n",
    "    targetPile.push(card);\n",
    "    return true;\n",
    "  }\n",
    "  return false;\n",
    "}"
   ]
  },
  {
   "cell_type": "markdown",
   "id": "fa93239a",
   "metadata": {},
   "source": [
    "**Why it helps:** Abstraction keeps your code clean and understandable. Instead of re-writing or double-checking the same rules everywhere, you centralize the logic in one method that takes care of the details.\n",
    "\n",
    "---\n",
    "\n",
    "### 4. Algorithmic Thinking – Build Step-by-Step Processes\n",
    "\n",
    "Some challenges can’t be solved in one leap — they require a series of clear, ordered steps. This is where algorithmic thinking comes in: designing a process that consistently produces the right result.\n",
    "\n",
    "**Example: Dealing Cards**\n",
    "\n",
    "1. Shuffle the deck  \n",
    "2. For pile 1, place 1 card (face up)  \n",
    "3. For pile 2, place 2 cards (with the last one face up)  \n",
    "4. Continue in this pattern until you reach pile 7  "
   ]
  },
  {
   "cell_type": "code",
   "execution_count": null,
   "id": "02ea73f5",
   "metadata": {
    "vscode": {
     "languageId": "javascript"
    }
   },
   "outputs": [],
   "source": [
    "function deal(deck, tableau) {\n",
    "  for (let i = 0; i < 7; i++) {\n",
    "    for (let j = i; j < 7; j++) {\n",
    "      const card = deck.pop();\n",
    "      tableau[j].push(card);\n",
    "      if (j === i) card.faceUp = true;\n",
    "    }\n",
    "  }\n",
    "}"
   ]
  },
  {
   "cell_type": "markdown",
   "id": "30231fc0",
   "metadata": {},
   "source": [
    "**Key Idea:** Algorithms provide a clear framework for tasks that might otherwise feel chaotic, allowing you to reason through each step and ensure consistency.\n",
    "\n",
    "---\n",
    "\n",
    "### 5. Debugging and Iteration – Test, Learn, and Improve\n",
    "\n",
    "No program is perfect on the first try. Debugging is the process of testing assumptions, identifying where things go wrong, and refining your solution until it works correctly.\n",
    "\n",
    "**Example: Debugging a Stacking Issue**\n",
    "\n",
    "- **Problem:** Kings aren’t stacking correctly in the tableau  \n",
    "- **Hypothesis:** There’s a mistake in the `canAccept()` rule  \n",
    "- **Test:** Log the values of the top card and the card being moved  \n",
    "- **Fix:** Adjust the rule to check `value === top.value - 1` instead of `+1`"
   ]
  },
  {
   "cell_type": "code",
   "execution_count": null,
   "id": "d5604d9d",
   "metadata": {
    "vscode": {
     "languageId": "javascript"
    }
   },
   "outputs": [],
   "source": [
    "if (this.isEmpty) return card.rank === 'K';\n",
    "return (card.color !== top.color && card.value === top.value - 1);"
   ]
  },
  {
   "cell_type": "markdown",
   "id": "64e7ea20",
   "metadata": {},
   "source": [
    "---\n",
    "\n",
    "### Learning Exercises\n",
    "\n",
    "#### Exercise 1: Plan a New Feature\n",
    "\n",
    "Outline the steps required to implement an “Undo Move” feature.  \n",
    "(Hint: Consider what data needs to be saved every time a move happens.)\n",
    "\n",
    "#### Exercise 2: Identify Patterns\n",
    "\n",
    "Examine the rules for `FoundationPile` and `TableauPile`.  \n",
    "What similarities do you notice? How could you refactor the code to reuse shared logic and reduce duplication?\n",
    "\n",
    "#### Exercise 3: Debugging Scenario\n",
    "\n",
    "Imagine cards sometimes disappear when moved between piles.  \n",
    "\n",
    "- What would you check first?  \n",
    "- How could you determine whether the issue comes from `pop()` or `push()`?\n",
    "\n",
    "---\n",
    "\n",
    "### Problem-Solving Benefits Illustrated\n",
    "\n",
    "- **Clarity** – Decomposition lets you focus on one piece at a time  \n",
    "- **Efficiency** – Recognizing patterns reduces repeated work  \n",
    "- **Simplicity** – Abstraction hides complexity behind clean interfaces  \n",
    "- **Precision** – Algorithms provide step-by-step guidance  \n",
    "- **Resilience** – Debugging develops persistence and adaptability  \n",
    "\n",
    "---\n",
    "\n",
    "### Common Pitfalls to Avoid\n",
    "\n",
    "- **Trying to solve everything at once** → Leads to messy, confusing code  \n",
    "- **Copying code instead of noticing patterns** → Makes maintenance harder  \n",
    "- **Skipping testing** → Small bugs multiply over time  \n",
    "- **Overcomplicating too early** → Start simple, then add complexity gradually  \n",
    "\n",
    "---\n",
    "\n",
    "### Conclusion\n",
    "\n",
    "Building Solitaire teaches more than programming — it’s a masterclass in structured problem-solving. By applying **decomposition, pattern recognition, abstraction, algorithmic thinking, and debugging**, you can approach any complex challenge methodically and efficiently.  \n",
    "\n",
    "Solitaire isn’t just a game — it’s a framework for thinking like a programmer."
   ]
  },
  {
   "cell_type": "markdown",
   "id": "948b680f",
   "metadata": {},
   "source": [
    "## Popcorn Hacks 🎉\n",
    "\n",
    "1. **Trace the Deal**  \n",
    "   Insert `console.log()` statements in your `deal()` function to track which card goes to which pile. This helps you see decomposition and algorithmic thinking in action.\n",
    "\n",
    "2. **Bug Hunt**  \n",
    "   Deliberately break the `canAccept()` rules (for example, swap the `+1` and `-1` logic) and observe how the game behaves incorrectly. Then apply debugging steps to identify and fix the problem.\n",
    "\n",
    "3. **Undo Planning**  \n",
    "   Sketch out or implement an `undo()` feature. Think carefully about what information each move needs to save and how you would reverse the action step by step.\n",
    "\n",
    "4. **Pattern Refactor**  \n",
    "   Look at `FoundationPile` and `TableauPile` and move their shared functionality into a base `Pile` class. Notice how recognizing patterns simplifies the code and reduces duplication.\n",
    "\n",
    "5. **Algorithm Twist**  \n",
    "   Modify the `deal()` function to create a “reverse Solitaire” where piles are built from right to left. Analyze how this change affects the algorithm and your implementation.\n",
    "\n",
    "6. **Debugging Drill**  \n",
    "   Write a small test that moves a card between two piles. Print the number of cards in each pile before and after the move. This helps verify that `pop()` and `push()` behave as expected.\n",
    "\n",
    "7. **Stretch Challenge**  \n",
    "   Implement a simple “hint” system: loop through all piles and log where the top card *could* legally move. This exercise combines abstraction, algorithmic thinking, and debugging into one task."
   ]
  },
  {
   "cell_type": "markdown",
   "id": "cf1fd744",
   "metadata": {},
   "source": [
    "---\n",
    "\n",
    "## Key Takeaways\n",
    "\n",
    "### Core Problem-Solving Principles\n",
    "\n",
    "- **Start Small, Build Big**: Every complex system begins with simple building blocks. For example, a single `Card` class can serve as the foundation for the entire game.  \n",
    "\n",
    "- **Divide and Conquer**: Splitting Solitaire into cards, piles, moves, and game logic makes a seemingly overwhelming project manageable.  \n",
    "\n",
    "- **Patterns Save Time**: Recognizing that all piles share common behaviors allows you to write less code and maintain it more easily.  \n",
    "\n",
    "### Technical Skills You Practice\n",
    "\n",
    "- **Abstraction Thinking**: Learn to hide complicated logic behind clean, simple methods (`tryMoveCard()` handles validation internally).  \n",
    "\n",
    "- **Algorithm Design**: Understand how clear, step-by-step processes — like the dealing algorithm — solve complex tasks efficiently.  \n",
    "\n",
    "- **Debugging Methodology**: Develop systematic ways to find and fix issues rather than guessing or patching code randomly.  \n",
    "\n",
    "### Transferable Lessons\n",
    "\n",
    "- **Applicable to Any Project**: These strategies work for web apps, mobile games, or data analysis tools.  \n",
    "\n",
    "- **Team Collaboration**: Decomposition allows different team members to work independently on smaller parts of a larger project.  \n",
    "\n",
    "- **Problem-Solving Mindset**: Ask *“What’s the smallest piece I can solve first?”* instead of trying to solve everything at once.  \n",
    "\n",
    "### Real-World Applications\n",
    "\n",
    "- **Software Architecture**: Understanding how small components fit together to form larger systems.  \n",
    "\n",
    "- **Code Maintainability**: Writing code that is easy to read, modify, and extend.  \n",
    "\n",
    "- **Quality Assurance**: Building testing and validation into your process from the very beginning.  \n",
    "\n",
    "### Remember\n",
    "\n",
    "Programming isn’t just about memorizing syntax — it’s about cultivating a **systematic approach** to solving problems. Solitaire teaches these skills in a fun, visual way that transfers to any programming project.  \n",
    "\n",
    "Next time you face a complex coding challenge, think like a Solitaire developer: **decompose problems, spot patterns, abstract complexity, design clear algorithms, and debug methodically.** These aren’t just programming skills — they’re life skills.\n",
    "\n",
    "---\n"
   ]
  }
 ],
 "metadata": {
  "language_info": {
   "name": "python"
  }
 },
 "nbformat": 4,
 "nbformat_minor": 5
}
