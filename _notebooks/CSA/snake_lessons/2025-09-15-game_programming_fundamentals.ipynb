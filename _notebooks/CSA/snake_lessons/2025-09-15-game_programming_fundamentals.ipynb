{
 "cells": [
  {
   "cell_type": "raw",
   "id": "b149873f",
   "metadata": {
    "vscode": {
     "languageId": "raw"
    }
   },
   "source": [
    "---\n",
    "layout: lessonbase\n",
    "title: Snake Game Programming Fundamentals\n",
    "description: Learn about how Snake employs the various fundamentals of programming!\n",
    "type: issues\n",
    "comments: True\n",
    "author: Risha, Vibha, Ruta, Anvay Neil, Aadi\n",
    "permalink: /snake/lesson/fundamentals\n",
    "sidebar_title: \"🐍 Snake Lessons\"\n",
    "lesson_links:\n",
    "  - { text: \"Lesson 1: Game Debugging\", url: \"/agile/pair_trio\" }\n",
    "  - { text: \"Lesson 2: Frontend\", url: \"/snake/lesson/frontend\" }\n",
    "  - { text: \"Lesson 3: Programming Fundamentals\", url: \"/snake/lesson/fundamentals\" }\n",
    "  - { text: \"Lesson 4: Hacks\", url: \"/snake/lesson/hacks\" }\n",
    "  - { text: \"End of Lesson Quiz\", url: \"/snake/lesson/quiz\" }\n",
    "  - { text: \"Future References\", url: \"/snake/lesson/future-references\" }\n",
    "\n",
    "enable_timer: true\n",
    "enable_progress: true\n",
    "progress_total: 5\n",
    "enable_badges: true\n",
    "lesson_key: \"fundamentals\"\n",
    "lesson_badges:\n",
    "- \"fundamentals\"\n",
    "enable_quiz: true\n",
    "\n",
    "resources:\n",
    "  - { text: \"MDN: Classes\", url: \"https://developer.mozilla.org/en-US/docs/Web/JavaScript/Reference/Classes\" }\n",
    "  - { text: \"JavaScript Info\", url: \"https://javascript.info\" }\n",
    "\n",
    "prev_url: \"/snake/lesson/frontend\"\n",
    "next_url: \"/snake/lesson/hacks\"\n",
    "---"
   ]
  },
  {
   "cell_type": "markdown",
   "id": "42071756",
   "metadata": {},
   "source": [
    "## Introduction\n",
    "\n",
    "In this lesson we’ll use the Snake game code to learn:\n",
    "\n",
    "- Variables & Constants – where the game keeps its stuff\n",
    "- Functions – little helpers that do one job\n",
    "- Conditionals – “if this, then that” and switch\n",
    "- Loops – doing things again and again\n",
    "- Arrays & Objects – how we store the snake and the food\n",
    "\n",
    "We’ll point to the exact lines/ideas in your code and give tiny experiments you can try."
   ]
  },
  {
   "cell_type": "markdown",
   "id": "ed9c5424",
   "metadata": {},
   "source": [
    "## Variables & Constants\n",
    "\n",
    "Think of constants as labels for things that don’t change (like screen IDs or block size), and variables as boxes that can change (like score or snake direction)."
   ]
  },
  {
   "cell_type": "code",
   "execution_count": null,
   "id": "821801e5",
   "metadata": {
    "vscode": {
     "languageId": "javascript"
    }
   },
   "outputs": [],
   "source": [
    "// CONSTANTS (names in ALL_CAPS by convention)\n",
    "const BLOCK = 10;       // one grid square is 10x10 pixels\n",
    "const SCREEN_SNAKE = 0; // play screen\n",
    "const SCREEN_MENU = -1;\n",
    "const SCREEN_GAME_OVER = 1;\n",
    "const SCREEN_SETTING = 2;\n",
    "\n",
    "// HTML elements / canvas\n",
    "const canvas = document.getElementById(\"snake\");\n",
    "const ctx = canvas.getContext(\"2d\");\n",
    "\n",
    "// Game state VARIABLES (these change while you play)\n",
    "let SCREEN = SCREEN_MENU;\n",
    "let snake;              // array of pieces\n",
    "let snake_dir;          // current direction (0 up, 1 right, 2 down, 3 left)\n",
    "let snake_next_dir;     // the direction we will turn to next\n",
    "let snake_speed;        // how fast the loop runs (ms)\n",
    "let food = {x: 0, y: 0};// object with x,y\n",
    "let score;              // number\n",
    "let wall;               // 1 = on, 0 = off\n"
   ]
  },
  {
   "cell_type": "markdown",
   "id": "b81fe483",
   "metadata": {},
   "source": [
    "**Try it!** \n",
    "\n",
    "Change the board zoom by tweaking ```BLOCK```. Bigger number = bigger chunky snake.\n",
    "\n",
    "Start faster by calling ```setSnakeSpeed(75)``` instead of ```150``` in ```window.onload```."
   ]
  },
  {
   "cell_type": "markdown",
   "id": "122ae97a",
   "metadata": {},
   "source": [
    "## Functions: keeping code tidy\n",
    "\n",
    "Functions are verbs. Each one does one job. Snake’s functions include:\n",
    "\n",
    "| Function        | What it does                                             |\n",
    "|-----------------|----------------------------------------------------------|\n",
    "| `showScreen`    | Shows the right screen (menu / game / settings / over)   |\n",
    "| `mainLoop`      | Moves the snake, checks collisions, draws the frame      |\n",
    "| `newGame`       | Resets the game to the starting state                    |\n",
    "| `changeDir`     | Handles arrow key presses                                |\n",
    "| `activeDot`     | Draws one square on the canvas                           |\n",
    "| `addFood`       | Picks a random empty spot for food                       |\n",
    "| `checkBlock`    | Tests if two grid spots are the same                     |\n",
    "| `altScore`      | Updates the score text                                   |\n",
    "| `setSnakeSpeed` | Sets how fast the game ticks                             |\n",
    "| `setWall`       | Turns wall wrap on/off and changes border color          |\n",
    "\n",
    "---\n",
    "\n",
    "## Callmap of Functions\n",
    "\n",
    "```text\n",
    "window.onload\n",
    " ├─ sets up buttons, settings, key listener for Space\n",
    " └─ (Space) → newGame\n",
    "      ├─ showScreen(SCREEN_SNAKE)\n",
    "      ├─ reset snake/score/food\n",
    "      ├─ canvas.onkeydown → changeDir\n",
    "      └─ mainLoop (repeats forever with setTimeout)\n",
    "           ├─ move snake head\n",
    "           ├─ (if walls) game over when leaving canvas\n",
    "           ├─ (if no walls) wrap around edges\n",
    "           ├─ check snake hits itself → game over\n",
    "           ├─ check eat food → grow, score++, addFood\n",
    "           ├─ draw background, snake, food\n",
    "           └─ setTimeout(mainLoop, snake_speed)\n",
    "```"
   ]
  },
  {
   "cell_type": "markdown",
   "id": "43c28d6e",
   "metadata": {},
   "source": [
    "## Conditionals: “if this, then that” + ```switch```\n",
    "\n",
    "Direction control with a switch:"
   ]
  },
  {
   "cell_type": "code",
   "execution_count": null,
   "id": "34dfd725",
   "metadata": {
    "vscode": {
     "languageId": "javascript"
    }
   },
   "outputs": [],
   "source": [
    "// 0 up, 1 right, 2 down, 3 left\n",
    "switch(snake_dir){\n",
    "  case 0: _y--; break;\n",
    "  case 1: _x++; break;\n",
    "  case 2: _y++; break;\n",
    "  case 3: _x--; break;\n",
    "}\n"
   ]
  },
  {
   "cell_type": "markdown",
   "id": "e721f40e",
   "metadata": {},
   "source": [
    "Key presses with a switch + safety checks:"
   ]
  },
  {
   "cell_type": "code",
   "execution_count": null,
   "id": "bc951137",
   "metadata": {
    "vscode": {
     "languageId": "javascript"
    }
   },
   "outputs": [],
   "source": [
    "switch(key) {\n",
    "  case 37: if (snake_dir !== 1) snake_next_dir = 3; break; // left\n",
    "  case 38: if (snake_dir !== 2) snake_next_dir = 0; break; // up\n",
    "  case 39: if (snake_dir !== 3) snake_next_dir = 1; break; // right\n",
    "  case 40: if (snake_dir !== 0) snake_next_dir = 2; break; // down\n",
    "}\n"
   ]
  },
  {
   "cell_type": "markdown",
   "id": "b177bfdb",
   "metadata": {},
   "source": [
    "The if checks prevent instant 180° turns (which would crash into your own neck).\n",
    "\n",
    "Collision checks with if: "
   ]
  },
  {
   "cell_type": "code",
   "execution_count": null,
   "id": "b1fac3e2",
   "metadata": {
    "vscode": {
     "languageId": "javascript"
    }
   },
   "outputs": [],
   "source": [
    "// Walls on? Out of bounds = game over\n",
    "if (wall === 1) {\n",
    "  if (snake[0].x < 0 || snake[0].x === canvas.width / BLOCK ||\n",
    "      snake[0].y < 0 || snake[0].y === canvas.height / BLOCK) {\n",
    "    showScreen(SCREEN_GAME_OVER);\n",
    "    return;\n",
    "  }\n",
    "}\n"
   ]
  },
  {
   "cell_type": "markdown",
   "id": "dfd9564a",
   "metadata": {},
   "source": [
    "**Try it!**\n",
    "\n",
    "Add a bonus: if score is a multiple of 5, speed up a little."
   ]
  },
  {
   "cell_type": "markdown",
   "id": "c83bfcbf",
   "metadata": {},
   "source": [
    "## Loops: do it again (and again)\n",
    "\n",
    "The game “loop\" is a function (mainLoop) that calls itself again later using setTimeout(...). That’s how animation happens."
   ]
  },
  {
   "cell_type": "code",
   "execution_count": null,
   "id": "b7c3d962",
   "metadata": {
    "vscode": {
     "languageId": "javascript"
    }
   },
   "outputs": [],
   "source": [
    "// at the end of mainLoop\n",
    "setTimeout(mainLoop, snake_speed);"
   ]
  },
  {
   "cell_type": "markdown",
   "id": "b42610b1",
   "metadata": {},
   "source": [
    "```for``` loops in the game!\n",
    "\n",
    "Wrap-around when walls are off:"
   ]
  },
  {
   "cell_type": "code",
   "execution_count": null,
   "id": "a2034271",
   "metadata": {
    "vscode": {
     "languageId": "javascript"
    }
   },
   "outputs": [],
   "source": [
    "for (let i = 0; i < snake.length; i++) {\n",
    "  // fix x and y to wrap across edges\n",
    "}"
   ]
  },
  {
   "cell_type": "markdown",
   "id": "1fd3a55b",
   "metadata": {},
   "source": [
    "Self-collision check:"
   ]
  },
  {
   "cell_type": "code",
   "execution_count": null,
   "id": "227c724d",
   "metadata": {
    "vscode": {
     "languageId": "javascript"
    }
   },
   "outputs": [],
   "source": [
    "for (let i = 1; i < snake.length; i++) {\n",
    "  if (snake[0].x === snake[i].x && snake[0].y === snake[i].y) { /* game over */ }\n",
    "}  "
   ]
  },
  {
   "cell_type": "markdown",
   "id": "4adc7b5b",
   "metadata": {},
   "source": [
    "Draw every segment:"
   ]
  },
  {
   "cell_type": "code",
   "execution_count": null,
   "id": "cd73ce80",
   "metadata": {
    "vscode": {
     "languageId": "javascript"
    }
   },
   "outputs": [],
   "source": [
    "for (let i = 0; i < snake.length; i++){\n",
    "  activeDot(snake[i].x, snake[i].y);\n",
    "}\n"
   ]
  },
  {
   "cell_type": "markdown",
   "id": "38a0b086",
   "metadata": {},
   "source": [
    "Event listener setup (looping over radio buttons):"
   ]
  },
  {
   "cell_type": "code",
   "execution_count": null,
   "id": "1361e212",
   "metadata": {
    "vscode": {
     "languageId": "javascript"
    }
   },
   "outputs": [],
   "source": [
    "for (let i = 0; i < speed_setting.length; i++){\n",
    "  speed_setting[i].addEventListener(\"click\", function(){ /* ... */ });\n",
    "}"
   ]
  },
  {
   "cell_type": "markdown",
   "id": "dfe23405",
   "metadata": {},
   "source": [
    "**Try it!**\n",
    "\n",
    "Make the snake start longer: after snake.push({x: 0, y: 15});, add a tiny loop to add two more pieces.\n",
    "\n",
    "## Arrays & Objects\n",
    "\n",
    "Snake = array of objects\n",
    "\n",
    "Each body part is an object with ```{x, y}```. All parts together form an array in order from head to tail."
   ]
  },
  {
   "cell_type": "code",
   "execution_count": null,
   "id": "cf4076b3",
   "metadata": {
    "vscode": {
     "languageId": "javascript"
    }
   },
   "outputs": [],
   "source": [
    "snake = [];\n",
    "snake.push({x: 0, y: 15}); // head at start\n",
    "// later…\n",
    "snake.unshift({x: _x, y: _y}); // add new head\n",
    "snake.pop();                   // remove tail\n"
   ]
  },
  {
   "cell_type": "markdown",
   "id": "e8d431d8",
   "metadata": {},
   "source": [
    "```unshift``` puts an item at the start of the array (index 0).\n",
    "```pop``` removes the last item. This creates the “moving” effect.\n",
    "\n",
    "Food: A Single Object:"
   ]
  },
  {
   "cell_type": "code",
   "execution_count": null,
   "id": "a9b907e4",
   "metadata": {
    "vscode": {
     "languageId": "javascript"
    }
   },
   "outputs": [],
   "source": [
    "let food = { x: 0, y: 0 };\n",
    "\n",
    "function addFood(){\n",
    "  food.x = Math.floor(Math.random() * ((canvas.width / BLOCK) - 1));\n",
    "  food.y = Math.floor(Math.random() * ((canvas.height / BLOCK) - 1));\n",
    "  // if food lands on the snake, try again\n",
    "  for (let i = 0; i < snake.length; i++){\n",
    "    if (checkBlock(food.x, food.y, snake[i].x, snake[i].y)) {\n",
    "      addFood(); // recursion retry\n",
    "    }\n",
    "  }\n",
    "}\n"
   ]
  },
  {
   "cell_type": "markdown",
   "id": "524b6594",
   "metadata": {},
   "source": [
    "**Try it!**\n",
    "\n",
    "Give the food a “special mode” every 7 points"
   ]
  },
  {
   "cell_type": "markdown",
   "id": "e9a54d4a",
   "metadata": {},
   "source": [
    "## Quick Recap\n",
    "\n",
    "- Variables/Constants keep track of game state and fixed labels.\n",
    "- Functions break the game into clear jobs.\n",
    "- Conditionals decide what happens (turns, walls, collisions).\n",
    "- Loops repeat drawing, checking, and event setup.\n",
    "- Arrays/Objects store the snake body and food neatly.\n",
    "\n",
    "Congrats on finishing the lesson! You are now ready to make your own variations on the Snake game. "
   ]
  }
 ],
 "metadata": {
  "language_info": {
   "name": "python"
  }
 },
 "nbformat": 4,
 "nbformat_minor": 5
}
