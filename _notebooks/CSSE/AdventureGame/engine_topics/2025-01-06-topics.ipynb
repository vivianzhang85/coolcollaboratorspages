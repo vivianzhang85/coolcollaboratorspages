{
 "cells": [
  {
   "cell_type": "code",
   "execution_count": null,
   "metadata": {
    "vscode": {
     "languageId": "yaml"
    }
   },
   "outputs": [],
   "source": [
    "---\n",
    "toc: false\n",
    "layout: tailwindPost\n",
    "infoGraph: adventureGame\n",
    "title: Adventure Game Infograph \n",
    "categories: [Adventure Game] \n",
    "description: \"A guide to the Adventure Game, featuring RPG and Platformer capabilities. This help system fosters learning, discussion, and exploration of key game components.\"\n",
    "courses: { csse: {week: 13} }\n",
    "type: ccc \n",
    "author: John Mortensen\n",
    "permalink: /gamify/adventureGame/topics\n",
    "breadcrumb: True \n",
    "sticky_rank: 2\n",
    "---\n"
   ]
  },
  {
   "cell_type": "markdown",
   "metadata": {},
   "source": [
    "<!-- Infographic - this depends on page.infoGraph frontmatter being set -->\n",
    "{%- include tailwind/infograph.html -%}"
   ]
  },
  {
   "cell_type": "markdown",
   "metadata": {},
   "source": [
    "## Notes for enhancements\n",
    "\n",
    "[Link to Gamify online](https://pages.opencodingsociety.com/gamify) (requires login)\n",
    "\n",
    "**Game Objects:  Overview a GameObject**\n",
    "- Learn about defining the game objects properties.\n",
    "- Define and object literal for game object properties.\n",
    "- Create a game object using Player class.\n",
    "- Look at the draw() method\n",
    "\n",
    "#### Adventure Game\n",
    "\n",
    "**Background/Transitions (Nether): Creating a Background**\n",
    "- Learn how to set up the game canvas using HTML and JavaScript.\n",
    "- Craft a visually appealing background that complements the game's theme.\n",
    "- Incorporate background elements that contribute to the game's atmosphere and aesthetics with parallax scrolling for a realistic effect.\n",
    "\n",
    "**Player: Setting Up the Player (End)**\n",
    "- Improve basic player movement and jumping physics.\n",
    "- Better game/player endings, game/player scoring.\n",
    "- Better animations to support endings, collisions.\n",
    "\n",
    "**Finish (End)**: Ending Levels\n",
    "- Render finish line obstactle that allow the player to transition between different levels.\n",
    "- Consider alternate endings and animations.\n",
    "\n",
    "**Local Storage/APIs/Scoreboard (End Team)**\t\n",
    "- APIs with blob data\n",
    "- Call at game end or increments (changing levels)\n",
    "\n",
    "**NPC: Friendly (Overword)**\n",
    "- NPCs interaction leads to mini quizzes\n",
    "- Points system, Emerald\n",
    "\n",
    "**NPC: Enemies (Overworld: Hope, Namira, Yuna)**\n",
    "Render enemy characters (creepers) that move independently, consequence when there is a collision (Namira)\n",
    "Enemy animations (ex. explosion) (Namira)\n",
    "- Collision Handling\n",
    "- Animations\n",
    "\n",
    "Collision mapping with Tiled, creating detailed collisions maps for both RPG and Plat game maps (Hope)\n",
    "- Tiled Map\n",
    "\n",
    "Post collision handling and dialogue between user and NPCs (system) (Yuna)\n",
    "- Dialog\n",
    "\n",
    "**Game-In-Game: Callbacks - (Overworld) Tanisha, Nico, Paul, Shayan**\n",
    "Platformer world does callback. if the player successfully answers the Golden Pig question, they will get a special amount of emeralds which will update the \"chest\" in the RPG hub. Players earn emerald points as they correctly answer the questions. These emeralds are then stored in a virtual chest located in the RPG hub. (Shayan and Tanisha)\n",
    "- Define interactive characters and/or blocks.\n",
    "\n",
    "Enemy interactions cause certain dialogs. The game could call back to earlier NPC dialogues that referenced the importance of avoiding creepers. For example, if the player fails to avoid the creeper in the platformer, the NPC might now say, “I warned you about those creepers. Your emeralds are at risk now.” (Nico and Tanisha)\n",
    "- Create player interactions after collisions with creepers.\n",
    "\n",
    "\n",
    "\n",
    "#### Platformer Game Parts\n",
    "\n",
    "**Platforms/Blocks/Gravity (Nether): Designing Platforms and Collision Detection**\n",
    "- Design and draw platforms on the canvas.\n",
    "- Implement collision detection between the player character and platforms.\n",
    "- Enable the player to walk and jump on platforms while accounting for gravity.\n",
    "\n",
    "**Enemies: Implementing Enemies**\n",
    "- Introduce enemy characters (ie Goombas) that move independently across platforms.\n",
    "- Define enemy behavior, including collision interactions with the player character.\n",
    "- Create a system to defeat enemies through collision, jumping, shooting, etc.\n",
    "\n",
    "\n",
    "\n",
    "\n"
   ]
  },
  {
   "cell_type": "markdown",
   "metadata": {},
   "source": []
  }
 ],
 "metadata": {
  "language_info": {
   "name": "python"
  },
  "orig_nbformat": 4
 },
 "nbformat": 4,
 "nbformat_minor": 2
}
