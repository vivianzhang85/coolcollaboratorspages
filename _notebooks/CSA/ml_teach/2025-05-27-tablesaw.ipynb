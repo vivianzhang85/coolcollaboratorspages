{
 "cells": [
  {
   "cell_type": "raw",
   "id": "6ce3983a",
   "metadata": {
    "vscode": {
     "languageId": "raw"
    }
   },
   "source": [
    "---\n",
    "layout: post\n",
    "title: Java ML - Smile\n",
    "categories: [Java Spring]\n",
    "permalink: /tablesaw\n",
    "menu: /nav/ml_teach.html\n",
    "---"
   ]
  }
 ],
 "metadata": {
  "language_info": {
   "name": "python"
  }
 },
 "nbformat": 4,
 "nbformat_minor": 5
}
