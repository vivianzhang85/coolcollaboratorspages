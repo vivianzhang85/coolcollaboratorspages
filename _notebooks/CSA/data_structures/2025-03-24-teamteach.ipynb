{
  "cells": [
    {
      "cell_type": "raw",
      "id": "44a9c7c9",
      "metadata": {
        "vscode": {
          "languageId": "raw"
        }
      },
      "source": [
        "---\n",
        "title: Merge Sort Gamify\n",
        "comments: true\n",
        "layout: post\n",
        "description: Continue with Classes, Queues, performing Sorts and BigO analysis on your algorithm(s).\n",
        "type: ccc\n",
        "courses: { csa: {week: 25} }\n",
        "---\n"
      ]
    },
    {
      "cell_type": "markdown",
      "metadata": {},
      "source": [
        "# Merge Sort Team Teach\n",
        "\n",
        "\n",
        "By the end of this lesson, you’ll know:\n",
        "- **How** Merge Sort uses a divide-and-conquer strategy.\n",
        "- **Why** its time complexity is `O(n log n)`.\n"
      ]
    },
    {
      "cell_type": "markdown",
      "metadata": {},
      "source": [
        "## Conceptual Overview\n",
        "\n",
        "1. **Divide**: We keep splitting the batch of cupcakes into halves until each sub-batch is a single cupcake (or no cupcakes). A single cupcake doesn’t need sorting!\n",
        "2. **Conquer**: Each of these single-cupcake batches is trivially sorted.\n",
        "3. **Combine**: We start merging the little batches back together. At every merge step, we ensure cupcakes end up in ascending order (least sweet to most sweet). \n",
        "\n",
        "### Time Complexity in a Nutshell\n",
        "- At each level of splitting, we perform `O(n)` work to merge the halves.\n",
        "- There are about `log n` levels of splitting (because we divide in half each time).\n",
        "- Multiply them: `O(n log n)` overall!\n"
      ]
    },
    {
      "cell_type": "markdown",
      "metadata": {},
      "source": [
        "## Merge Sort Implementation\n",
        "Let’s dive into the code. We’ll simulate sorting an array of integers. Think of each integer as a cupcake’s “sweetness level.”"
      ]
    },
    {
      "cell_type": "code",
      "execution_count": 2,
      "metadata": {
        "vscode": {
          "languageId": "java"
        }
      },
      "outputs": [],
      "source": [
        "public class MyMergeSort {\n",
        "\n",
        "    /**\n",
        "     * Recursively splits arr into two halves, sorts each half,\n",
        "     * and merges them back together.\n",
        "     */\n",
        "    public static int[] merge_sort(int[] arr) {\n",
        "        if (arr.length <= 1) {\n",
        "            // Base case: already sorted if there's 0 or 1 element\n",
        "            return arr;\n",
        "        }\n",
        "\n",
        "        int mid = arr.length / 2;\n",
        "\n",
        "        // Split the array into two halves\n",
        "        int[] left_half = new int[mid];\n",
        "        int[] right_half = new int[arr.length - mid];\n",
        "\n",
        "        // Copy the left half\n",
        "        System.arraycopy(arr, 0, left_half, 0, mid);\n",
        "\n",
        "        // Copy the right half\n",
        "        System.arraycopy(arr, mid, right_half, 0, arr.length - mid);\n",
        "\n",
        "        // Recursively sort each half\n",
        "        left_half = merge_sort(left_half);\n",
        "        right_half = merge_sort(right_half);\n",
        "\n",
        "        // Merge the two sorted halves\n",
        "        return merge(left_half, right_half);\n",
        "    }\n",
        "\n",
        "    /**\n",
        "     * Merge two sorted arrays (left and right) into a single sorted array.\n",
        "     */\n",
        "    public static int[] merge(int[] left, int[] right) {\n",
        "        int[] merged = new int[left.length + right.length];\n",
        "        int i = 0, j = 0, k = 0;\n",
        "\n",
        "        // Compare elements from left and right, picking the smaller one\n",
        "        while (i < left.length && j < right.length) {\n",
        "            if (left[i] <= right[j]) {\n",
        "                merged[k++] = left[i++];\n",
        "            } else {\n",
        "                merged[k++] = right[j++];\n",
        "            }\n",
        "        }\n",
        "\n",
        "        // If any elements remain in left, add them\n",
        "        while (i < left.length) {\n",
        "            merged[k++] = left[i++];\n",
        "        }\n",
        "\n",
        "        // If any elements remain in right, add them\n",
        "        while (j < right.length) {\n",
        "            merged[k++] = right[j++];\n",
        "        }\n",
        "\n",
        "        return merged;\n",
        "    }\n",
        "}\n"
      ]
    },
    {
      "cell_type": "markdown",
      "metadata": {},
      "source": [
        "### Example Usage\n",
        "Let’s test our Merge Sort by creating a list of sweetness levels. Then we’ll print the sorted result."
      ]
    },
    {
      "cell_type": "code",
      "execution_count": 1,
      "metadata": {
        "vscode": {
          "languageId": "java"
        }
      },
      "outputs": [],
      "source": [
        "import java.util.Arrays;\n",
        "import java.util.Random;\n",
        "\n",
        "public class MergeSortUsage {\n",
        "    public static void main(String[] args) {\n",
        "        Random random = new Random();\n",
        "\n",
        "        // Generate random sweetness levels\n",
        "        int[] cupcake_sweetness = new int[8];\n",
        "        for (int i = 0; i < cupcake_sweetness.length; i++) {\n",
        "            cupcake_sweetness[i] = random.nextInt(100) + 1; // random 1-100\n",
        "        }\n",
        "\n",
        "        // Print original sweetness levels\n",
        "        System.out.println(\"Original sweetness levels: \" + Arrays.toString(cupcake_sweetness));\n",
        "\n",
        "        // Sort using merge_sort\n",
        "        int[] sorted_sweetness = MyMergeSort.merge_sort(cupcake_sweetness);\n",
        "\n",
        "        // Print sorted sweetness levels\n",
        "        System.out.println(\"Sorted sweetness levels: \" + Arrays.toString(sorted_sweetness));\n",
        "    }\n",
        "}\n"
      ]
    },
    {
      "cell_type": "markdown",
      "metadata": {},
      "source": [
        "## Popcorn Hack\n",
        "\n",
        "**Popcorn Hack Challenge**: Adapt the `merge_sort` function so that it sorts in **descending order** (from most sweet to least sweet) _without_ reversing the array afterward. In other words, handle the comparison logic in the merge step.\n",
        "\n",
        "Steps to try:\n",
        "1. **Copy** the `merge_sort` and `merge` functions.\n",
        "2. **Adjust** the comparison so that the larger element is chosen first.\n",
        "3. **Test** your updated code on a random list of integers to confirm you get a descending result.\n",
        "\n",
        "> **Hint**: In the `while` loop of `merge()`, switch the condition so that we pick the bigger element first.\n",
        "\n",
        "## Example sorting [38, 27, 43, 10]\n",
        "\n",
        "### Divide: \n",
        "\n",
        "\n",
        "-    [38, 27, 43, 10]  is divided into  [38, 27  ] and  [43, 10]  . \n",
        "-     [38, 27]  is divided into  [38]  and  [27]  . \n",
        "-    [43, 10]  is divided into  [43]  and  [10]  . \n",
        "### Conquer: \n",
        "\n",
        "-  [38]  is already sorted. \n",
        "-   [27]  is already sorted. \n",
        "-  [43]  is already sorted. \n",
        "-  [10]  is already sorted. \n",
        "### Merge: \n",
        "-  Merge  [38]  and  [27]  to get  [27, 38]  . \n",
        "-   Merge  [43]  and  [10]  to get  [10,43]  . \n",
        "-  Merge  [27, 38]  and  [10,43]  to get the final sorted list  [10, 27, 38, 43] \n",
        "Therefore, the sorted list is  [10, 27, 38, 43]  . \n",
        "\n",
        "## Demo\n",
        "\n",
        "1. **Form a Line**  \n",
        "   - Eight volunteers stand in a single, unordered line (each wearing a number).\n",
        "\n",
        "2. **Split Into Halves**  \n",
        "   - Split into two groups: left half and right half. Then keep splitting until each group is down to a single person.\n",
        "\n",
        "3. **Merge**  \n",
        "   - To merge two sorted groups, compare the front individuals’ numbers: the lower number moves first into the new “sorted line.” Continue until all members from both groups stand in sorted order.\n",
        "\n",
        "4. **Repeat**  \n",
        "   - Merge sorted pairs into bigger sorted groups. Keep merging until everyone is back in one fully sorted line.\n",
        "\n",
        "### What We Observe\n",
        "- **Divide & Conquer**: Splitting until single elements are already “sorted.”  \n",
        "- **Merge Step**: Carefully recombines sorted groups by comparing the front members.  \n",
        "- **Efficiency**: Fewer comparisons overall, leading to `O(n log n)` time.\n",
        "\n",
        "Watch the line transform from chaos to order—just like code does with real Merge Sort!\n",
        "\n"
      ]
    },
    {
      "cell_type": "markdown",
      "metadata": {},
      "source": [
        "## Homework Hack\n",
        "\n",
        "1. **Written Reflection**: \n",
        "   - Explain how Merge Sort splits data, merges data, and achieves its `O(n log n)` efficiency, in your own words.\n",
        "   \n",
        "2. **Inversion Counter** *(Optional, Extra Challenge)*:\n",
        "   - Modify the merge process to **count** how many times elements from the `right` array are placed before elements of the `left` array. This count is the number of *inversions*, a measure of \"how unsorted\" the list was.\n",
        "   \n",
        "3. **Linked List Sorting** *(Choose if you’re adventurous)*:\n",
        "   - Instead of an array or list, implement a Merge Sort for a singly linked list. This can be done by finding the middle node, splitting the list, and then merging.\n",
        "\n",
        "Show your solutions or answers to these tasks in your own notebook or code environment. Happy sorting!"
      ]
    }
  ],
  "metadata": {
    "kernelspec": {
      "display_name": "Java",
      "language": "java",
      "name": "java"
    },
    "language_info": {
      "codemirror_mode": "java",
      "file_extension": ".jshell",
      "mimetype": "text/x-java-source",
      "name": "Java",
      "pygments_lexer": "java",
      "version": "17.0.12+8-LTS-286"
    }
  },
  "nbformat": 4,
  "nbformat_minor": 5
}
