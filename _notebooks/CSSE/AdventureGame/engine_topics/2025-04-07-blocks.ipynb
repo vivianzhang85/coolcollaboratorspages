{
 "cells": [
  {
   "cell_type": "markdown",
   "metadata": {},
   "source": [
    "# Lesson: Understanding Game Blocks in JavaScript\n",
    "## What are Game Blocks?\n",
    "In game development, **blocks** are elements or objects in the game world that serve various purposes. They can be **static** or **dynamic**, and they define the physical boundaries and interactive objects in the game. In many platformers, such as Mario, blocks can serve as platforms that the player can land on, obstacles the player cannot pass, or even collectibles that the player can interact with. Blocks can also move, change states, or trigger events when the player interacts with them.\n",
    "### Types of Blocks:\n",
    "- **Static Blocks**: These blocks do not change or move. They are fixed in the game world and can act as platforms, walls, or boundaries. For example, a ground platform where a player can jump or stand is a static block.\n",
    "- **Moving Blocks**: These blocks change their position over time. They can move up, down, left, right, or in other ways to challenge the player or provide interactive elements, like moving platforms or obstacles.\n",
    "- **Boundary Blocks**: These blocks define the limits of the game world, preventing the player from going beyond certain areas. These can be walls that stop the player or areas where the player can fall off the screen.\n",
    "---\n",
    "## How Are Game Blocks Used in JavaScript?\n",
    "In JavaScript, blocks are typically represented as objects with properties such as position, size, and movement behavior. These blocks are drawn on a canvas (like the HTML5 `<canvas>` element) and can be interacted with by the player or other elements in the game. JavaScript is often used to control the block's properties, such as their position on the screen, collision detection, and how they move.\n",
    "### Block Representation in Code:\n",
    "A block in JavaScript is usually defined as an object with the following properties:\n",
    "- **Position** (`x`, `y`): Determines the location of the block in the game world.\n",
    "- **Size** (`width`, `height`): Defines the dimensions of the block.\n",
    "- **Color**: The appearance of the block.\n",
    "- **Movement**: Blocks may have properties that define how they move, such as `speed` or `direction` for dynamic blocks.\n",
    "### How Blocks Interact:\n",
    "Blocks interact with the player and other game elements using **collision detection**. This is a way to check if two objects, like the player and a platform, are touching. When a collision is detected, the game can trigger an event, like stopping the player from falling through the platform or moving the player upward if they land on a platform.\n",
    "Blocks can also trigger game events. For example, a collectible block might disappear when the player collides with it, or a moving block might change the level of difficulty by blocking the player’s path.\n",
    "\n",
    "---\n",
    "## What Do Blocks Do?\n",
    "Blocks provide structure and interaction in the game world. They help define the environment, create challenges, and offer gameplay mechanics. They can:\n",
    "- **Define the floor or ceiling**: Platforms for the player to jump on.\n",
    "- **Create obstacles**: Walls or barriers that prevent the player from moving freely.\n",
    "- **Provide interactivity**: Collectible blocks that grant points or power-ups when touched.\n",
    "- **Challenge the player**: Moving blocks that require precise timing or strategy.\n",
    "Game blocks are fundamental in creating a structured game world and enhancing player interaction.\n",
    "## Code Examples\n",
    "### Example 1: Static Platform Block\n",
    "In this example, we create a simple static platform that the player can stand on.\n",
    "```html\n",
    "<canvas id=\"gameCanvas\" width=\"800\" height=\"600\"></canvas>\n",
    "<script>\n",
    "  const canvas = document.getElementById(\"gameCanvas\");\n",
    "  const ctx = canvas.getContext(\"2d\");\n",
    "  // Define the static platform block\n",
    "  const platform = {\n",
    "    x: 100,\n",
    "    y: 500,\n",
    "    width: 300,\n",
    "    height: 20,\n",
    "    color: \"green\"\n",
    "  };\n",
    "  // Function to draw the platform\n",
    "  function drawPlatform() {\n",
    "    ctx.fillStyle = platform.color;\n",
    "    ctx.fillRect(platform.x, platform.y, platform.width, platform.height);\n",
    "  }\n",
    "  // Draw the platform on the canvas\n",
    "  drawPlatform();\n",
    "</script>\n",
    "\n",
    "\n",
    "  "
   ]
  },
  {
   "cell_type": "markdown",
   "metadata": {},
   "source": [
    "# Hack: Falling Block with Gravity\n",
    "**Task**: Create a moving block that falls from the top of the screen and simulates gravity. The block should start from a random position at the top of the canvas, and gravity should pull it down to the bottom of the canvas. Your task is to:\n",
    "- Implement the movement so that the block falls under the effect of gravity.\n",
    "- Ensure the block stops at the bottom of the screen when it reaches the ground.\n",
    "### Instructions:\n",
    "1. **Create the Block**: The block should be represented as an object with properties such as `x`, `y`, `width`, `height`, and `color`.\n",
    "2. **Apply Gravity**: The block should accelerate downward due to gravity. This can be achieved by updating the block's vertical speed (`speedY`) each frame.\n",
    "3. **Stop at the Bottom**: When the block hits the bottom of the screen, it should stop falling and remain there.\n",
    "4. **Randomize Horizontal Position**: The block's horizontal position (`x`) should be randomized when the game starts.\n",
    "- Below is an example of how its implemented, but DONT COPY AND PASTE IT, implement it into the level of your choice and play around with the values. We wont accept just duplicates since this code isnt fully correct.\n",
    "\n"
   ]
  },
  {
   "cell_type": "code",
   "execution_count": null,
   "metadata": {
    "vscode": {
     "languageId": "javascript"
    }
   },
   "outputs": [],
   "source": [
    "import Npc from './Npc.js';\n",
    "\n",
    "class FallingBlock extends Npc {\n",
    "    constructor(data = null, gameEnv = null) {\n",
    "        super(data, gameEnv);\n",
    "        this.fallSpeed = data?.fallSpeed || 2;\n",
    "        this.maxY = data?.maxY || gameEnv.innerHeight;\n",
    "        this.height = this.spriteData.pixels.height * this.spriteData.SCALE_FACTOR;\n",
    "    }\n",
    "\n",
    "    update() {\n",
    "        if (this.position.y + this.height < this.maxY) {\n",
    "            this.position.y += this.fallSpeed;\n",
    "        } else {\n",
    "            this.position.y = this.maxY - this.height;\n",
    "        }\n",
    "\n",
    "        this.draw();\n",
    "    }\n",
    "}\n",
    "\n",
    "export default FallingBlock;\n"
   ]
  }
 ],
 "metadata": {
  "kernelspec": {
   "display_name": "venv",
   "language": "python",
   "name": "python3"
  },
  "language_info": {
   "name": "python",
   "version": "3.12.3"
  }
 },
 "nbformat": 4,
 "nbformat_minor": 2
}
