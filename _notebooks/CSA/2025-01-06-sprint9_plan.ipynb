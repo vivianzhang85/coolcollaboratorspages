{
 "cells": [
  {
   "cell_type": "raw",
   "metadata": {
    "vscode": {
     "languageId": "raw"
    }
   },
   "source": [
    "---\n",
    "layout: post\n",
    "title: Sprint 9 - CSA Objectives (Final) \n",
    "description: CSA final project.  This includes help system, plans, code, testing, and N@tM.\n",
    "type: issues \n",
    "courses: { csa: {week: 34} }\n",
    "comments: true\n",
    "permalink: /csa/sprint9/objectives\n",
    "---\n"
   ]
  },
  {
   "cell_type": "markdown",
   "metadata": {},
   "source": [
    "## Final Project\n",
    "\n",
    "This Final Project demonstrates your progress in Computer Science, JavaScript, Java, and Object-Oriented Programming. By building a project, you will apply programming fundamentals and explore the impacts of computing through a topic of personal and social relevance (fintech gaming, agile toolkit, hall pass).\n",
    "\n",
    "- **Software Engineering Practices:** Planning changes, using checklists, tracking progress (burndowns), writing commented code, and building help documentation.\n",
    "- **Software Development Lifecycle Practices:** Source control, forking, branching, building, testing and verification, pull requests, and merging/integrating.\n",
    "- **Retrospective Engineering Practices:** Presentations, live reviews, demos, code reviews, and revising plans.\n",
    "- **Data Types:** Numbers, strings, booleans, arrays, JSON objects, and SQLite tables.\n",
    "- **Operators:** String operations, mathematical operations, and boolean expressions.\n",
    "- **Control Structures:** Iteration, conditions, nested conditions, try/except, and .then/.catch.\n",
    "- **Input/Output:** HTML5 input, validation, and working with the Document Object Model (DOM).\n",
    "- **Classes:** Object-oriented design, writing classes, creating methods, instantiating and using objects, calling methods, using parameters, handling return values, abstraction, inheritance, polymorphism, and encapsulation.\n",
    "- **Algorithms/Data Structures:** Searching, sorting, hashing, algorithm analysis, collections, lists, stacks, queues, trees, sets, dictionaries, and graphs.\n",
    "- **Deployment Practices:** DNS, Docker, docker-compose, and nginx.\n",
    "\n",
    "\n",
    "### Mira Costa College\n",
    "\n",
    "This project and course prepare you for college credit and future Computer Science pathways.\n",
    "\n",
    "- [CS113 Course Info](https://catalog.miracosta.edu/disciplines/computerscience/#courseinventory)\n",
    "- [Math and CS Pathway](https://surf.miracosta.edu/psc/ps/EMPLOYEE/SA/c/MCC_CUSTOM.MZ_ACAD_MAP_SS.GBL?MAP_ID=1167)"
   ]
  },
  {
   "cell_type": "markdown",
   "metadata": {},
   "source": [
    "## Project Planning \n",
    "\n",
    "During the project weeks and checkpoints, you will:\n",
    "- Create **Issues** to Describe your project and plans, including who is assigned, expected goals, and stretch goals.\n",
    "- Build a **Help** system to guide current and future engineers working on the feature. Use the search system of the project and categories. Give yourself credit as author.\n",
    "- Develop Individual **Blog** to show personal expertise in project.\n",
    "  - Show depth by featuring Design documents\n",
    "  - Show contriubtion by highlight PRs and Commits\n",
    "- Create a LinkedIn page and feature projects.\n",
    "\n",
    "### Checkpoint Schedule\n",
    "\n",
    "Development weeks:\n",
    "- Be sure to have a goal focused on data restore/backup, testing, and/or UI workflow improvements.\n",
    "- Set and achieve at least one milestone each checkpoint, continuing the iterative cycle of development."
   ]
  },
  {
   "cell_type": "markdown",
   "metadata": {},
   "source": [
    "## Hacks / Blog\n",
    "\n",
    "Throughout the final sprint, you will update your personal blog to describe your project, expertise, and plans, including both expected and stretch goals. Your blog will serve as the central point for communication with your instructor.\n",
    "\n",
    "**Key Events:**\n",
    "- **Finals Week -1**\n",
    "  - **Monday:** Demo your team’s and specifically your individual custom code to the intructor.\n",
    "  - **Thursday:** N@tM (Night at the Museum) showcase at 6pm.\n",
    "- **Finals Week**\n",
    "  - **Monday:** Show LinkedIn page, Blog, and Analytics\n",
    "  - **Final Day:** Instructor completes final grading and articulation qualification.\n"
   ]
  }
 ],
 "metadata": {
  "language_info": {
   "name": "python"
  }
 },
 "nbformat": 4,
 "nbformat_minor": 2
}
