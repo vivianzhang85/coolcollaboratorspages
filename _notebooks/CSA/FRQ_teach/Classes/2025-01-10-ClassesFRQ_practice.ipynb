{
 "cells": [
  {
   "cell_type": "raw",
   "metadata": {
    "vscode": {
     "languageId": "raw"
    }
   },
   "source": [
    "---\n",
    "layout: post\n",
    "toc: true\n",
    "title: FRQ - Classes | Practice\n",
    "description: Practice problems for the 2021 Classes FRQ\n",
    "menu: nav/FRQ_teach/p1-classes.html\n",
    "author: Ian Wu, Trevor Huang, Alisha Hussain\n",
    "permalink: /csa/p1-frq-classes/homework\n",
    "---"
   ]
  },
  {
   "cell_type": "markdown",
   "metadata": {
    "vscode": {
     "languageId": "java"
    }
   },
   "source": [
    "# Homework\n",
    "Your homework is to submit do question 2 of the [2021 FRQ](https://apcentral.collegeboard.org/media/pdf/ap21-frq-computer-science-a.pdf). Please submit your original answer to the FRQ and your score and then your corrections. This is graded based on your reflection, so give yourself an honest chance at seeing where you are at in classes!"
   ]
  }
 ],
 "metadata": {
  "language_info": {
   "name": "python"
  }
 },
 "nbformat": 4,
 "nbformat_minor": 2
}
