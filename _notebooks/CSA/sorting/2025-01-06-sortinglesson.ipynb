{
 "cells": [
  {
   "cell_type": "raw",
   "metadata": {
    "vscode": {
     "languageId": "raw"
    }
   },
   "source": [
    "---\n",
    "title: Sorting/Searching Algorithms - Sorting Lesson\n",
    "description: A lesson on sorting algorithms for AP Computer Science students.\n",
    "categories: [Sorting/Searching Algorithms]\n",
    "menu: nav/teamteaching.html\n",
    "permalink: /sortingTT/sorting/\n",
    "comments: true\n",
    "---"
   ]
  },
  {
   "cell_type": "markdown",
   "metadata": {},
   "source": [
    "# **Sorting Algorithms**\n",
    "\n",
    "## Important Notes\n",
    "\n",
    "### **Big O Notation**\n",
    "- Big O notation is a mathematical notation that describes the limiting behavior of a function when the argument tends towards a particular value or infinity. It is used in computer science to describe the performance or complexity of an algorithm in terms of time and space. The notation provides an upper bound on the growth rate of a function, allowing for a comparison of the efficiency of different algorithms."
   ]
  },
  {
   "cell_type": "markdown",
   "metadata": {},
   "source": [
    "# **1. Selection Sort**\n",
    "Selection sort is a simple sorting algorithm that works by selecting the smallest (or largest, depending on sorting order) element from the list and swapping it with the first unsorted element. The algorithm then finds the second smallest element and swaps it with the second unsorted element, and continues in this way until the entire list is sorted. It is similar to bubble sort, but it is more efficient as it reduces the number of swaps."
   ]
  },
  {
   "cell_type": "code",
   "execution_count": 7,
   "metadata": {
    "vscode": {
     "languageId": "java"
    }
   },
   "outputs": [
    {
     "name": "stdout",
     "output_type": "stream",
     "text": [
      "Sorting process:\n",
      "3 12 18 8 30 28 17 14 \n",
      "3 8 18 12 30 28 17 14 \n",
      "3 8 12 18 30 28 17 14 \n",
      "3 8 12 14 30 28 17 18 \n",
      "3 8 12 14 17 28 30 18 \n",
      "3 8 12 14 17 18 30 28 \n",
      "3 8 12 14 17 18 28 30 \n",
      "\n",
      "Final sorted list:\n",
      "3 8 12 14 17 18 28 30 \n"
     ]
    }
   ],
   "source": [
    "public class SelectionSort {\n",
    "    public static void main(String[] args) {\n",
    "        int[] list = {28, 12, 18, 8, 30, 3, 17, 14};\n",
    "        \n",
    "        System.out.println(\"Sorting process:\");\n",
    "        for (int currentIndex = 0; currentIndex < list.length - 1; currentIndex++) {\n",
    "            int minIndex = currentIndex;\n",
    "            \n",
    "            // Find the minimum element in the unsorted part\n",
    "            for (int i = currentIndex + 1; i < list.length; i++) {\n",
    "                if (list[i] < list[minIndex]) {\n",
    "                    minIndex = i;\n",
    "                }\n",
    "            }\n",
    "            \n",
    "            // Swap the current element with the minimum element\n",
    "            int temp = list[currentIndex];\n",
    "            list[currentIndex] = list[minIndex];\n",
    "            list[minIndex] = temp;\n",
    "\n",
    "            // Print the array after each swap\n",
    "            printArray(list);\n",
    "        }\n",
    "        \n",
    "        System.out.println(\"\\nFinal sorted list:\");\n",
    "        printArray(list);\n",
    "    }\n",
    "\n",
    "    // Helper method to print the array\n",
    "    private static void printArray(int[] array) {\n",
    "        for (int num : array) {\n",
    "            System.out.print(num + \" \");\n",
    "        }\n",
    "        System.out.println();\n",
    "    }\n",
    "}\n",
    "\n",
    "SelectionSort.main(new String[]{});"
   ]
  },
  {
   "cell_type": "markdown",
   "metadata": {},
   "source": [
    "# **2. Insertion Sort**\n",
    "\n",
    "Insertion sort is a simple sorting algorithm that builds the final sorted array (or list) one item at a time. It is much less efficient on large lists than more advanced algorithms such as quicksort, heapsort, or merge sort. However, insertion sort provides several advantages: simple implementation, efficient for (quite) small data sets, more efficient in practice than most other simple quadratic (i.e., O(n2)) algorithms such as selection sort or bubble sort, adaptive, stable, in-place, online, and can be made stable."
   ]
  },
  {
   "cell_type": "code",
   "execution_count": 1,
   "metadata": {
    "vscode": {
     "languageId": "java"
    }
   },
   "outputs": [
    {
     "name": "stdout",
     "output_type": "stream",
     "text": [
      "Sorting process:\n",
      "12 28 18 8 30 3 17 14 \n",
      "12 18 28 8 30 3 17 14 \n",
      "8 12 18 28 30 3 17 14 \n",
      "8 12 18 28 30 3 17 14 \n",
      "3 8 12 18 28 30 17 14 \n",
      "3 8 12 17 18 28 30 14 \n",
      "3 8 12 14 17 18 28 30 \n",
      "Sorted array:\n",
      "3 8 12 14 17 18 28 30 "
     ]
    }
   ],
   "source": [
    "public class InsertionSort {\n",
    "    public static void main(String[] args) {\n",
    "        int[] list = {28, 12, 18, 8, 30, 3, 17, 14};\n",
    "        \n",
    "        System.out.println(\"Sorting process:\");\n",
    "        \n",
    "        // Insertion sort algorithm\n",
    "        for (int i = 1; i < list.length; i++) {\n",
    "            int currentValue = list[i];\n",
    "            int j = i - 1;\n",
    "            \n",
    "            // Shift larger elements to the right\n",
    "            while (j >= 0 && list[j] > currentValue) {\n",
    "                list[j + 1] = list[j];\n",
    "                j--;\n",
    "            }\n",
    "            \n",
    "            // Place the current value in the correct position\n",
    "            list[j + 1] = currentValue;\n",
    "            \n",
    "            // Print the list after each insertion\n",
    "            for (int k = 0; k < list.length; k++) {\n",
    "                System.out.print(list[k] + \" \");\n",
    "            }\n",
    "            System.out.println();  // New line after each pass\n",
    "        }\n",
    "\n",
    "        // Final sorted list\n",
    "        System.out.println(\"Sorted array:\");\n",
    "        for (int num : list) {\n",
    "            System.out.print(num + \" \");\n",
    "        }\n",
    "    }\n",
    "}\n",
    "\n",
    "InsertionSort.main(new String[]{});"
   ]
  }
 ],
 "metadata": {
  "kernelspec": {
   "display_name": "Java",
   "language": "java",
   "name": "java"
  },
  "language_info": {
   "codemirror_mode": "java",
   "file_extension": ".jshell",
   "mimetype": "text/x-java-source",
   "name": "Java",
   "pygments_lexer": "java",
   "version": "17.0.6+10-LTS"
  }
 },
 "nbformat": 4,
 "nbformat_minor": 2
}
