{
 "cells": [
  {
   "cell_type": "raw",
   "id": "e1574870",
   "metadata": {
    "vscode": {
     "languageId": "raw"
    }
   },
   "source": [
    "---\n",
    "layout: post\n",
    "title: Java ML - Weka\n",
    "categories: [Java Spring]\n",
    "permalink: /weka\n",
    "menu: /nav/ml_teach.html\n",
    "---"
   ]
  },
  {
   "cell_type": "markdown",
   "id": "f6624de3",
   "metadata": {},
   "source": [
    "## Weka (Waikato Enviornment for Knowledge Analysis)\n",
    "- Java-based machine learning toolkit with:\n",
    "    - A large number of built-in algorithms for classification, regression, clustering, etc\n",
    "    - Useful for teaching, rapid prototyping, and data analysis"
   ]
  },
  {
   "cell_type": "markdown",
   "id": "4a99fbca",
   "metadata": {},
   "source": [
    "## Weka in titanic example"
   ]
  },
  {
   "cell_type": "markdown",
   "id": "27c74665",
   "metadata": {},
   "source": [
    "## TableSaw Vs Smile"
   ]
  },
  {
   "cell_type": "markdown",
   "id": "2b710ba3",
   "metadata": {},
   "source": [
    "| Aspect                          | Tablesaw                                                                             | Smile                                                                                        |\n",
    "| ------------------------------- | ------------------------------------------------------------------------------------ | -------------------------------------------------------------------------------------------- |\n",
    "| **Primary focus**               | Data manipulation and exploratory data analysis (EDA), similar to pandas in Python   | Machine learning, statistics, and data analysis library with ML models and algorithms        |\n",
    "| **DataFrame support**           | Yes, Tablesaw provides a rich DataFrame API for tabular data manipulation            | Yes, Smile provides DataFrame, but often more focused on ML workflows                        |\n",
    "| **ML Algorithms**               | Minimal or no built-in ML algorithms; mainly for data wrangling and analysis         | Extensive ML support: classification, regression, clustering, dimensionality reduction, etc. |\n",
    "| **Data types support**          | Supports various column types (numeric, categorical, date, etc.) with convenient API | Supports different types but with a focus on numeric data for ML                             |\n",
    "| **Data visualization**          | Limited built-in support, but can export or integrate with Java plotting libs        | Very limited visualization; focus is on ML and stats                                         |\n",
    "| **Performance**                 | Efficient for in-memory tabular data; good for typical data wrangling tasks          | Highly optimized for numerical computation and ML tasks                                      |\n",
    "| **Missing value handling**      | Good support for missing data in tables                                              | Supports missing data but less focus on data cleaning than Tablesaw                          |\n",
    "| **API complexity**              | Simple and intuitive for data manipulation and EDA                                   | More complex, with many ML-related classes and utilities                                     |\n",
    "| **Community and documentation** | Growing, focused on data manipulation                                                | Mature, with focus on ML and statistics                                                      |\n",
    "| **Integration**                 | Easy integration with Java projects for ETL, data manipulation                       | Great for projects requiring ML algorithms and predictive modeling                           |\n"
   ]
  },
  {
   "cell_type": "markdown",
   "id": "cc1d8830",
   "metadata": {},
   "source": [
    "## TableSaw"
   ]
  },
  {
   "cell_type": "raw",
   "id": "d197d0ab",
   "metadata": {},
   "source": []
  },
  {
   "cell_type": "markdown",
   "id": "2465a3c0",
   "metadata": {},
   "source": [
    "# Titanic Data Project Overview\n",
    "\n",
    "This project explores the Titanic dataset using Java, with three main components for data preprocessing, analysis, and machine learning modeling.\n",
    "\n",
    "---\n",
    "\n",
    "## 1. `TitanicPreprocess.java` — *Data Cleaning & Preparation*\n",
    "\n",
    "Prepares the raw Titanic dataset for analysis and modeling:\n",
    "\n",
    "- Loads the raw dataset from a CSV file.\n",
    "- Adds a new `\"Alone\"` column to indicate whether a passenger was traveling alone.\n",
    "- Removes irrelevant columns: `PassengerId`, `Name`, `Ticket`, and `Cabin`.\n",
    "- Encodes categorical variables:\n",
    "  - `Sex`: `male → 1`, `female → 0`\n",
    "  - `Embarked`: `C → 1`, `Q → 2`, `S → 3`\n",
    "- Fills missing values with the median of each column.\n",
    "- Saves the cleaned dataset to `titanic_cleaned.csv`.\n",
    "\n",
    "---\n",
    "\n",
    "## 2. `TitanicAnalysis.java` — *Exploratory Data Analysis (EDA)*\n",
    "\n",
    "Performs visual and statistical analysis on the Titanic dataset:\n",
    "\n",
    "- Loads the raw dataset from a CSV file.\n",
    "- Adds the `\"Alone\"` column.\n",
    "- Splits data into subsets of survivors and non-survivors.\n",
    "- Calculates and visualizes:\n",
    "  - **Survival rate by gender**\n",
    "  - **Survival rate based on fare price**\n",
    "  - **Comparison of survival for passengers traveling alone vs. with family**\n",
    "  - **Age distribution among survivors and non-survivors**\n",
    "\n",
    "---\n",
    "\n",
    "## 3. `TitanicML.java` — *Machine Learning Modeling*\n",
    "\n",
    "Builds and evaluates ML models using the cleaned dataset:\n",
    "\n",
    "- Loads and processes the data (similar to `TitanicPreprocess.java`).\n",
    "- Normalizes numerical features to a 0–1 range.\n",
    "- Converts Tablesaw tables to Weka instances.\n",
    "- Trains two models:\n",
    "  - **Decision Tree (J48)**\n",
    "  - **Logistic Regression**\n",
    "- Evaluates the models using cross-validation.\n",
    "\n",
    "---\n",
    "\n",
    "## Recommended Execution Order\n",
    "\n",
    "To ensure a smooth workflow, run the scripts in this order:\n",
    "\n",
    "1. **`TitanicPreprocess.java`**  \n",
    "   Cleans the dataset and generates `titanic_cleaned.csv`.\n",
    "\n",
    "2. **`TitanicAnalysis.java`**  \n",
    "   Performs EDA and generates insights and visualizations.\n",
    "\n",
    "3. **`TitanicML.java`**  \n",
    "   Runs machine learning models on the cleaned dataset."
   ]
  },
  {
   "cell_type": "markdown",
   "id": "6c7b5c18",
   "metadata": {},
   "source": [
    "### 1. Tablesaw: Data Analysis & Preprocessing\n",
    "Tablesaw is a Java library for data manipulation, cleaning, and visualization—similar to pandas in Python.\n",
    "\n",
    "Where is Tablesaw used?\n",
    "TitanicPreprocess.java: Cleans and transforms the raw Titanic data.\n",
    "TitanicAnalysis.java: Performs exploratory data analysis and visualization.\n",
    "TitanicML.java: Prepares data for machine learning."
   ]
  },
  {
   "cell_type": "markdown",
   "id": "00201f2f",
   "metadata": {},
   "source": [
    "Example: Loading Data with Tablesaw"
   ]
  },
  {
   "cell_type": "code",
   "execution_count": null,
   "id": "6255b384",
   "metadata": {
    "vscode": {
     "languageId": "java"
    }
   },
   "outputs": [],
   "source": [
    "import tech.tablesaw.api.Table;\n",
    "import java.io.InputStream;\n",
    "\n",
    "InputStream inputStream = TitanicAnalysis.class.getResourceAsStream(\"/data/titanic.csv\");\n",
    "Table titanic = Table.read().csv(inputStream);"
   ]
  },
  {
   "cell_type": "markdown",
   "id": "6c820a14",
   "metadata": {},
   "source": [
    "Purpose:\n",
    "\n",
    "Loads the Titanic CSV file into a Tablesaw Table object for further processing.\n",
    "\n",
    "Example: Data Cleaning & Feature Engineering"
   ]
  },
  {
   "cell_type": "code",
   "execution_count": null,
   "id": "47e5b4d3",
   "metadata": {
    "vscode": {
     "languageId": "java"
    }
   },
   "outputs": [],
   "source": [
    "NumericColumn<?> sibSpColumn = titanic.numberColumn(\"SibSp\");\n",
    "NumericColumn<?> parchColumn = titanic.numberColumn(\"Parch\");\n",
    "BooleanColumn aloneColumn = BooleanColumn.create(\"Alone\", titanic.rowCount());\n",
    "for (int i = 0; i < titanic.rowCount(); i++) {\n",
    "    boolean isAlone = ((Number) sibSpColumn.get(i)).doubleValue() == 0 && ((Number) parchColumn.get(i)).doubleValue() == 0;\n",
    "    aloneColumn.set(i, isAlone);\n",
    "}\n",
    "titanic.addColumns(aloneColumn);"
   ]
  },
  {
   "cell_type": "markdown",
   "id": "4b7e498e",
   "metadata": {},
   "source": [
    "Purpose:\n",
    "Adds a new column \"Alone\" to indicate if a passenger was traveling alone.\n",
    "\n",
    "Example: Data Visualization"
   ]
  },
  {
   "cell_type": "code",
   "execution_count": null,
   "id": "1b3cffcc",
   "metadata": {
    "vscode": {
     "languageId": "java"
    }
   },
   "outputs": [],
   "source": [
    "import tech.tablesaw.plotly.Plot;\n",
    "import tech.tablesaw.plotly.api.Histogram;\n",
    "\n",
    "Plot.show(Histogram.create(\"Fare Distribution\", titanic.numberColumn(\"Fare\")));"
   ]
  },
  {
   "cell_type": "markdown",
   "id": "2330f2f3",
   "metadata": {},
   "source": [
    "Purpose:\n",
    "\n",
    "Plots a histogram of the \"Fare\" column for visual analysis.\n",
    "\n",
    "### 2. Weka: Machine Learning\n",
    "Weka is a Java library for machine learning, providing algorithms and evaluation tools.\n",
    "\n",
    "Where is Weka used?\n",
    "TitanicML.java: Converts cleaned data into a format Weka understands, trains models, and evaluates them.\n",
    "Example: Converting Tablesaw Table to Weka Instances"
   ]
  },
  {
   "cell_type": "code",
   "execution_count": null,
   "id": "c70b2aeb",
   "metadata": {
    "vscode": {
     "languageId": "java"
    }
   },
   "outputs": [],
   "source": [
    "import weka.core.*;\n",
    "\n",
    "private static Instances convertTableToWeka(Table table) {\n",
    "    List<Attribute> attributes = new ArrayList<>();\n",
    "    for (Column<?> col : table.columns()) {\n",
    "        if (col.type().equals(ColumnType.STRING)) {\n",
    "            List<String> classValues = new ArrayList<>();\n",
    "            table.stringColumn(col.name()).unique().forEach(classValues::add);\n",
    "            attributes.add(new Attribute(col.name(), classValues));\n",
    "        } else {\n",
    "            attributes.add(new Attribute(col.name()));\n",
    "        }\n",
    "    }\n",
    "    Instances data = new Instances(\"Titanic\", new ArrayList<>(attributes), table.rowCount());\n",
    "    for (Row row : table) {\n",
    "        double[] values = new double[table.columnCount()];\n",
    "        for (int i = 0; i < table.columnCount(); i++) {\n",
    "            Column<?> col = table.column(i);\n",
    "            if (col.type() == ColumnType.INTEGER) {\n",
    "                values[i] = row.getInt(i);\n",
    "            } else if (col.type() == ColumnType.DOUBLE) {\n",
    "                values[i] = row.getDouble(i);\n",
    "            } else if (col.type() == ColumnType.STRING) {\n",
    "                values[i] = attributes.get(i).indexOfValue(row.getString(i));\n",
    "            }\n",
    "        }\n",
    "        data.add(new DenseInstance(1.0, values));\n",
    "    }\n",
    "    return data;\n",
    "}"
   ]
  },
  {
   "cell_type": "markdown",
   "id": "d4680365",
   "metadata": {},
   "source": [
    "Purpose:\n",
    "Converts a Tablesaw Table into Weka Instances, which is the format Weka uses for machine learning.\n",
    "\n",
    "Example: Training and Evaluating Models with Weka"
   ]
  },
  {
   "cell_type": "code",
   "execution_count": null,
   "id": "34ea56fc",
   "metadata": {
    "vscode": {
     "languageId": "java"
    }
   },
   "outputs": [],
   "source": [
    "import weka.classifiers.trees.J48;\n",
    "import weka.classifiers.functions.Logistic;\n",
    "\n",
    "J48 tree = new J48();\n",
    "tree.buildClassifier(data);\n",
    "\n",
    "Logistic logistic = new Logistic();\n",
    "logistic.buildClassifier(data);\n",
    "\n",
    "// Evaluate with cross-validation\n",
    "evaluateModel(tree, data, \"Decision Tree\");\n",
    "evaluateModel(logistic, data, \"Logistic Regression\");"
   ]
  },
  {
   "cell_type": "markdown",
   "id": "b87b9ccb",
   "metadata": {},
   "source": [
    "Purpose:\n",
    "\n",
    "Trains a Decision Tree (J48) and Logistic Regression model on the Titanic data.\n",
    "Evaluates models using cross-validation."
   ]
  },
  {
   "cell_type": "markdown",
   "id": "066d53b1",
   "metadata": {},
   "source": [
    "## Popcorn Hack\n",
    "\n",
    "### - Run the Titanic code on your own computer\n",
    "### - Use Tablesaw to visualize the class distribution (first, second, third class) of the Titanic data\n"
   ]
  },
  {
   "cell_type": "markdown",
   "id": "5c6bd0c3",
   "metadata": {},
   "source": [
    "## Lets Look at a Titanic Example"
   ]
  }
 ],
 "metadata": {
  "kernelspec": {
   "display_name": "Java",
   "language": "java",
   "name": "java"
  },
  "language_info": {
   "codemirror_mode": "java",
   "file_extension": ".jshell",
   "mimetype": "text/x-java-source",
   "name": "Java",
   "pygments_lexer": "java",
   "version": "17.0.14+7-Ubuntu-122.04.1"
  }
 },
 "nbformat": 4,
 "nbformat_minor": 5
}
