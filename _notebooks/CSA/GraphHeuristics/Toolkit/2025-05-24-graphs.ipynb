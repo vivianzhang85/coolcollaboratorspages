{
 "cells": [
  {
   "cell_type": "markdown",
   "id": "0c381e2f",
   "metadata": {},
   "source": [
    "---\n",
    "layout: post\n",
    "title: Graph Heuristics - Intro\n",
    "categories: [Java Spring]\n",
    "permalink: /graphs/intro\n",
    "menu: /nav/graph.html\n",
    "---"
   ]
  },
  {
   "cell_type": "markdown",
   "id": "423573c1",
   "metadata": {},
   "source": [
    "## What is a graph?\n",
    "- not the coordinate plane graph\n",
    "- represents a network of relationships between objects\n",
    "\n",
    "#### Components\n",
    "- Nodes/Vertices\n",
    "- Edges\n",
    "    - Nodes are connected with edges\n",
    "\n",
    "![alt text](/pages/images/image.png)\n",
    "\n",
    "#### Representating a Graph\n",
    "To work with graphs, we need to represent them in code. There are three common ways to do this.\n",
    "\n",
    "1. Node and Edge Sets\n",
    "    - List of Nodes (in this case JGraphT calls them Vertices)\n",
    "    - List of Edges\n",
    "        - Each edge is represented by the two nodes it is connected to\n",
    "\n",
    "2. Adjacency Matrix\n",
    "    - N x N matrix, where N is the number of nodes\n",
    "    - Column and Row for each node\n",
    "    - 1 represents an edge between node and column of cell\n",
    "    - 0 represents no connected between node and column of cell\n",
    "\n",
    "3. Adjacency List\n",
    "    - LinkedList or Dictionary (python)\n",
    "    - 1 key for every node\n",
    "    - Each key's value is a list of all the nodes it is connected to"
   ]
  },
  {
   "cell_type": "code",
   "execution_count": 1,
   "id": "ca7cd420",
   "metadata": {
    "vscode": {
     "languageId": "java"
    }
   },
   "outputs": [],
   "source": [
    "%maven org.jgrapht:jgrapht-core:1.5.1"
   ]
  },
  {
   "cell_type": "code",
   "execution_count": null,
   "id": "1b4bb45f",
   "metadata": {
    "vscode": {
     "languageId": "java"
    }
   },
   "outputs": [
    {
     "name": "stdout",
     "output_type": "stream",
     "text": [
      "Vertices: [0, 1, 2, 3, 4, 5, 6, 7, 8, 9]\n",
      "Edges: [(3 : 5), (8 : 7), (7 : 3), (2 : 4), (3 : 1), (0 : 1), (4 : 5), (1 : 2), (8 : 3), (6 : 3), (5 : 6), (5 : 1), (2 : 3), (4 : 0), (1 : 9)]\n",
      "\n",
      "Adjacency Matrix:\n",
      "  0 1 2 3 4 5 6 7 8 9 \n",
      "0 0 1 0 0 1 0 0 0 0 0 \n",
      "1 1 0 1 1 0 1 0 0 0 1 \n",
      "2 0 1 0 1 1 0 0 0 0 0 \n",
      "3 0 1 1 0 0 1 1 1 1 0 \n",
      "4 1 0 1 0 0 1 0 0 0 0 \n",
      "5 0 1 0 1 1 0 1 0 0 0 \n",
      "6 0 0 0 1 0 1 0 0 0 0 \n",
      "7 0 0 0 1 0 0 0 0 1 0 \n",
      "8 0 0 0 1 0 0 0 1 0 0 \n",
      "9 0 1 0 0 0 0 0 0 0 0 \n",
      "\n",
      "Adjacency List:\n",
      "0: [1, 4]\n",
      "1: [0, 2, 3, 5, 9]\n",
      "2: [1, 3, 4]\n",
      "3: [1, 2, 5, 6, 7, 8]\n",
      "4: [0, 2, 5]\n",
      "5: [1, 3, 4, 6]\n",
      "6: [3, 5]\n",
      "7: [3, 8]\n",
      "8: [3, 7]\n",
      "9: [1]\n"
     ]
    }
   ],
   "source": [
    "import org.jgrapht.*;\n",
    "import org.jgrapht.graph.*;\n",
    "import org.jgrapht.generate.*;\n",
    "import org.jgrapht.util.SupplierUtil;\n",
    "\n",
    "import java.util.*;\n",
    "import java.util.function.Supplier;\n",
    "\n",
    "Supplier<String> vSupplier = new Supplier<>() {\n",
    "    private int id = 0;\n",
    "    public String get() { return \"\" + id++; }\n",
    "};\n",
    "\n",
    "Graph<String, DefaultEdge> g = new SimpleGraph<>(vSupplier, SupplierUtil.createDefaultEdgeSupplier(), false);\n",
    "\n",
    "GnmRandomGraphGenerator<String, DefaultEdge> generator = new GnmRandomGraphGenerator<>(10, 15);\n",
    "generator.generateGraph(g);\n",
    "\n",
    "System.out.println(\"Vertices: \" + g.vertexSet());\n",
    "System.out.println(\"Edges: \" + g.edgeSet());\n",
    "\n",
    "List<String> vertices = new ArrayList<>(g.vertexSet());\n",
    "Collections.sort(vertices);\n",
    "\n",
    "System.out.println(\"\\nAdjacency Matrix:\");\n",
    "System.out.print(\"  \");\n",
    "for (String v : vertices) {\n",
    "    System.out.print(v + \" \");\n",
    "}\n",
    "System.out.println();\n",
    "\n",
    "for (String v1 : vertices) {\n",
    "    System.out.print(v1 + \" \");\n",
    "    for (String v2 : vertices) {\n",
    "        boolean connected = g.containsEdge(v1, v2);\n",
    "        System.out.print((connected ? 1 : 0) + \" \");\n",
    "    }\n",
    "    System.out.println();\n",
    "}\n",
    "\n",
    "System.out.println(\"\\nAdjacency List:\");\n",
    "for (String v : vertices) {\n",
    "    Set<DefaultEdge> edges = g.edgesOf(v);\n",
    "    List<String> neighbors = new ArrayList<>();\n",
    "    for (DefaultEdge e : edges) {\n",
    "        String src = g.getEdgeSource(e);\n",
    "        String tgt = g.getEdgeTarget(e);\n",
    "        if (src.equals(v)) {\n",
    "            neighbors.add(tgt);\n",
    "        } else {\n",
    "            neighbors.add(src);\n",
    "        }\n",
    "    }\n",
    "    Collections.sort(neighbors);\n",
    "    System.out.println(v + \": \" + neighbors);\n",
    "}\n"
   ]
  },
  {
   "cell_type": "markdown",
   "id": "a1b3ac08",
   "metadata": {},
   "source": [
    "### Popcorn Hack #1\n",
    "Which of the three representations above is most efficient?\n",
    "\n",
    "## Types of Graphs\n",
    "#### Weighted\n",
    "In a Weighted Graph, each node is assigned a cost, a number representing cost to traverse that edge. The total cost is the sum of the costs of all nodes traveled. Weighted graphs are useful where traveling between different nodes is less or more prefereable.\n",
    "\n",
    "#### Directed\n",
    "In a directed Graph, each node can only be traveled in one direction. \n",
    "\n",
    "\n",
    "## Real Applications\n",
    "1. Traveling Salesman Problem\n",
    "    - Salesman must travel to every city to sell his products. He wants to do so in least possible time\n",
    "    - City = Node\n",
    "    - Path between Cities = Edge\n",
    "    - Weighted by time it takes to travel between cities\n",
    "    - Hamiltonian Path/Cycle: path must visit each node exactly once"
   ]
  },
  {
   "cell_type": "markdown",
   "id": "98be847f",
   "metadata": {},
   "source": [
    "### Homework Part 1\n",
    "1. How might I represented a weighted graph? \n",
    "    - Using an Adjacency List?\n",
    "    - Using a Vertex and Edge Set?\n",
    "2. How might I represented a directed graph?\n",
    "    - Using an Adjacency List?\n",
    "    - Using a Vertex and Edge Set?\n",
    "3. Represent the following graph using an adjacency matrix\n",
    "\n",
    "![9757ead7-b8c2-42af-ad8c-b8caafa502bc.png](/pages/images/9757ead7-b8c2-42af-ad8c-b8caafa502bc.png)\n"
   ]
  }
 ],
 "metadata": {
  "kernelspec": {
   "display_name": "Java",
   "language": "java",
   "name": "java"
  },
  "language_info": {
   "codemirror_mode": "java",
   "file_extension": ".jshell",
   "mimetype": "text/x-java-source",
   "name": "Java",
   "pygments_lexer": "java",
   "version": "17.0.14+7-Ubuntu-122.04.1"
  }
 },
 "nbformat": 4,
 "nbformat_minor": 5
}
