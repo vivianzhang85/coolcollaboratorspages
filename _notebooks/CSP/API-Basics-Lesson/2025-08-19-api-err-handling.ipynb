{
 "cells": [
  {
   "cell_type": "raw",
   "id": "a55c41ff",
   "metadata": {
    "vscode": {
     "languageId": "raw"
    }
   },
   "source": [
    "---\n",
    "layout: post\n",
    "title: API Basics Lesoon Intro\n",
    "description:  Asynchronous Programming For APIs\n",
    "Author: Shay Mortenson\n",
    "permalink: /api-basics/lesson/error-handling\n",
    "---"
   ]
  },
  {
   "cell_type": "markdown",
   "id": "2df2b22a",
   "metadata": {},
   "source": [
    "# Lesson: Error Handling with `try`, `throw`, and `catch`\n",
    "\n",
    "### Objective\n",
    "Understand how JavaScript handles errors using `try`, `throw`, and `catch`, and why this is important when writing reliable programs.\n",
    "\n",
    "---\n",
    "\n",
    "### Why Error Handling Matters\n",
    "When code runs, things can go wrong:\n",
    "- A user enters the wrong input.\n",
    "- Data from an API is missing or corrupted.\n",
    "- A calculation doesn’t make sense (like dividing by 0).\n",
    "\n",
    "Without error handling, the program might **crash completely**.  \n",
    "With error handling, we can **catch problems and respond safely**.\n"
   ]
  },
  {
   "cell_type": "markdown",
   "id": "b118ac40",
   "metadata": {},
   "source": [
    "##  1. `try`\n",
    "- The “test zone.”\n",
    "- Put code here that might cause an error.\n",
    "- If everything works, the program continues normally.\n",
    "- If something fails, it jumps straight to the `catch`.\n"
   ]
  },
  {
   "cell_type": "code",
   "execution_count": null,
   "id": "043cb5b6",
   "metadata": {
    "vscode": {
     "languageId": "javascript"
    }
   },
   "outputs": [],
   "source": [
    "\n",
    "\n",
    "try {\n",
    "  let x = JSON.parse(\"oops\"); // invalid JSON\n",
    "} catch (err) {\n",
    "  console.log(\"Error caught:\", err.message);\n",
    "}\n"
   ]
  },
  {
   "cell_type": "markdown",
   "id": "c934faf3",
   "metadata": {},
   "source": [
    "##  2. `throw`\n",
    "- The “signal flare.”\n",
    "- Lets you create your own errors on purpose.\n",
    "- Use when you detect something wrong in the data.\n"
   ]
  },
  {
   "cell_type": "code",
   "execution_count": null,
   "id": "486192c7",
   "metadata": {
    "vscode": {
     "languageId": "javascript"
    }
   },
   "outputs": [],
   "source": [
    "try {\n",
    "  let age = -3;\n",
    "  if (age < 0) {\n",
    "    throw \"Age cannot be negative!\";\n",
    "  }\n",
    "} catch (err) {\n",
    "  console.log(\"Error caught:\", err);\n",
    "}\n"
   ]
  },
  {
   "cell_type": "markdown",
   "id": "cf4e6224",
   "metadata": {},
   "source": [
    "##  3. `catch`\n",
    "- The “safety net.”\n",
    "- Runs only if an error happened in the `try`.\n",
    "- Gives you a chance to explain or fix the issue instead of crashing.\n"
   ]
  },
  {
   "cell_type": "code",
   "execution_count": null,
   "id": "1611740f",
   "metadata": {
    "vscode": {
     "languageId": "javascript"
    }
   },
   "outputs": [],
   "source": [
    "try {\n",
    "  throw \"Something went wrong!\";\n",
    "} catch (error) {\n",
    "  console.log(\"Error caught:\", error);\n",
    "}\n"
   ]
  },
  {
   "cell_type": "markdown",
   "id": "df437068",
   "metadata": {
    "vscode": {
     "languageId": "javascript"
    }
   },
   "source": [
    "##  All Together\n"
   ]
  },
  {
   "cell_type": "code",
   "execution_count": null,
   "id": "6c3e94ec",
   "metadata": {
    "vscode": {
     "languageId": "javascript"
    }
   },
   "outputs": [],
   "source": [
    "try {\n",
    "  let userInput = \"not-a-number\";\n",
    "  let number = Number(userInput);\n",
    "\n",
    "  if (isNaN(number)) {\n",
    "    throw \"Invalid number input!\";\n",
    "  }\n",
    "\n",
    "  console.log(\"Valid number:\", number);\n",
    "} catch (err) {\n",
    "  console.log(\"Oops, error:\", err);\n",
    "}\n"
   ]
  },
  {
   "cell_type": "markdown",
   "id": "77ffafa8",
   "metadata": {},
   "source": [
    "## ✅ Summary\n",
    "- `try` → test code that might fail.  \n",
    "- `throw` → create or signal an error.  \n",
    "- `catch` → handle the error safely.  \n",
    "\n",
    "This keeps programs from crashing and helps you control what happens when something goes wrong.\n"
   ]
  }
 ],
 "metadata": {
  "language_info": {
   "name": "python"
  }
 },
 "nbformat": 4,
 "nbformat_minor": 5
}
