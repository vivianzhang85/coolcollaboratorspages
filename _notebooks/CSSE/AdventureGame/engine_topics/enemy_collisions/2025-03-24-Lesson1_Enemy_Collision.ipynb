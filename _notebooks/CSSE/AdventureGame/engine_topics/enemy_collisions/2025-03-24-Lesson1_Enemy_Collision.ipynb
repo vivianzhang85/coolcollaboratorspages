{
 "cells": [
  {
   "cell_type": "code",
   "execution_count": null,
   "metadata": {
    "vscode": {
     "languageId": "yaml"
    }
   },
   "outputs": [],
   "source": [
    "---\n",
    "layout: post\n",
    "categories: [Adventure Game]\n",
    "title: Overworld Level Profiles \n",
    "description:  Programmer Profiles \n",
    "type: issues \n",
    "comments: true\n",
    "permalink: /overworld/EnemyCollision1\n",
    "---"
   ]
  },
  {
   "cell_type": "markdown",
   "metadata": {},
   "source": [
    "# Enemy Collisions\n",
    "\n",
    "Our game is already filled with different types of collision reactions with NPCs. However, in order to make our game even more challenging, we can introduce the idea of having an Enemy. Having an enemy doesn't come without its consequences. In this lesson, you will learn how to create consequences when our player collides with an enemy. "
   ]
  },
  {
   "cell_type": "markdown",
   "metadata": {},
   "source": [
    "### Creating an Enemy\n",
    "In order to make our enemy, we decided to create a new class for it. We made a new .js file titled 'Enemy.js'. Like the other aspects of our game, this allows us to store all the functions for the enemy and create consequences for collisions without making a mess of our code. We extended this class from our character class. There it is:\n",
    "\n",
    "```js\n",
    "import Character from './Character.js';\n",
    "import Player from './Player.js';\n",
    "\n",
    "class Enemy extends Character {\n",
    "    constructor(data = null, gameEnv = null) {\n",
    "        super(data, gameEnv);\n",
    "        this.playerDestroyed = false; // Tracks if the player has been \"killed\"\n",
    "    }\n",
    "\n",
    "    // Overrides the update method to handle collision detection.\n",
    "    update() {\n",
    "        // Start by drawing the object\n",
    "        this.draw();\n",
    "\n",
    "        // Check if the enemy collides with the player\n",
    "        if (!this.playerDestroyed && this.collisionChecks()) {\n",
    "            this.handleCollisionEvent();\n",
    "        }\n",
    "    }\n",
    "\n",
    "    // Checks if the Enemy collides with the Player.\n",
    "    // Returns true if a collision is detected, otherwise false.\n",
    "    collisionChecks() {\n",
    "        for (const gameObj of this.gameEnv.gameObjects) {\n",
    "            if (gameObj instanceof Player) {\n",
    "                this.isCollision(gameObj);\n",
    "                if (this.collisionData.hit) {\n",
    "                    return true;\n",
    "                }\n",
    "            }\n",
    "        }\n",
    "        return false;\n",
    "    }\n",
    "\n",
    "    // Handles what happens when the player collides with the enemy.\n",
    "    handleCollisionEvent() {\n",
    "        console.log(\"Player collided with the Enemy. Player is dead.\");\n",
    "        this.playerDestroyed = true; // Mark the player as \"dead\"\n",
    "        this.gameEnv.gameControl.currentLevel.continue = false; // Restart the level\n",
    "    }\n",
    "}\n",
    "\n",
    "export default Enemy;\n",
    ";\n",
    "```\n",
    "Having the enemy be its own special case file is important because it allows for the enemy to be able to restart the game and have the player die. It being its own class allows it to have special consequences that affect the gameplay.\n",
    "\n",
    "In this version, we have it so that the player dies and the game automatically resets after collision. There are no animations in this version--that's for the next lesson. \n",
    "\n",
    "### Explanation:\n",
    "This file is very similar to the NPC.js except in this case, it creates a way for something to happen when the player and enemy collide with each other.\n",
    "\n",
    "For example, in the very beginning of the file, it checks if the player is destroyed (`this.playerDestroyed = false`) and we set it to false so that it can be changed to true later on in the code. \n",
    "\n",
    "Then it goes to collisionChecks which simply checks if the enemy is colliding with the player. If the player is collided with the enemy then `this.collisionData.hit` returns true because the player and the enemy are colliding. If its true, a `handleCollisionEvent` occurs, which runs the following:\n",
    "\n",
    "* We used `console.log` to print a message after they collide\n",
    "* `this.playerDestroyed = false` is changed to `this.playerDestroyed = true`, what we were talking about in the beginning player should be 'dead'\n",
    "* `this.gameEnv.gameControl.currentLevel.continue = false`; this part of the function terminates the game loop and stops the player from continuing to the next level.\n",
    "\n",
    "Now, in order to make more specific functions for the creeper (or whatever enemy you have), we created another class extending from the enemy class. We named it 'Creeper.js.' \n",
    "\n",
    "Having a separate creeper class extending from the enemy class allows us to have even more specific functions for an enemy. This is helpful for when you have multiple enemies with different functions associated. It allows your game to be more nuanced in its story, the interactions, characters, etc."
   ]
  }
 ],
 "metadata": {
  "language_info": {
   "name": "python"
  }
 },
 "nbformat": 4,
 "nbformat_minor": 2
}
