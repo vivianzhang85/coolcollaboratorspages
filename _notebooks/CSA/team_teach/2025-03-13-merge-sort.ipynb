{
 "cells": [
  {
   "cell_type": "markdown",
   "metadata": {},
   "source": [
    "---\n",
    "layout: post\n",
    "title: Merge Sort Team Teach\n",
    "type: issues \n",
    "courses: { csa: {week: 8} }\n",
    "comments: true\n",
    "permalink: /csa/team_teach/merge_sort\n",
    "---"
   ]
  },
  {
   "cell_type": "markdown",
   "metadata": {},
   "source": [
    "# What is Merge Sorting?\n",
    "![Image](https://github.com/user-attachments/assets/274b1e6c-1ff9-45c3-8064-1d11606e0e34)\n",
    "- Highly efficient sorting algorithm that uses \"**divide and conquer**\" to sort a list\n",
    "- Repeatedly divides sublists until the list has one element, then merges sublists to a sorted list\n",
    "\n",
    "### Pros\n",
    "1. Efficiency\n",
    "- Time complexity of O(nlogn)\n",
    "    - Time taken to sort data grows slowly as size of data increases, so good for large datasets\n",
    "2. Stability\n",
    "- **Stable sorting algorithm** - preserves the order of elements with equal values during sorting\n",
    "\n",
    "![Image](https://github.com/user-attachments/assets/ad53eeb8-4618-49d1-ba91-e25b67dcc9c8)"
   ]
  },
  {
   "cell_type": "markdown",
   "metadata": {},
   "source": [
    "# Merge Sort vs. Other Sorting Algorithms\n",
    "\n",
    "| **Algorithm**     | **Time Complexity (Best)** | **Average Time Complexity** | **Stable?** | **Notes**                                                                 |\n",
    "|-------------------|----------------------------|------------------------------|-------------|----------------------------------------------------------------------------|\n",
    "| **Merge Sort**     | O(n log n)                 |    O(nlog(n))                          | ✅ Yes      | Great for linked lists & large datasets. Predictable performance.          |\n",
    "| **Quick Sort**     | O(n log n)                 |   O(nlog(n))                           | ❌ No       | Very fast in practice, but not stable.                                     |\n",
    "| **Bubble Sort**    | O(n)                       |     O(n²)                        | ✅ Yes      | Educational and simple, but inefficient for large datasets.                |\n",
    "| **Selection Sort** | O(n²)                      |    O(n²)                          | ❌ No       | Inefficient and not stable, but easy to understand.                        |\n",
    "| **Insertion Sort** | O(n)                       |     O(n²)                         | ✅ Yes      | Excellent for nearly sorted or small datasets. Often used in hybrids.      |\n"
   ]
  },
  {
   "cell_type": "markdown",
   "metadata": {},
   "source": [
    "# Why Not Quick Sort?\n",
    "![Image](https://github.com/user-attachments/assets/de84e48a-e1ed-42ca-b011-cd91c4c54170)\n",
    "- Selection of pivot matters \n",
    "    - Program picks position in the unsorted array, which may not be the \"middle\" value\n",
    "- If value is too large or too small, may become inefficient \n",
    "- Also unstable if equal values in array \n",
    "    - Order of equal values may not be preserved, increases instability "
   ]
  },
  {
   "cell_type": "markdown",
   "metadata": {},
   "source": [
    "# Merge Sort Process\n",
    "Step 1: Divide the Array \n",
    "- Find the middle of the array.\n",
    "- Split the array into two halves.\n",
    "- Repeat this until each half has only one element (base case).\n",
    "Step 2: Conquer - Sort Each Half 🎯\n",
    "- Since an array with one element is already sorted, start merging.\n",
    "Step 3: Merge the Halves 🏗️\n",
    "- Take two sorted halves.\n",
    "- Compare elements from each half and merge them into a single sorted array.\n",
    "- Continue merging until the entire array is sorted."
   ]
  },
  {
   "cell_type": "markdown",
   "metadata": {},
   "source": [
    "# Odd Number Array \n",
    "![Image](https://github.com/user-attachments/assets/127d05d5-6213-4c18-8e9f-78c79e5d54fc)\n",
    "- Divide into almost halves\n",
    "    - Left half has extra element\n",
    "- Pretend single element has partner element, conduct same process"
   ]
  },
  {
   "cell_type": "markdown",
   "metadata": {},
   "source": [
    "### Popcorn Hack\n",
    "\n",
    " Write a Java program that merges two already sorted arrays into one sorted array without using extra sorting functions."
   ]
  }
 ],
 "metadata": {
  "language_info": {
   "name": "python"
  }
 },
 "nbformat": 4,
 "nbformat_minor": 2
}
